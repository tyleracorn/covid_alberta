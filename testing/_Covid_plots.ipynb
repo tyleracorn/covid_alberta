{
 "cells": [
  {
   "cell_type": "markdown",
   "metadata": {},
   "source": [
    "# Covid Plots\n",
    "\n",
    "I wanted to test out using jupyter notebook to show off some plotly graphs. So here goes. "
   ]
  },
  {
   "cell_type": "code",
   "execution_count": null,
   "metadata": {},
   "outputs": [],
   "source": [
    "%load_ext autoreload\n",
    "%autoreload 2"
   ]
  },
  {
   "cell_type": "code",
   "execution_count": null,
   "metadata": {},
   "outputs": [],
   "source": [
    "import pandas as pd\n",
    "import matplotlib.pyplot as plt\n",
    "import numpy as np\n",
    "import plotly.graph_objects as go\n",
    "from plotly.subplots import make_subplots\n",
    "from covid_alberta import *"
   ]
  },
  {
   "cell_type": "code",
   "execution_count": null,
   "metadata": {},
   "outputs": [],
   "source": [
    "abC19scaper = albertaC19(totals_update_fig_order=dict(daily_cases=2, case_status=0))"
   ]
  },
  {
   "cell_type": "code",
   "execution_count": null,
   "metadata": {},
   "outputs": [],
   "source": [
    "abTotal, abRegion, abTesting = abC19scaper.scrape_all(return_dataframes=True)"
   ]
  },
  {
   "cell_type": "code",
   "execution_count": null,
   "metadata": {},
   "outputs": [
    {
     "data": {
      "text/html": [
       "<div>\n",
       "<style scoped>\n",
       "    .dataframe tbody tr th:only-of-type {\n",
       "        vertical-align: middle;\n",
       "    }\n",
       "\n",
       "    .dataframe tbody tr th {\n",
       "        vertical-align: top;\n",
       "    }\n",
       "\n",
       "    .dataframe thead th {\n",
       "        text-align: right;\n",
       "    }\n",
       "</style>\n",
       "<table border=\"1\" class=\"dataframe\">\n",
       "  <thead>\n",
       "    <tr style=\"text-align: right;\">\n",
       "      <th></th>\n",
       "      <th>test_count</th>\n",
       "    </tr>\n",
       "  </thead>\n",
       "  <tbody>\n",
       "    <tr>\n",
       "      <th>2020-01-24</th>\n",
       "      <td>1</td>\n",
       "    </tr>\n",
       "    <tr>\n",
       "      <th>2020-01-27</th>\n",
       "      <td>1</td>\n",
       "    </tr>\n",
       "    <tr>\n",
       "      <th>2020-01-28</th>\n",
       "      <td>8</td>\n",
       "    </tr>\n",
       "    <tr>\n",
       "      <th>2020-01-30</th>\n",
       "      <td>3</td>\n",
       "    </tr>\n",
       "    <tr>\n",
       "      <th>2020-02-03</th>\n",
       "      <td>7</td>\n",
       "    </tr>\n",
       "    <tr>\n",
       "      <th>...</th>\n",
       "      <td>...</td>\n",
       "    </tr>\n",
       "    <tr>\n",
       "      <th>2020-04-13</th>\n",
       "      <td>1985</td>\n",
       "    </tr>\n",
       "    <tr>\n",
       "      <th>2020-04-14</th>\n",
       "      <td>2388</td>\n",
       "    </tr>\n",
       "    <tr>\n",
       "      <th>2020-04-15</th>\n",
       "      <td>2921</td>\n",
       "    </tr>\n",
       "    <tr>\n",
       "      <th>2020-04-16</th>\n",
       "      <td>2903</td>\n",
       "    </tr>\n",
       "    <tr>\n",
       "      <th>2020-04-17</th>\n",
       "      <td>2487</td>\n",
       "    </tr>\n",
       "  </tbody>\n",
       "</table>\n",
       "<p>74 rows × 1 columns</p>\n",
       "</div>"
      ],
      "text/plain": [
       "            test_count\n",
       "2020-01-24           1\n",
       "2020-01-27           1\n",
       "2020-01-28           8\n",
       "2020-01-30           3\n",
       "2020-02-03           7\n",
       "...                ...\n",
       "2020-04-13        1985\n",
       "2020-04-14        2388\n",
       "2020-04-15        2921\n",
       "2020-04-16        2903\n",
       "2020-04-17        2487\n",
       "\n",
       "[74 rows x 1 columns]"
      ]
     },
     "execution_count": null,
     "metadata": {},
     "output_type": "execute_result"
    }
   ],
   "source": [
    "abTesting"
   ]
  },
  {
   "cell_type": "code",
   "execution_count": null,
   "metadata": {},
   "outputs": [],
   "source": [
    "region_dt = calculate_doublingtimes(abRegion, col_suffix='cumulative', combine_df=False)\n",
    "total_dt = calculate_doublingtimes(abTotal, col_suffix='cum_cases', combine_df=False)\n",
    "\n",
    "all_data = abTotal.join([total_dt, abRegion, region_dt, abTesting])\n",
    "all_data.rename(columns={'Daily_count': 'Ab_cases', \n",
    "                         'cum_cases':'Ab_cumCases', \n",
    "                         'dtime':'Ab_dtime', \n",
    "                         'dtime_rw':'Ab_dtime_rw'}, inplace=True)"
   ]
  },
  {
   "cell_type": "code",
   "execution_count": null,
   "metadata": {},
   "outputs": [
    {
     "data": {
      "text/plain": [
       "Index(['Ab_cumCases', 'Confirmed_count', 'Probable_count', 'Ab_cases',\n",
       "       'Active_cum', 'Died_cum', 'Recovered_cum', 'Ab_dtime', 'Ab_dtime_rw',\n",
       "       'Calgary_cumulative', 'Central_cumulative', 'Edmont_cumulative',\n",
       "       'North_cumulative', 'South_cumulative', 'Unknown_cumulative',\n",
       "       'Calgary_dtime', 'Calgary_dtime_rw', 'Central_dtime',\n",
       "       'Central_dtime_rw', 'Edmont_dtime', 'Edmont_dtime_rw', 'North_dtime',\n",
       "       'North_dtime_rw', 'South_dtime', 'South_dtime_rw', 'Unknown_dtime',\n",
       "       'Unknown_dtime_rw', 'test_count'],\n",
       "      dtype='object')"
      ]
     },
     "execution_count": null,
     "metadata": {},
     "output_type": "execute_result"
    }
   ],
   "source": [
    "all_data.columns"
   ]
  },
  {
   "cell_type": "code",
   "execution_count": null,
   "metadata": {},
   "outputs": [
    {
     "data": {
      "text/html": [
       "<div>\n",
       "<style scoped>\n",
       "    .dataframe tbody tr th:only-of-type {\n",
       "        vertical-align: middle;\n",
       "    }\n",
       "\n",
       "    .dataframe tbody tr th {\n",
       "        vertical-align: top;\n",
       "    }\n",
       "\n",
       "    .dataframe thead th {\n",
       "        text-align: right;\n",
       "    }\n",
       "</style>\n",
       "<table border=\"1\" class=\"dataframe\">\n",
       "  <thead>\n",
       "    <tr style=\"text-align: right;\">\n",
       "      <th></th>\n",
       "      <th>Ab_cumCases</th>\n",
       "      <th>Confirmed_count</th>\n",
       "      <th>Probable_count</th>\n",
       "      <th>Ab_cases</th>\n",
       "      <th>Active_cum</th>\n",
       "      <th>Died_cum</th>\n",
       "      <th>Recovered_cum</th>\n",
       "      <th>Ab_dtime</th>\n",
       "      <th>Ab_dtime_rw</th>\n",
       "      <th>Calgary_cumulative</th>\n",
       "      <th>...</th>\n",
       "      <th>Central_dtime_rw</th>\n",
       "      <th>Edmont_dtime</th>\n",
       "      <th>Edmont_dtime_rw</th>\n",
       "      <th>North_dtime</th>\n",
       "      <th>North_dtime_rw</th>\n",
       "      <th>South_dtime</th>\n",
       "      <th>South_dtime_rw</th>\n",
       "      <th>Unknown_dtime</th>\n",
       "      <th>Unknown_dtime_rw</th>\n",
       "      <th>test_count</th>\n",
       "    </tr>\n",
       "  </thead>\n",
       "  <tbody>\n",
       "    <tr>\n",
       "      <th>2020-03-04</th>\n",
       "      <td>0.0</td>\n",
       "      <td>0.0</td>\n",
       "      <td>0.0</td>\n",
       "      <td>0.0</td>\n",
       "      <td>0.0</td>\n",
       "      <td>0.0</td>\n",
       "      <td>0.0</td>\n",
       "      <td>0.000000</td>\n",
       "      <td>0.000000</td>\n",
       "      <td>NaN</td>\n",
       "      <td>...</td>\n",
       "      <td>NaN</td>\n",
       "      <td>NaN</td>\n",
       "      <td>NaN</td>\n",
       "      <td>NaN</td>\n",
       "      <td>NaN</td>\n",
       "      <td>NaN</td>\n",
       "      <td>NaN</td>\n",
       "      <td>NaN</td>\n",
       "      <td>NaN</td>\n",
       "      <td>71</td>\n",
       "    </tr>\n",
       "    <tr>\n",
       "      <th>2020-03-05</th>\n",
       "      <td>0.0</td>\n",
       "      <td>0.0</td>\n",
       "      <td>0.0</td>\n",
       "      <td>0.0</td>\n",
       "      <td>0.0</td>\n",
       "      <td>0.0</td>\n",
       "      <td>0.0</td>\n",
       "      <td>0.000000</td>\n",
       "      <td>0.000000</td>\n",
       "      <td>NaN</td>\n",
       "      <td>...</td>\n",
       "      <td>NaN</td>\n",
       "      <td>NaN</td>\n",
       "      <td>NaN</td>\n",
       "      <td>NaN</td>\n",
       "      <td>NaN</td>\n",
       "      <td>NaN</td>\n",
       "      <td>NaN</td>\n",
       "      <td>NaN</td>\n",
       "      <td>NaN</td>\n",
       "      <td>55</td>\n",
       "    </tr>\n",
       "    <tr>\n",
       "      <th>2020-03-06</th>\n",
       "      <td>1.0</td>\n",
       "      <td>1.0</td>\n",
       "      <td>0.0</td>\n",
       "      <td>1.0</td>\n",
       "      <td>1.0</td>\n",
       "      <td>0.0</td>\n",
       "      <td>0.0</td>\n",
       "      <td>0.000000</td>\n",
       "      <td>0.000000</td>\n",
       "      <td>1.0</td>\n",
       "      <td>...</td>\n",
       "      <td>0.000000</td>\n",
       "      <td>0.000000</td>\n",
       "      <td>0.000000</td>\n",
       "      <td>0.000000</td>\n",
       "      <td>0.000000</td>\n",
       "      <td>0.000000</td>\n",
       "      <td>0.000000</td>\n",
       "      <td>0.000000</td>\n",
       "      <td>0.000000</td>\n",
       "      <td>62</td>\n",
       "    </tr>\n",
       "    <tr>\n",
       "      <th>2020-03-07</th>\n",
       "      <td>1.0</td>\n",
       "      <td>0.0</td>\n",
       "      <td>0.0</td>\n",
       "      <td>0.0</td>\n",
       "      <td>1.0</td>\n",
       "      <td>0.0</td>\n",
       "      <td>0.0</td>\n",
       "      <td>0.000000</td>\n",
       "      <td>0.000000</td>\n",
       "      <td>NaN</td>\n",
       "      <td>...</td>\n",
       "      <td>NaN</td>\n",
       "      <td>NaN</td>\n",
       "      <td>NaN</td>\n",
       "      <td>NaN</td>\n",
       "      <td>NaN</td>\n",
       "      <td>NaN</td>\n",
       "      <td>NaN</td>\n",
       "      <td>NaN</td>\n",
       "      <td>NaN</td>\n",
       "      <td>276</td>\n",
       "    </tr>\n",
       "    <tr>\n",
       "      <th>2020-03-08</th>\n",
       "      <td>1.0</td>\n",
       "      <td>0.0</td>\n",
       "      <td>0.0</td>\n",
       "      <td>0.0</td>\n",
       "      <td>1.0</td>\n",
       "      <td>0.0</td>\n",
       "      <td>0.0</td>\n",
       "      <td>0.000000</td>\n",
       "      <td>0.000000</td>\n",
       "      <td>NaN</td>\n",
       "      <td>...</td>\n",
       "      <td>NaN</td>\n",
       "      <td>NaN</td>\n",
       "      <td>NaN</td>\n",
       "      <td>NaN</td>\n",
       "      <td>NaN</td>\n",
       "      <td>NaN</td>\n",
       "      <td>NaN</td>\n",
       "      <td>NaN</td>\n",
       "      <td>NaN</td>\n",
       "      <td>443</td>\n",
       "    </tr>\n",
       "    <tr>\n",
       "      <th>2020-03-09</th>\n",
       "      <td>7.0</td>\n",
       "      <td>6.0</td>\n",
       "      <td>0.0</td>\n",
       "      <td>6.0</td>\n",
       "      <td>7.0</td>\n",
       "      <td>0.0</td>\n",
       "      <td>0.0</td>\n",
       "      <td>1.068622</td>\n",
       "      <td>0.000000</td>\n",
       "      <td>4.0</td>\n",
       "      <td>...</td>\n",
       "      <td>0.000000</td>\n",
       "      <td>0.000000</td>\n",
       "      <td>0.000000</td>\n",
       "      <td>0.000000</td>\n",
       "      <td>0.000000</td>\n",
       "      <td>0.000000</td>\n",
       "      <td>0.000000</td>\n",
       "      <td>0.000000</td>\n",
       "      <td>0.000000</td>\n",
       "      <td>724</td>\n",
       "    </tr>\n",
       "    <tr>\n",
       "      <th>2020-03-10</th>\n",
       "      <td>16.0</td>\n",
       "      <td>9.0</td>\n",
       "      <td>0.0</td>\n",
       "      <td>9.0</td>\n",
       "      <td>16.0</td>\n",
       "      <td>0.0</td>\n",
       "      <td>0.0</td>\n",
       "      <td>1.000000</td>\n",
       "      <td>0.000000</td>\n",
       "      <td>10.0</td>\n",
       "      <td>...</td>\n",
       "      <td>0.000000</td>\n",
       "      <td>1.000000</td>\n",
       "      <td>0.000000</td>\n",
       "      <td>0.000000</td>\n",
       "      <td>0.000000</td>\n",
       "      <td>0.000000</td>\n",
       "      <td>0.000000</td>\n",
       "      <td>0.000000</td>\n",
       "      <td>0.000000</td>\n",
       "      <td>971</td>\n",
       "    </tr>\n",
       "    <tr>\n",
       "      <th>2020-03-11</th>\n",
       "      <td>24.0</td>\n",
       "      <td>7.0</td>\n",
       "      <td>1.0</td>\n",
       "      <td>8.0</td>\n",
       "      <td>24.0</td>\n",
       "      <td>0.0</td>\n",
       "      <td>0.0</td>\n",
       "      <td>1.090521</td>\n",
       "      <td>0.000000</td>\n",
       "      <td>16.0</td>\n",
       "      <td>...</td>\n",
       "      <td>0.000000</td>\n",
       "      <td>1.636136</td>\n",
       "      <td>0.000000</td>\n",
       "      <td>0.000000</td>\n",
       "      <td>0.000000</td>\n",
       "      <td>0.000000</td>\n",
       "      <td>0.000000</td>\n",
       "      <td>0.000000</td>\n",
       "      <td>0.000000</td>\n",
       "      <td>966</td>\n",
       "    </tr>\n",
       "    <tr>\n",
       "      <th>2020-03-12</th>\n",
       "      <td>27.0</td>\n",
       "      <td>2.0</td>\n",
       "      <td>1.0</td>\n",
       "      <td>3.0</td>\n",
       "      <td>27.0</td>\n",
       "      <td>0.0</td>\n",
       "      <td>0.0</td>\n",
       "      <td>1.261860</td>\n",
       "      <td>1.261860</td>\n",
       "      <td>18.0</td>\n",
       "      <td>...</td>\n",
       "      <td>0.000000</td>\n",
       "      <td>2.454204</td>\n",
       "      <td>0.000000</td>\n",
       "      <td>0.000000</td>\n",
       "      <td>0.000000</td>\n",
       "      <td>0.000000</td>\n",
       "      <td>0.000000</td>\n",
       "      <td>0.000000</td>\n",
       "      <td>0.000000</td>\n",
       "      <td>1145</td>\n",
       "    </tr>\n",
       "    <tr>\n",
       "      <th>2020-03-13</th>\n",
       "      <td>35.0</td>\n",
       "      <td>8.0</td>\n",
       "      <td>0.0</td>\n",
       "      <td>8.0</td>\n",
       "      <td>35.0</td>\n",
       "      <td>0.0</td>\n",
       "      <td>0.0</td>\n",
       "      <td>1.364713</td>\n",
       "      <td>1.169754</td>\n",
       "      <td>26.0</td>\n",
       "      <td>...</td>\n",
       "      <td>0.000000</td>\n",
       "      <td>3.272272</td>\n",
       "      <td>0.000000</td>\n",
       "      <td>0.000000</td>\n",
       "      <td>0.000000</td>\n",
       "      <td>0.000000</td>\n",
       "      <td>0.000000</td>\n",
       "      <td>0.000000</td>\n",
       "      <td>0.000000</td>\n",
       "      <td>1422</td>\n",
       "    </tr>\n",
       "    <tr>\n",
       "      <th>2020-03-14</th>\n",
       "      <td>54.0</td>\n",
       "      <td>19.0</td>\n",
       "      <td>0.0</td>\n",
       "      <td>19.0</td>\n",
       "      <td>52.0</td>\n",
       "      <td>1.0</td>\n",
       "      <td>1.0</td>\n",
       "      <td>1.390123</td>\n",
       "      <td>1.042592</td>\n",
       "      <td>39.0</td>\n",
       "      <td>...</td>\n",
       "      <td>0.000000</td>\n",
       "      <td>2.363533</td>\n",
       "      <td>0.000000</td>\n",
       "      <td>0.000000</td>\n",
       "      <td>0.000000</td>\n",
       "      <td>0.000000</td>\n",
       "      <td>0.000000</td>\n",
       "      <td>0.000000</td>\n",
       "      <td>0.000000</td>\n",
       "      <td>1608</td>\n",
       "    </tr>\n",
       "    <tr>\n",
       "      <th>2020-03-15</th>\n",
       "      <td>63.0</td>\n",
       "      <td>9.0</td>\n",
       "      <td>0.0</td>\n",
       "      <td>9.0</td>\n",
       "      <td>61.0</td>\n",
       "      <td>1.0</td>\n",
       "      <td>1.0</td>\n",
       "      <td>1.505702</td>\n",
       "      <td>1.892789</td>\n",
       "      <td>47.0</td>\n",
       "      <td>...</td>\n",
       "      <td>0.000000</td>\n",
       "      <td>2.699793</td>\n",
       "      <td>2.699793</td>\n",
       "      <td>0.000000</td>\n",
       "      <td>0.000000</td>\n",
       "      <td>0.000000</td>\n",
       "      <td>0.000000</td>\n",
       "      <td>0.000000</td>\n",
       "      <td>0.000000</td>\n",
       "      <td>1788</td>\n",
       "    </tr>\n",
       "    <tr>\n",
       "      <th>2020-03-16</th>\n",
       "      <td>90.0</td>\n",
       "      <td>21.0</td>\n",
       "      <td>6.0</td>\n",
       "      <td>27.0</td>\n",
       "      <td>88.0</td>\n",
       "      <td>1.0</td>\n",
       "      <td>1.0</td>\n",
       "      <td>1.540392</td>\n",
       "      <td>2.407847</td>\n",
       "      <td>64.0</td>\n",
       "      <td>...</td>\n",
       "      <td>0.000000</td>\n",
       "      <td>2.557577</td>\n",
       "      <td>3.454300</td>\n",
       "      <td>2.523719</td>\n",
       "      <td>0.000000</td>\n",
       "      <td>0.000000</td>\n",
       "      <td>0.000000</td>\n",
       "      <td>0.000000</td>\n",
       "      <td>0.000000</td>\n",
       "      <td>1324</td>\n",
       "    </tr>\n",
       "    <tr>\n",
       "      <th>2020-03-17</th>\n",
       "      <td>102.0</td>\n",
       "      <td>8.0</td>\n",
       "      <td>4.0</td>\n",
       "      <td>12.0</td>\n",
       "      <td>99.0</td>\n",
       "      <td>2.0</td>\n",
       "      <td>1.0</td>\n",
       "      <td>1.648576</td>\n",
       "      <td>2.874303</td>\n",
       "      <td>65.0</td>\n",
       "      <td>...</td>\n",
       "      <td>3.785579</td>\n",
       "      <td>2.444227</td>\n",
       "      <td>2.925936</td>\n",
       "      <td>2.500000</td>\n",
       "      <td>0.000000</td>\n",
       "      <td>0.000000</td>\n",
       "      <td>0.000000</td>\n",
       "      <td>0.000000</td>\n",
       "      <td>0.000000</td>\n",
       "      <td>2141</td>\n",
       "    </tr>\n",
       "    <tr>\n",
       "      <th>2020-03-18</th>\n",
       "      <td>134.0</td>\n",
       "      <td>27.0</td>\n",
       "      <td>5.0</td>\n",
       "      <td>32.0</td>\n",
       "      <td>129.0</td>\n",
       "      <td>2.0</td>\n",
       "      <td>3.0</td>\n",
       "      <td>1.698252</td>\n",
       "      <td>2.596052</td>\n",
       "      <td>91.0</td>\n",
       "      <td>...</td>\n",
       "      <td>3.785579</td>\n",
       "      <td>2.601583</td>\n",
       "      <td>2.682117</td>\n",
       "      <td>3.000000</td>\n",
       "      <td>3.000000</td>\n",
       "      <td>1.261860</td>\n",
       "      <td>0.000000</td>\n",
       "      <td>0.000000</td>\n",
       "      <td>0.000000</td>\n",
       "      <td>2884</td>\n",
       "    </tr>\n",
       "    <tr>\n",
       "      <th>2020-03-19</th>\n",
       "      <td>168.0</td>\n",
       "      <td>27.0</td>\n",
       "      <td>7.0</td>\n",
       "      <td>34.0</td>\n",
       "      <td>161.0</td>\n",
       "      <td>3.0</td>\n",
       "      <td>4.0</td>\n",
       "      <td>1.758582</td>\n",
       "      <td>2.651307</td>\n",
       "      <td>107.0</td>\n",
       "      <td>...</td>\n",
       "      <td>3.785579</td>\n",
       "      <td>2.626495</td>\n",
       "      <td>2.321117</td>\n",
       "      <td>1.952601</td>\n",
       "      <td>1.673658</td>\n",
       "      <td>1.500000</td>\n",
       "      <td>0.000000</td>\n",
       "      <td>0.000000</td>\n",
       "      <td>0.000000</td>\n",
       "      <td>2802</td>\n",
       "    </tr>\n",
       "    <tr>\n",
       "      <th>2020-03-20</th>\n",
       "      <td>212.0</td>\n",
       "      <td>34.0</td>\n",
       "      <td>10.0</td>\n",
       "      <td>44.0</td>\n",
       "      <td>204.0</td>\n",
       "      <td>3.0</td>\n",
       "      <td>5.0</td>\n",
       "      <td>1.811613</td>\n",
       "      <td>3.041003</td>\n",
       "      <td>133.0</td>\n",
       "      <td>...</td>\n",
       "      <td>3.000000</td>\n",
       "      <td>2.637937</td>\n",
       "      <td>2.920493</td>\n",
       "      <td>2.047664</td>\n",
       "      <td>1.535748</td>\n",
       "      <td>1.547411</td>\n",
       "      <td>0.000000</td>\n",
       "      <td>0.000000</td>\n",
       "      <td>0.000000</td>\n",
       "      <td>3418</td>\n",
       "    </tr>\n",
       "    <tr>\n",
       "      <th>2020-03-21</th>\n",
       "      <td>250.0</td>\n",
       "      <td>28.0</td>\n",
       "      <td>10.0</td>\n",
       "      <td>38.0</td>\n",
       "      <td>240.0</td>\n",
       "      <td>5.0</td>\n",
       "      <td>5.0</td>\n",
       "      <td>1.883054</td>\n",
       "      <td>3.017343</td>\n",
       "      <td>162.0</td>\n",
       "      <td>...</td>\n",
       "      <td>2.321117</td>\n",
       "      <td>2.808319</td>\n",
       "      <td>2.925936</td>\n",
       "      <td>2.201855</td>\n",
       "      <td>1.467903</td>\n",
       "      <td>1.781036</td>\n",
       "      <td>0.000000</td>\n",
       "      <td>0.000000</td>\n",
       "      <td>0.000000</td>\n",
       "      <td>3563</td>\n",
       "    </tr>\n",
       "    <tr>\n",
       "      <th>2020-03-22</th>\n",
       "      <td>289.0</td>\n",
       "      <td>30.0</td>\n",
       "      <td>9.0</td>\n",
       "      <td>39.0</td>\n",
       "      <td>272.0</td>\n",
       "      <td>5.0</td>\n",
       "      <td>12.0</td>\n",
       "      <td>1.957204</td>\n",
       "      <td>3.564909</td>\n",
       "      <td>190.0</td>\n",
       "      <td>...</td>\n",
       "      <td>2.584059</td>\n",
       "      <td>2.975350</td>\n",
       "      <td>3.675866</td>\n",
       "      <td>2.354089</td>\n",
       "      <td>2.253128</td>\n",
       "      <td>2.000000</td>\n",
       "      <td>2.000000</td>\n",
       "      <td>0.000000</td>\n",
       "      <td>0.000000</td>\n",
       "      <td>2642</td>\n",
       "    </tr>\n",
       "    <tr>\n",
       "      <th>2020-03-23</th>\n",
       "      <td>339.0</td>\n",
       "      <td>36.0</td>\n",
       "      <td>14.0</td>\n",
       "      <td>50.0</td>\n",
       "      <td>315.0</td>\n",
       "      <td>7.0</td>\n",
       "      <td>17.0</td>\n",
       "      <td>2.022572</td>\n",
       "      <td>3.462771</td>\n",
       "      <td>219.0</td>\n",
       "      <td>...</td>\n",
       "      <td>2.041789</td>\n",
       "      <td>3.080769</td>\n",
       "      <td>4.719571</td>\n",
       "      <td>2.589498</td>\n",
       "      <td>2.669125</td>\n",
       "      <td>2.333333</td>\n",
       "      <td>2.000000</td>\n",
       "      <td>0.000000</td>\n",
       "      <td>0.000000</td>\n",
       "      <td>2742</td>\n",
       "    </tr>\n",
       "    <tr>\n",
       "      <th>2020-03-24</th>\n",
       "      <td>410.0</td>\n",
       "      <td>51.0</td>\n",
       "      <td>20.0</td>\n",
       "      <td>71.0</td>\n",
       "      <td>379.0</td>\n",
       "      <td>10.0</td>\n",
       "      <td>21.0</td>\n",
       "      <td>2.073857</td>\n",
       "      <td>3.718876</td>\n",
       "      <td>259.0</td>\n",
       "      <td>...</td>\n",
       "      <td>1.806180</td>\n",
       "      <td>3.056926</td>\n",
       "      <td>4.145195</td>\n",
       "      <td>2.732043</td>\n",
       "      <td>2.508028</td>\n",
       "      <td>2.408240</td>\n",
       "      <td>3.454300</td>\n",
       "      <td>0.000000</td>\n",
       "      <td>0.000000</td>\n",
       "      <td>3155</td>\n",
       "    </tr>\n",
       "    <tr>\n",
       "      <th>2020-03-25</th>\n",
       "      <td>475.0</td>\n",
       "      <td>49.0</td>\n",
       "      <td>16.0</td>\n",
       "      <td>65.0</td>\n",
       "      <td>432.0</td>\n",
       "      <td>16.0</td>\n",
       "      <td>27.0</td>\n",
       "      <td>2.136804</td>\n",
       "      <td>4.001424</td>\n",
       "      <td>303.0</td>\n",
       "      <td>...</td>\n",
       "      <td>1.734389</td>\n",
       "      <td>3.127763</td>\n",
       "      <td>4.586727</td>\n",
       "      <td>2.835356</td>\n",
       "      <td>6.000000</td>\n",
       "      <td>2.601583</td>\n",
       "      <td>4.111190</td>\n",
       "      <td>0.000000</td>\n",
       "      <td>0.000000</td>\n",
       "      <td>1841</td>\n",
       "    </tr>\n",
       "    <tr>\n",
       "      <th>2020-03-26</th>\n",
       "      <td>527.0</td>\n",
       "      <td>26.0</td>\n",
       "      <td>26.0</td>\n",
       "      <td>52.0</td>\n",
       "      <td>476.0</td>\n",
       "      <td>16.0</td>\n",
       "      <td>35.0</td>\n",
       "      <td>2.211983</td>\n",
       "      <td>4.567118</td>\n",
       "      <td>347.0</td>\n",
       "      <td>...</td>\n",
       "      <td>1.943343</td>\n",
       "      <td>3.279813</td>\n",
       "      <td>5.921266</td>\n",
       "      <td>2.978445</td>\n",
       "      <td>7.560969</td>\n",
       "      <td>2.890648</td>\n",
       "      <td>6.861306</td>\n",
       "      <td>0.000000</td>\n",
       "      <td>0.000000</td>\n",
       "      <td>1108</td>\n",
       "    </tr>\n",
       "    <tr>\n",
       "      <th>2020-03-27</th>\n",
       "      <td>621.0</td>\n",
       "      <td>71.0</td>\n",
       "      <td>23.0</td>\n",
       "      <td>94.0</td>\n",
       "      <td>546.0</td>\n",
       "      <td>21.0</td>\n",
       "      <td>54.0</td>\n",
       "      <td>2.263309</td>\n",
       "      <td>4.570853</td>\n",
       "      <td>394.0</td>\n",
       "      <td>...</td>\n",
       "      <td>2.111708</td>\n",
       "      <td>3.297047</td>\n",
       "      <td>5.057260</td>\n",
       "      <td>2.799786</td>\n",
       "      <td>4.724078</td>\n",
       "      <td>3.179713</td>\n",
       "      <td>9.201372</td>\n",
       "      <td>0.000000</td>\n",
       "      <td>0.000000</td>\n",
       "      <td>3502</td>\n",
       "    </tr>\n",
       "    <tr>\n",
       "      <th>2020-03-28</th>\n",
       "      <td>672.0</td>\n",
       "      <td>37.0</td>\n",
       "      <td>14.0</td>\n",
       "      <td>51.0</td>\n",
       "      <td>570.0</td>\n",
       "      <td>26.0</td>\n",
       "      <td>76.0</td>\n",
       "      <td>2.342340</td>\n",
       "      <td>4.928570</td>\n",
       "      <td>423.0</td>\n",
       "      <td>...</td>\n",
       "      <td>2.807013</td>\n",
       "      <td>3.378084</td>\n",
       "      <td>4.779897</td>\n",
       "      <td>2.896682</td>\n",
       "      <td>4.703542</td>\n",
       "      <td>3.468778</td>\n",
       "      <td>13.059615</td>\n",
       "      <td>0.000000</td>\n",
       "      <td>0.000000</td>\n",
       "      <td>2085</td>\n",
       "    </tr>\n",
       "    <tr>\n",
       "      <th>2020-03-29</th>\n",
       "      <td>700.0</td>\n",
       "      <td>18.0</td>\n",
       "      <td>10.0</td>\n",
       "      <td>28.0</td>\n",
       "      <td>575.0</td>\n",
       "      <td>29.0</td>\n",
       "      <td>96.0</td>\n",
       "      <td>2.433551</td>\n",
       "      <td>5.735756</td>\n",
       "      <td>443.0</td>\n",
       "      <td>...</td>\n",
       "      <td>6.000000</td>\n",
       "      <td>3.519996</td>\n",
       "      <td>5.274709</td>\n",
       "      <td>3.077724</td>\n",
       "      <td>4.703542</td>\n",
       "      <td>3.757843</td>\n",
       "      <td>13.059615</td>\n",
       "      <td>0.000000</td>\n",
       "      <td>0.000000</td>\n",
       "      <td>1852</td>\n",
       "    </tr>\n",
       "    <tr>\n",
       "      <th>2020-03-30</th>\n",
       "      <td>746.0</td>\n",
       "      <td>28.0</td>\n",
       "      <td>18.0</td>\n",
       "      <td>46.0</td>\n",
       "      <td>595.0</td>\n",
       "      <td>30.0</td>\n",
       "      <td>121.0</td>\n",
       "      <td>2.514924</td>\n",
       "      <td>6.948049</td>\n",
       "      <td>466.0</td>\n",
       "      <td>...</td>\n",
       "      <td>9.263573</td>\n",
       "      <td>3.584853</td>\n",
       "      <td>6.308549</td>\n",
       "      <td>3.222940</td>\n",
       "      <td>5.030834</td>\n",
       "      <td>4.046908</td>\n",
       "      <td>43.635245</td>\n",
       "      <td>0.000000</td>\n",
       "      <td>0.000000</td>\n",
       "      <td>2557</td>\n",
       "    </tr>\n",
       "    <tr>\n",
       "      <th>2020-03-31</th>\n",
       "      <td>873.0</td>\n",
       "      <td>110.0</td>\n",
       "      <td>17.0</td>\n",
       "      <td>127.0</td>\n",
       "      <td>693.0</td>\n",
       "      <td>35.0</td>\n",
       "      <td>145.0</td>\n",
       "      <td>2.558896</td>\n",
       "      <td>6.833292</td>\n",
       "      <td>542.0</td>\n",
       "      <td>...</td>\n",
       "      <td>9.145706</td>\n",
       "      <td>3.569557</td>\n",
       "      <td>5.726540</td>\n",
       "      <td>3.333076</td>\n",
       "      <td>5.378864</td>\n",
       "      <td>4.335972</td>\n",
       "      <td>0.000000</td>\n",
       "      <td>0.000000</td>\n",
       "      <td>0.000000</td>\n",
       "      <td>4477</td>\n",
       "    </tr>\n",
       "    <tr>\n",
       "      <th>2020-04-01</th>\n",
       "      <td>984.0</td>\n",
       "      <td>79.0</td>\n",
       "      <td>32.0</td>\n",
       "      <td>111.0</td>\n",
       "      <td>764.0</td>\n",
       "      <td>35.0</td>\n",
       "      <td>185.0</td>\n",
       "      <td>2.615033</td>\n",
       "      <td>6.660337</td>\n",
       "      <td>605.0</td>\n",
       "      <td>...</td>\n",
       "      <td>8.646818</td>\n",
       "      <td>3.594856</td>\n",
       "      <td>4.939047</td>\n",
       "      <td>3.428832</td>\n",
       "      <td>5.298246</td>\n",
       "      <td>4.323810</td>\n",
       "      <td>24.895429</td>\n",
       "      <td>0.000000</td>\n",
       "      <td>0.000000</td>\n",
       "      <td>3663</td>\n",
       "    </tr>\n",
       "    <tr>\n",
       "      <th>2020-04-02</th>\n",
       "      <td>1116.0</td>\n",
       "      <td>85.0</td>\n",
       "      <td>47.0</td>\n",
       "      <td>132.0</td>\n",
       "      <td>866.0</td>\n",
       "      <td>39.0</td>\n",
       "      <td>211.0</td>\n",
       "      <td>2.666898</td>\n",
       "      <td>7.094951</td>\n",
       "      <td>696.0</td>\n",
       "      <td>...</td>\n",
       "      <td>13.146988</td>\n",
       "      <td>3.661557</td>\n",
       "      <td>5.478665</td>\n",
       "      <td>3.526924</td>\n",
       "      <td>10.056243</td>\n",
       "      <td>4.250000</td>\n",
       "      <td>11.099428</td>\n",
       "      <td>0.000000</td>\n",
       "      <td>0.000000</td>\n",
       "      <td>3870</td>\n",
       "    </tr>\n",
       "    <tr>\n",
       "      <th>2020-04-03</th>\n",
       "      <td>1183.0</td>\n",
       "      <td>37.0</td>\n",
       "      <td>30.0</td>\n",
       "      <td>67.0</td>\n",
       "      <td>899.0</td>\n",
       "      <td>39.0</td>\n",
       "      <td>245.0</td>\n",
       "      <td>2.742884</td>\n",
       "      <td>7.353690</td>\n",
       "      <td>743.0</td>\n",
       "      <td>...</td>\n",
       "      <td>13.409050</td>\n",
       "      <td>3.773875</td>\n",
       "      <td>6.000000</td>\n",
       "      <td>3.653048</td>\n",
       "      <td>12.028728</td>\n",
       "      <td>4.316624</td>\n",
       "      <td>8.444836</td>\n",
       "      <td>0.000000</td>\n",
       "      <td>0.000000</td>\n",
       "      <td>1525</td>\n",
       "    </tr>\n",
       "    <tr>\n",
       "      <th>2020-04-04</th>\n",
       "      <td>1238.0</td>\n",
       "      <td>38.0</td>\n",
       "      <td>17.0</td>\n",
       "      <td>55.0</td>\n",
       "      <td>906.0</td>\n",
       "      <td>41.0</td>\n",
       "      <td>291.0</td>\n",
       "      <td>2.822715</td>\n",
       "      <td>7.294084</td>\n",
       "      <td>771.0</td>\n",
       "      <td>...</td>\n",
       "      <td>14.735665</td>\n",
       "      <td>3.885723</td>\n",
       "      <td>5.944491</td>\n",
       "      <td>3.681221</td>\n",
       "      <td>8.283111</td>\n",
       "      <td>4.472769</td>\n",
       "      <td>7.609425</td>\n",
       "      <td>0.000000</td>\n",
       "      <td>0.000000</td>\n",
       "      <td>1731</td>\n",
       "    </tr>\n",
       "    <tr>\n",
       "      <th>2020-04-05</th>\n",
       "      <td>1291.0</td>\n",
       "      <td>35.0</td>\n",
       "      <td>18.0</td>\n",
       "      <td>53.0</td>\n",
       "      <td>899.0</td>\n",
       "      <td>44.0</td>\n",
       "      <td>348.0</td>\n",
       "      <td>2.902962</td>\n",
       "      <td>7.583020</td>\n",
       "      <td>791.0</td>\n",
       "      <td>...</td>\n",
       "      <td>12.826571</td>\n",
       "      <td>3.973852</td>\n",
       "      <td>6.407280</td>\n",
       "      <td>3.796310</td>\n",
       "      <td>8.141493</td>\n",
       "      <td>4.553405</td>\n",
       "      <td>6.431655</td>\n",
       "      <td>0.000000</td>\n",
       "      <td>0.000000</td>\n",
       "      <td>1101</td>\n",
       "    </tr>\n",
       "    <tr>\n",
       "      <th>2020-04-06</th>\n",
       "      <td>1324.0</td>\n",
       "      <td>20.0</td>\n",
       "      <td>13.0</td>\n",
       "      <td>33.0</td>\n",
       "      <td>866.0</td>\n",
       "      <td>45.0</td>\n",
       "      <td>413.0</td>\n",
       "      <td>2.989194</td>\n",
       "      <td>9.985861</td>\n",
       "      <td>808.0</td>\n",
       "      <td>...</td>\n",
       "      <td>18.637702</td>\n",
       "      <td>4.100362</td>\n",
       "      <td>9.016657</td>\n",
       "      <td>3.880214</td>\n",
       "      <td>8.080767</td>\n",
       "      <td>4.709120</td>\n",
       "      <td>6.000000</td>\n",
       "      <td>0.000000</td>\n",
       "      <td>0.000000</td>\n",
       "      <td>1128</td>\n",
       "    </tr>\n",
       "    <tr>\n",
       "      <th>2020-04-07</th>\n",
       "      <td>1385.0</td>\n",
       "      <td>39.0</td>\n",
       "      <td>22.0</td>\n",
       "      <td>61.0</td>\n",
       "      <td>857.0</td>\n",
       "      <td>46.0</td>\n",
       "      <td>482.0</td>\n",
       "      <td>3.066406</td>\n",
       "      <td>12.166542</td>\n",
       "      <td>838.0</td>\n",
       "      <td>...</td>\n",
       "      <td>15.441420</td>\n",
       "      <td>4.208528</td>\n",
       "      <td>12.176811</td>\n",
       "      <td>3.957469</td>\n",
       "      <td>8.141493</td>\n",
       "      <td>4.863424</td>\n",
       "      <td>7.289318</td>\n",
       "      <td>0.000000</td>\n",
       "      <td>0.000000</td>\n",
       "      <td>1355</td>\n",
       "    </tr>\n",
       "    <tr>\n",
       "      <th>2020-04-08</th>\n",
       "      <td>1422.0</td>\n",
       "      <td>24.0</td>\n",
       "      <td>13.0</td>\n",
       "      <td>37.0</td>\n",
       "      <td>821.0</td>\n",
       "      <td>46.0</td>\n",
       "      <td>555.0</td>\n",
       "      <td>3.150747</td>\n",
       "      <td>17.163235</td>\n",
       "      <td>858.0</td>\n",
       "      <td>...</td>\n",
       "      <td>20.885405</td>\n",
       "      <td>4.321201</td>\n",
       "      <td>15.466881</td>\n",
       "      <td>4.090963</td>\n",
       "      <td>9.292003</td>\n",
       "      <td>4.952780</td>\n",
       "      <td>9.318851</td>\n",
       "      <td>0.000000</td>\n",
       "      <td>0.000000</td>\n",
       "      <td>1168</td>\n",
       "    </tr>\n",
       "    <tr>\n",
       "      <th>2020-04-09</th>\n",
       "      <td>1467.0</td>\n",
       "      <td>32.0</td>\n",
       "      <td>13.0</td>\n",
       "      <td>45.0</td>\n",
       "      <td>782.0</td>\n",
       "      <td>48.0</td>\n",
       "      <td>637.0</td>\n",
       "      <td>3.232353</td>\n",
       "      <td>19.328726</td>\n",
       "      <td>896.0</td>\n",
       "      <td>...</td>\n",
       "      <td>22.810704</td>\n",
       "      <td>4.447871</td>\n",
       "      <td>17.384477</td>\n",
       "      <td>4.242480</td>\n",
       "      <td>10.388800</td>\n",
       "      <td>5.168119</td>\n",
       "      <td>12.660066</td>\n",
       "      <td>0.000000</td>\n",
       "      <td>0.000000</td>\n",
       "      <td>2206</td>\n",
       "    </tr>\n",
       "    <tr>\n",
       "      <th>2020-04-10</th>\n",
       "      <td>1525.0</td>\n",
       "      <td>37.0</td>\n",
       "      <td>21.0</td>\n",
       "      <td>58.0</td>\n",
       "      <td>762.0</td>\n",
       "      <td>48.0</td>\n",
       "      <td>715.0</td>\n",
       "      <td>3.309820</td>\n",
       "      <td>19.946946</td>\n",
       "      <td>942.0</td>\n",
       "      <td>...</td>\n",
       "      <td>25.084906</td>\n",
       "      <td>4.576354</td>\n",
       "      <td>19.913415</td>\n",
       "      <td>4.374482</td>\n",
       "      <td>15.730315</td>\n",
       "      <td>5.318651</td>\n",
       "      <td>13.259311</td>\n",
       "      <td>5.000000</td>\n",
       "      <td>3.000000</td>\n",
       "      <td>2558</td>\n",
       "    </tr>\n",
       "    <tr>\n",
       "      <th>2020-04-11</th>\n",
       "      <td>1590.0</td>\n",
       "      <td>48.0</td>\n",
       "      <td>17.0</td>\n",
       "      <td>65.0</td>\n",
       "      <td>765.0</td>\n",
       "      <td>48.0</td>\n",
       "      <td>777.0</td>\n",
       "      <td>3.385110</td>\n",
       "      <td>19.964213</td>\n",
       "      <td>990.0</td>\n",
       "      <td>...</td>\n",
       "      <td>40.662201</td>\n",
       "      <td>4.694337</td>\n",
       "      <td>25.495952</td>\n",
       "      <td>4.486652</td>\n",
       "      <td>16.457635</td>\n",
       "      <td>5.352018</td>\n",
       "      <td>12.884839</td>\n",
       "      <td>5.500000</td>\n",
       "      <td>3.000000</td>\n",
       "      <td>2019</td>\n",
       "    </tr>\n",
       "    <tr>\n",
       "      <th>2020-04-12</th>\n",
       "      <td>1672.0</td>\n",
       "      <td>54.0</td>\n",
       "      <td>28.0</td>\n",
       "      <td>82.0</td>\n",
       "      <td>795.0</td>\n",
       "      <td>48.0</td>\n",
       "      <td>829.0</td>\n",
       "      <td>3.455567</td>\n",
       "      <td>17.821514</td>\n",
       "      <td>1063.0</td>\n",
       "      <td>...</td>\n",
       "      <td>32.070889</td>\n",
       "      <td>4.826533</td>\n",
       "      <td>27.812712</td>\n",
       "      <td>4.617049</td>\n",
       "      <td>22.115574</td>\n",
       "      <td>5.502466</td>\n",
       "      <td>13.409050</td>\n",
       "      <td>6.000000</td>\n",
       "      <td>3.000000</td>\n",
       "      <td>2213</td>\n",
       "    </tr>\n",
       "    <tr>\n",
       "      <th>2020-04-13</th>\n",
       "      <td>1762.0</td>\n",
       "      <td>57.0</td>\n",
       "      <td>33.0</td>\n",
       "      <td>90.0</td>\n",
       "      <td>833.0</td>\n",
       "      <td>48.0</td>\n",
       "      <td>881.0</td>\n",
       "      <td>3.524066</td>\n",
       "      <td>17.274740</td>\n",
       "      <td>1149.0</td>\n",
       "      <td>...</td>\n",
       "      <td>151.789737</td>\n",
       "      <td>4.965925</td>\n",
       "      <td>38.152948</td>\n",
       "      <td>4.746741</td>\n",
       "      <td>34.962717</td>\n",
       "      <td>5.651774</td>\n",
       "      <td>13.932934</td>\n",
       "      <td>6.500000</td>\n",
       "      <td>3.000000</td>\n",
       "      <td>1985</td>\n",
       "    </tr>\n",
       "    <tr>\n",
       "      <th>2020-04-14</th>\n",
       "      <td>1906.0</td>\n",
       "      <td>121.0</td>\n",
       "      <td>23.0</td>\n",
       "      <td>144.0</td>\n",
       "      <td>936.0</td>\n",
       "      <td>50.0</td>\n",
       "      <td>920.0</td>\n",
       "      <td>3.579186</td>\n",
       "      <td>14.196928</td>\n",
       "      <td>1271.0</td>\n",
       "      <td>...</td>\n",
       "      <td>101.878488</td>\n",
       "      <td>5.089599</td>\n",
       "      <td>45.894550</td>\n",
       "      <td>4.811912</td>\n",
       "      <td>23.249672</td>\n",
       "      <td>5.700287</td>\n",
       "      <td>13.525496</td>\n",
       "      <td>5.415939</td>\n",
       "      <td>2.321117</td>\n",
       "      <td>2388</td>\n",
       "    </tr>\n",
       "    <tr>\n",
       "      <th>2020-04-15</th>\n",
       "      <td>2062.0</td>\n",
       "      <td>120.0</td>\n",
       "      <td>36.0</td>\n",
       "      <td>156.0</td>\n",
       "      <td>1012.0</td>\n",
       "      <td>50.0</td>\n",
       "      <td>1000.0</td>\n",
       "      <td>3.633117</td>\n",
       "      <td>12.215594</td>\n",
       "      <td>1393.0</td>\n",
       "      <td>...</td>\n",
       "      <td>76.920600</td>\n",
       "      <td>5.210139</td>\n",
       "      <td>45.484981</td>\n",
       "      <td>4.872959</td>\n",
       "      <td>15.899638</td>\n",
       "      <td>5.431278</td>\n",
       "      <td>6.820462</td>\n",
       "      <td>4.731973</td>\n",
       "      <td>1.892789</td>\n",
       "      <td>2921</td>\n",
       "    </tr>\n",
       "    <tr>\n",
       "      <th>2020-04-16</th>\n",
       "      <td>2262.0</td>\n",
       "      <td>139.0</td>\n",
       "      <td>61.0</td>\n",
       "      <td>200.0</td>\n",
       "      <td>1149.0</td>\n",
       "      <td>50.0</td>\n",
       "      <td>1063.0</td>\n",
       "      <td>3.679313</td>\n",
       "      <td>10.548714</td>\n",
       "      <td>1564.0</td>\n",
       "      <td>...</td>\n",
       "      <td>61.944091</td>\n",
       "      <td>5.325010</td>\n",
       "      <td>41.762267</td>\n",
       "      <td>4.976240</td>\n",
       "      <td>14.849045</td>\n",
       "      <td>5.362060</td>\n",
       "      <td>5.550827</td>\n",
       "      <td>4.323810</td>\n",
       "      <td>3.528499</td>\n",
       "      <td>2903</td>\n",
       "    </tr>\n",
       "    <tr>\n",
       "      <th>2020-04-17</th>\n",
       "      <td>2397.0</td>\n",
       "      <td>101.0</td>\n",
       "      <td>34.0</td>\n",
       "      <td>135.0</td>\n",
       "      <td>1223.0</td>\n",
       "      <td>50.0</td>\n",
       "      <td>1124.0</td>\n",
       "      <td>3.740977</td>\n",
       "      <td>10.131658</td>\n",
       "      <td>1673.0</td>\n",
       "      <td>...</td>\n",
       "      <td>61.944091</td>\n",
       "      <td>5.447025</td>\n",
       "      <td>46.109867</td>\n",
       "      <td>5.087034</td>\n",
       "      <td>15.372197</td>\n",
       "      <td>5.256706</td>\n",
       "      <td>4.880105</td>\n",
       "      <td>4.351286</td>\n",
       "      <td>3.146484</td>\n",
       "      <td>2487</td>\n",
       "    </tr>\n",
       "  </tbody>\n",
       "</table>\n",
       "<p>45 rows × 28 columns</p>\n",
       "</div>"
      ],
      "text/plain": [
       "            Ab_cumCases  Confirmed_count  Probable_count  Ab_cases  \\\n",
       "2020-03-04          0.0              0.0             0.0       0.0   \n",
       "2020-03-05          0.0              0.0             0.0       0.0   \n",
       "2020-03-06          1.0              1.0             0.0       1.0   \n",
       "2020-03-07          1.0              0.0             0.0       0.0   \n",
       "2020-03-08          1.0              0.0             0.0       0.0   \n",
       "2020-03-09          7.0              6.0             0.0       6.0   \n",
       "2020-03-10         16.0              9.0             0.0       9.0   \n",
       "2020-03-11         24.0              7.0             1.0       8.0   \n",
       "2020-03-12         27.0              2.0             1.0       3.0   \n",
       "2020-03-13         35.0              8.0             0.0       8.0   \n",
       "2020-03-14         54.0             19.0             0.0      19.0   \n",
       "2020-03-15         63.0              9.0             0.0       9.0   \n",
       "2020-03-16         90.0             21.0             6.0      27.0   \n",
       "2020-03-17        102.0              8.0             4.0      12.0   \n",
       "2020-03-18        134.0             27.0             5.0      32.0   \n",
       "2020-03-19        168.0             27.0             7.0      34.0   \n",
       "2020-03-20        212.0             34.0            10.0      44.0   \n",
       "2020-03-21        250.0             28.0            10.0      38.0   \n",
       "2020-03-22        289.0             30.0             9.0      39.0   \n",
       "2020-03-23        339.0             36.0            14.0      50.0   \n",
       "2020-03-24        410.0             51.0            20.0      71.0   \n",
       "2020-03-25        475.0             49.0            16.0      65.0   \n",
       "2020-03-26        527.0             26.0            26.0      52.0   \n",
       "2020-03-27        621.0             71.0            23.0      94.0   \n",
       "2020-03-28        672.0             37.0            14.0      51.0   \n",
       "2020-03-29        700.0             18.0            10.0      28.0   \n",
       "2020-03-30        746.0             28.0            18.0      46.0   \n",
       "2020-03-31        873.0            110.0            17.0     127.0   \n",
       "2020-04-01        984.0             79.0            32.0     111.0   \n",
       "2020-04-02       1116.0             85.0            47.0     132.0   \n",
       "2020-04-03       1183.0             37.0            30.0      67.0   \n",
       "2020-04-04       1238.0             38.0            17.0      55.0   \n",
       "2020-04-05       1291.0             35.0            18.0      53.0   \n",
       "2020-04-06       1324.0             20.0            13.0      33.0   \n",
       "2020-04-07       1385.0             39.0            22.0      61.0   \n",
       "2020-04-08       1422.0             24.0            13.0      37.0   \n",
       "2020-04-09       1467.0             32.0            13.0      45.0   \n",
       "2020-04-10       1525.0             37.0            21.0      58.0   \n",
       "2020-04-11       1590.0             48.0            17.0      65.0   \n",
       "2020-04-12       1672.0             54.0            28.0      82.0   \n",
       "2020-04-13       1762.0             57.0            33.0      90.0   \n",
       "2020-04-14       1906.0            121.0            23.0     144.0   \n",
       "2020-04-15       2062.0            120.0            36.0     156.0   \n",
       "2020-04-16       2262.0            139.0            61.0     200.0   \n",
       "2020-04-17       2397.0            101.0            34.0     135.0   \n",
       "\n",
       "            Active_cum  Died_cum  Recovered_cum  Ab_dtime  Ab_dtime_rw  \\\n",
       "2020-03-04         0.0       0.0            0.0  0.000000     0.000000   \n",
       "2020-03-05         0.0       0.0            0.0  0.000000     0.000000   \n",
       "2020-03-06         1.0       0.0            0.0  0.000000     0.000000   \n",
       "2020-03-07         1.0       0.0            0.0  0.000000     0.000000   \n",
       "2020-03-08         1.0       0.0            0.0  0.000000     0.000000   \n",
       "2020-03-09         7.0       0.0            0.0  1.068622     0.000000   \n",
       "2020-03-10        16.0       0.0            0.0  1.000000     0.000000   \n",
       "2020-03-11        24.0       0.0            0.0  1.090521     0.000000   \n",
       "2020-03-12        27.0       0.0            0.0  1.261860     1.261860   \n",
       "2020-03-13        35.0       0.0            0.0  1.364713     1.169754   \n",
       "2020-03-14        52.0       1.0            1.0  1.390123     1.042592   \n",
       "2020-03-15        61.0       1.0            1.0  1.505702     1.892789   \n",
       "2020-03-16        88.0       1.0            1.0  1.540392     2.407847   \n",
       "2020-03-17        99.0       2.0            1.0  1.648576     2.874303   \n",
       "2020-03-18       129.0       2.0            3.0  1.698252     2.596052   \n",
       "2020-03-19       161.0       3.0            4.0  1.758582     2.651307   \n",
       "2020-03-20       204.0       3.0            5.0  1.811613     3.041003   \n",
       "2020-03-21       240.0       5.0            5.0  1.883054     3.017343   \n",
       "2020-03-22       272.0       5.0           12.0  1.957204     3.564909   \n",
       "2020-03-23       315.0       7.0           17.0  2.022572     3.462771   \n",
       "2020-03-24       379.0      10.0           21.0  2.073857     3.718876   \n",
       "2020-03-25       432.0      16.0           27.0  2.136804     4.001424   \n",
       "2020-03-26       476.0      16.0           35.0  2.211983     4.567118   \n",
       "2020-03-27       546.0      21.0           54.0  2.263309     4.570853   \n",
       "2020-03-28       570.0      26.0           76.0  2.342340     4.928570   \n",
       "2020-03-29       575.0      29.0           96.0  2.433551     5.735756   \n",
       "2020-03-30       595.0      30.0          121.0  2.514924     6.948049   \n",
       "2020-03-31       693.0      35.0          145.0  2.558896     6.833292   \n",
       "2020-04-01       764.0      35.0          185.0  2.615033     6.660337   \n",
       "2020-04-02       866.0      39.0          211.0  2.666898     7.094951   \n",
       "2020-04-03       899.0      39.0          245.0  2.742884     7.353690   \n",
       "2020-04-04       906.0      41.0          291.0  2.822715     7.294084   \n",
       "2020-04-05       899.0      44.0          348.0  2.902962     7.583020   \n",
       "2020-04-06       866.0      45.0          413.0  2.989194     9.985861   \n",
       "2020-04-07       857.0      46.0          482.0  3.066406    12.166542   \n",
       "2020-04-08       821.0      46.0          555.0  3.150747    17.163235   \n",
       "2020-04-09       782.0      48.0          637.0  3.232353    19.328726   \n",
       "2020-04-10       762.0      48.0          715.0  3.309820    19.946946   \n",
       "2020-04-11       765.0      48.0          777.0  3.385110    19.964213   \n",
       "2020-04-12       795.0      48.0          829.0  3.455567    17.821514   \n",
       "2020-04-13       833.0      48.0          881.0  3.524066    17.274740   \n",
       "2020-04-14       936.0      50.0          920.0  3.579186    14.196928   \n",
       "2020-04-15      1012.0      50.0         1000.0  3.633117    12.215594   \n",
       "2020-04-16      1149.0      50.0         1063.0  3.679313    10.548714   \n",
       "2020-04-17      1223.0      50.0         1124.0  3.740977    10.131658   \n",
       "\n",
       "            Calgary_cumulative  ...  Central_dtime_rw  Edmont_dtime  \\\n",
       "2020-03-04                 NaN  ...               NaN           NaN   \n",
       "2020-03-05                 NaN  ...               NaN           NaN   \n",
       "2020-03-06                 1.0  ...          0.000000      0.000000   \n",
       "2020-03-07                 NaN  ...               NaN           NaN   \n",
       "2020-03-08                 NaN  ...               NaN           NaN   \n",
       "2020-03-09                 4.0  ...          0.000000      0.000000   \n",
       "2020-03-10                10.0  ...          0.000000      1.000000   \n",
       "2020-03-11                16.0  ...          0.000000      1.636136   \n",
       "2020-03-12                18.0  ...          0.000000      2.454204   \n",
       "2020-03-13                26.0  ...          0.000000      3.272272   \n",
       "2020-03-14                39.0  ...          0.000000      2.363533   \n",
       "2020-03-15                47.0  ...          0.000000      2.699793   \n",
       "2020-03-16                64.0  ...          0.000000      2.557577   \n",
       "2020-03-17                65.0  ...          3.785579      2.444227   \n",
       "2020-03-18                91.0  ...          3.785579      2.601583   \n",
       "2020-03-19               107.0  ...          3.785579      2.626495   \n",
       "2020-03-20               133.0  ...          3.000000      2.637937   \n",
       "2020-03-21               162.0  ...          2.321117      2.808319   \n",
       "2020-03-22               190.0  ...          2.584059      2.975350   \n",
       "2020-03-23               219.0  ...          2.041789      3.080769   \n",
       "2020-03-24               259.0  ...          1.806180      3.056926   \n",
       "2020-03-25               303.0  ...          1.734389      3.127763   \n",
       "2020-03-26               347.0  ...          1.943343      3.279813   \n",
       "2020-03-27               394.0  ...          2.111708      3.297047   \n",
       "2020-03-28               423.0  ...          2.807013      3.378084   \n",
       "2020-03-29               443.0  ...          6.000000      3.519996   \n",
       "2020-03-30               466.0  ...          9.263573      3.584853   \n",
       "2020-03-31               542.0  ...          9.145706      3.569557   \n",
       "2020-04-01               605.0  ...          8.646818      3.594856   \n",
       "2020-04-02               696.0  ...         13.146988      3.661557   \n",
       "2020-04-03               743.0  ...         13.409050      3.773875   \n",
       "2020-04-04               771.0  ...         14.735665      3.885723   \n",
       "2020-04-05               791.0  ...         12.826571      3.973852   \n",
       "2020-04-06               808.0  ...         18.637702      4.100362   \n",
       "2020-04-07               838.0  ...         15.441420      4.208528   \n",
       "2020-04-08               858.0  ...         20.885405      4.321201   \n",
       "2020-04-09               896.0  ...         22.810704      4.447871   \n",
       "2020-04-10               942.0  ...         25.084906      4.576354   \n",
       "2020-04-11               990.0  ...         40.662201      4.694337   \n",
       "2020-04-12              1063.0  ...         32.070889      4.826533   \n",
       "2020-04-13              1149.0  ...        151.789737      4.965925   \n",
       "2020-04-14              1271.0  ...        101.878488      5.089599   \n",
       "2020-04-15              1393.0  ...         76.920600      5.210139   \n",
       "2020-04-16              1564.0  ...         61.944091      5.325010   \n",
       "2020-04-17              1673.0  ...         61.944091      5.447025   \n",
       "\n",
       "            Edmont_dtime_rw  North_dtime  North_dtime_rw  South_dtime  \\\n",
       "2020-03-04              NaN          NaN             NaN          NaN   \n",
       "2020-03-05              NaN          NaN             NaN          NaN   \n",
       "2020-03-06         0.000000     0.000000        0.000000     0.000000   \n",
       "2020-03-07              NaN          NaN             NaN          NaN   \n",
       "2020-03-08              NaN          NaN             NaN          NaN   \n",
       "2020-03-09         0.000000     0.000000        0.000000     0.000000   \n",
       "2020-03-10         0.000000     0.000000        0.000000     0.000000   \n",
       "2020-03-11         0.000000     0.000000        0.000000     0.000000   \n",
       "2020-03-12         0.000000     0.000000        0.000000     0.000000   \n",
       "2020-03-13         0.000000     0.000000        0.000000     0.000000   \n",
       "2020-03-14         0.000000     0.000000        0.000000     0.000000   \n",
       "2020-03-15         2.699793     0.000000        0.000000     0.000000   \n",
       "2020-03-16         3.454300     2.523719        0.000000     0.000000   \n",
       "2020-03-17         2.925936     2.500000        0.000000     0.000000   \n",
       "2020-03-18         2.682117     3.000000        3.000000     1.261860   \n",
       "2020-03-19         2.321117     1.952601        1.673658     1.500000   \n",
       "2020-03-20         2.920493     2.047664        1.535748     1.547411   \n",
       "2020-03-21         2.925936     2.201855        1.467903     1.781036   \n",
       "2020-03-22         3.675866     2.354089        2.253128     2.000000   \n",
       "2020-03-23         4.719571     2.589498        2.669125     2.333333   \n",
       "2020-03-24         4.145195     2.732043        2.508028     2.408240   \n",
       "2020-03-25         4.586727     2.835356        6.000000     2.601583   \n",
       "2020-03-26         5.921266     2.978445        7.560969     2.890648   \n",
       "2020-03-27         5.057260     2.799786        4.724078     3.179713   \n",
       "2020-03-28         4.779897     2.896682        4.703542     3.468778   \n",
       "2020-03-29         5.274709     3.077724        4.703542     3.757843   \n",
       "2020-03-30         6.308549     3.222940        5.030834     4.046908   \n",
       "2020-03-31         5.726540     3.333076        5.378864     4.335972   \n",
       "2020-04-01         4.939047     3.428832        5.298246     4.323810   \n",
       "2020-04-02         5.478665     3.526924       10.056243     4.250000   \n",
       "2020-04-03         6.000000     3.653048       12.028728     4.316624   \n",
       "2020-04-04         5.944491     3.681221        8.283111     4.472769   \n",
       "2020-04-05         6.407280     3.796310        8.141493     4.553405   \n",
       "2020-04-06         9.016657     3.880214        8.080767     4.709120   \n",
       "2020-04-07        12.176811     3.957469        8.141493     4.863424   \n",
       "2020-04-08        15.466881     4.090963        9.292003     4.952780   \n",
       "2020-04-09        17.384477     4.242480       10.388800     5.168119   \n",
       "2020-04-10        19.913415     4.374482       15.730315     5.318651   \n",
       "2020-04-11        25.495952     4.486652       16.457635     5.352018   \n",
       "2020-04-12        27.812712     4.617049       22.115574     5.502466   \n",
       "2020-04-13        38.152948     4.746741       34.962717     5.651774   \n",
       "2020-04-14        45.894550     4.811912       23.249672     5.700287   \n",
       "2020-04-15        45.484981     4.872959       15.899638     5.431278   \n",
       "2020-04-16        41.762267     4.976240       14.849045     5.362060   \n",
       "2020-04-17        46.109867     5.087034       15.372197     5.256706   \n",
       "\n",
       "            South_dtime_rw  Unknown_dtime  Unknown_dtime_rw  test_count  \n",
       "2020-03-04             NaN            NaN               NaN          71  \n",
       "2020-03-05             NaN            NaN               NaN          55  \n",
       "2020-03-06        0.000000       0.000000          0.000000          62  \n",
       "2020-03-07             NaN            NaN               NaN         276  \n",
       "2020-03-08             NaN            NaN               NaN         443  \n",
       "2020-03-09        0.000000       0.000000          0.000000         724  \n",
       "2020-03-10        0.000000       0.000000          0.000000         971  \n",
       "2020-03-11        0.000000       0.000000          0.000000         966  \n",
       "2020-03-12        0.000000       0.000000          0.000000        1145  \n",
       "2020-03-13        0.000000       0.000000          0.000000        1422  \n",
       "2020-03-14        0.000000       0.000000          0.000000        1608  \n",
       "2020-03-15        0.000000       0.000000          0.000000        1788  \n",
       "2020-03-16        0.000000       0.000000          0.000000        1324  \n",
       "2020-03-17        0.000000       0.000000          0.000000        2141  \n",
       "2020-03-18        0.000000       0.000000          0.000000        2884  \n",
       "2020-03-19        0.000000       0.000000          0.000000        2802  \n",
       "2020-03-20        0.000000       0.000000          0.000000        3418  \n",
       "2020-03-21        0.000000       0.000000          0.000000        3563  \n",
       "2020-03-22        2.000000       0.000000          0.000000        2642  \n",
       "2020-03-23        2.000000       0.000000          0.000000        2742  \n",
       "2020-03-24        3.454300       0.000000          0.000000        3155  \n",
       "2020-03-25        4.111190       0.000000          0.000000        1841  \n",
       "2020-03-26        6.861306       0.000000          0.000000        1108  \n",
       "2020-03-27        9.201372       0.000000          0.000000        3502  \n",
       "2020-03-28       13.059615       0.000000          0.000000        2085  \n",
       "2020-03-29       13.059615       0.000000          0.000000        1852  \n",
       "2020-03-30       43.635245       0.000000          0.000000        2557  \n",
       "2020-03-31        0.000000       0.000000          0.000000        4477  \n",
       "2020-04-01       24.895429       0.000000          0.000000        3663  \n",
       "2020-04-02       11.099428       0.000000          0.000000        3870  \n",
       "2020-04-03        8.444836       0.000000          0.000000        1525  \n",
       "2020-04-04        7.609425       0.000000          0.000000        1731  \n",
       "2020-04-05        6.431655       0.000000          0.000000        1101  \n",
       "2020-04-06        6.000000       0.000000          0.000000        1128  \n",
       "2020-04-07        7.289318       0.000000          0.000000        1355  \n",
       "2020-04-08        9.318851       0.000000          0.000000        1168  \n",
       "2020-04-09       12.660066       0.000000          0.000000        2206  \n",
       "2020-04-10       13.259311       5.000000          3.000000        2558  \n",
       "2020-04-11       12.884839       5.500000          3.000000        2019  \n",
       "2020-04-12       13.409050       6.000000          3.000000        2213  \n",
       "2020-04-13       13.932934       6.500000          3.000000        1985  \n",
       "2020-04-14       13.525496       5.415939          2.321117        2388  \n",
       "2020-04-15        6.820462       4.731973          1.892789        2921  \n",
       "2020-04-16        5.550827       4.323810          3.528499        2903  \n",
       "2020-04-17        4.880105       4.351286          3.146484        2487  \n",
       "\n",
       "[45 rows x 28 columns]"
      ]
     },
     "execution_count": null,
     "metadata": {},
     "output_type": "execute_result"
    }
   ],
   "source": [
    "all_data"
   ]
  },
  {
   "cell_type": "code",
   "execution_count": null,
   "metadata": {},
   "outputs": [
    {
     "data": {
      "application/vnd.plotly.v1+json": {
       "config": {
        "plotlyServerURL": "https://plot.ly"
       },
       "data": [
        {
         "line": {
          "color": "green",
          "width": 2
         },
         "mode": "lines",
         "name": "Alberta Daily",
         "type": "scatter",
         "x": [
          "03/04",
          "03/05",
          "03/06",
          "03/07",
          "03/08",
          "03/09",
          "03/10",
          "03/11",
          "03/12",
          "03/13",
          "03/14",
          "03/15",
          "03/16",
          "03/17",
          "03/18",
          "03/19",
          "03/20",
          "03/21",
          "03/22",
          "03/23",
          "03/24",
          "03/25",
          "03/26",
          "03/27",
          "03/28",
          "03/29",
          "03/30",
          "03/31",
          "04/01",
          "04/02",
          "04/03",
          "04/04",
          "04/05",
          "04/06",
          "04/07",
          "04/08",
          "04/09",
          "04/10",
          "04/11",
          "04/12",
          "04/13",
          "04/14",
          "04/15",
          "04/16"
         ],
         "y": [
          0,
          0,
          1,
          0,
          0,
          6,
          9,
          8,
          3,
          8,
          19,
          9,
          27,
          12,
          32,
          34,
          44,
          38,
          39,
          50,
          71,
          65,
          52,
          94,
          51,
          28,
          46,
          127,
          111,
          132,
          67,
          55,
          53,
          33,
          61,
          37,
          45,
          58,
          65,
          82,
          90,
          144,
          156,
          200
         ]
        },
        {
         "line": {
          "color": "orange",
          "width": 2
         },
         "mode": "lines",
         "name": "Calgary Cumulative",
         "type": "scatter",
         "x": [
          "03/04",
          "03/05",
          "03/06",
          "03/07",
          "03/08",
          "03/09",
          "03/10",
          "03/11",
          "03/12",
          "03/13",
          "03/14",
          "03/15",
          "03/16",
          "03/17",
          "03/18",
          "03/19",
          "03/20",
          "03/21",
          "03/22",
          "03/23",
          "03/24",
          "03/25",
          "03/26",
          "03/27",
          "03/28",
          "03/29",
          "03/30",
          "03/31",
          "04/01",
          "04/02",
          "04/03",
          "04/04",
          "04/05",
          "04/06",
          "04/07",
          "04/08",
          "04/09",
          "04/10",
          "04/11",
          "04/12",
          "04/13",
          "04/14",
          "04/15",
          "04/16"
         ],
         "y": [
          null,
          null,
          1,
          null,
          null,
          4,
          10,
          16,
          18,
          26,
          39,
          47,
          64,
          65,
          91,
          107,
          133,
          162,
          190,
          219,
          259,
          303,
          347,
          394,
          423,
          443,
          466,
          542,
          605,
          696,
          743,
          771,
          791,
          808,
          838,
          858,
          896,
          942,
          990,
          1063,
          1149,
          1271,
          1393,
          1564
         ]
        },
        {
         "line": {
          "color": "blue",
          "width": 2
         },
         "mode": "lines",
         "name": "Edmonton Cumulative",
         "type": "scatter",
         "x": [
          "03/04",
          "03/05",
          "03/06",
          "03/07",
          "03/08",
          "03/09",
          "03/10",
          "03/11",
          "03/12",
          "03/13",
          "03/14",
          "03/15",
          "03/16",
          "03/17",
          "03/18",
          "03/19",
          "03/20",
          "03/21",
          "03/22",
          "03/23",
          "03/24",
          "03/25",
          "03/26",
          "03/27",
          "03/28",
          "03/29",
          "03/30",
          "03/31",
          "04/01",
          "04/02",
          "04/03",
          "04/04",
          "04/05",
          "04/06",
          "04/07",
          "04/08",
          "04/09",
          "04/10",
          "04/11",
          "04/12",
          "04/13",
          "04/14",
          "04/15",
          "04/16"
         ],
         "y": [
          null,
          null,
          0,
          null,
          null,
          3,
          6,
          7,
          7,
          7,
          13,
          14,
          20,
          29,
          33,
          42,
          54,
          58,
          62,
          70,
          90,
          104,
          109,
          132,
          148,
          154,
          174,
          215,
          253,
          282,
          296,
          310,
          333,
          341,
          356,
          369,
          376,
          382,
          392,
          396,
          397,
          404,
          412,
          422
         ]
        },
        {
         "marker": {
          "color": "darkgrey"
         },
         "name": "C19 Tests/day",
         "type": "bar",
         "x": [
          "03/04",
          "03/05",
          "03/06",
          "03/07",
          "03/08",
          "03/09",
          "03/10",
          "03/11",
          "03/12",
          "03/13",
          "03/14",
          "03/15",
          "03/16",
          "03/17",
          "03/18",
          "03/19",
          "03/20",
          "03/21",
          "03/22",
          "03/23",
          "03/24",
          "03/25",
          "03/26",
          "03/27",
          "03/28",
          "03/29",
          "03/30",
          "03/31",
          "04/01",
          "04/02",
          "04/03",
          "04/04",
          "04/05",
          "04/06",
          "04/07",
          "04/08",
          "04/09",
          "04/10",
          "04/11",
          "04/12",
          "04/13",
          "04/14",
          "04/15",
          "04/16"
         ],
         "y": [
          71,
          55,
          62,
          276,
          443,
          724,
          971,
          966,
          1145,
          1422,
          1608,
          1788,
          1324,
          2141,
          2884,
          2802,
          3418,
          3563,
          2642,
          2742,
          3155,
          1841,
          1108,
          3502,
          2085,
          1852,
          2557,
          4477,
          3663,
          3870,
          1525,
          1731,
          1101,
          1128,
          1355,
          1168,
          2206,
          2558,
          2019,
          2213,
          1985,
          2388,
          2921,
          2903
         ],
         "yaxis": "y2"
        }
       ],
       "layout": {
        "hovermode": "x",
        "legend": {
         "orientation": "h"
        },
        "template": {
         "data": {
          "bar": [
           {
            "error_x": {
             "color": "#2a3f5f"
            },
            "error_y": {
             "color": "#2a3f5f"
            },
            "marker": {
             "line": {
              "color": "#E5ECF6",
              "width": 0.5
             }
            },
            "type": "bar"
           }
          ],
          "barpolar": [
           {
            "marker": {
             "line": {
              "color": "#E5ECF6",
              "width": 0.5
             }
            },
            "type": "barpolar"
           }
          ],
          "carpet": [
           {
            "aaxis": {
             "endlinecolor": "#2a3f5f",
             "gridcolor": "white",
             "linecolor": "white",
             "minorgridcolor": "white",
             "startlinecolor": "#2a3f5f"
            },
            "baxis": {
             "endlinecolor": "#2a3f5f",
             "gridcolor": "white",
             "linecolor": "white",
             "minorgridcolor": "white",
             "startlinecolor": "#2a3f5f"
            },
            "type": "carpet"
           }
          ],
          "choropleth": [
           {
            "colorbar": {
             "outlinewidth": 0,
             "ticks": ""
            },
            "type": "choropleth"
           }
          ],
          "contour": [
           {
            "colorbar": {
             "outlinewidth": 0,
             "ticks": ""
            },
            "colorscale": [
             [
              0,
              "#0d0887"
             ],
             [
              0.1111111111111111,
              "#46039f"
             ],
             [
              0.2222222222222222,
              "#7201a8"
             ],
             [
              0.3333333333333333,
              "#9c179e"
             ],
             [
              0.4444444444444444,
              "#bd3786"
             ],
             [
              0.5555555555555556,
              "#d8576b"
             ],
             [
              0.6666666666666666,
              "#ed7953"
             ],
             [
              0.7777777777777778,
              "#fb9f3a"
             ],
             [
              0.8888888888888888,
              "#fdca26"
             ],
             [
              1,
              "#f0f921"
             ]
            ],
            "type": "contour"
           }
          ],
          "contourcarpet": [
           {
            "colorbar": {
             "outlinewidth": 0,
             "ticks": ""
            },
            "type": "contourcarpet"
           }
          ],
          "heatmap": [
           {
            "colorbar": {
             "outlinewidth": 0,
             "ticks": ""
            },
            "colorscale": [
             [
              0,
              "#0d0887"
             ],
             [
              0.1111111111111111,
              "#46039f"
             ],
             [
              0.2222222222222222,
              "#7201a8"
             ],
             [
              0.3333333333333333,
              "#9c179e"
             ],
             [
              0.4444444444444444,
              "#bd3786"
             ],
             [
              0.5555555555555556,
              "#d8576b"
             ],
             [
              0.6666666666666666,
              "#ed7953"
             ],
             [
              0.7777777777777778,
              "#fb9f3a"
             ],
             [
              0.8888888888888888,
              "#fdca26"
             ],
             [
              1,
              "#f0f921"
             ]
            ],
            "type": "heatmap"
           }
          ],
          "heatmapgl": [
           {
            "colorbar": {
             "outlinewidth": 0,
             "ticks": ""
            },
            "colorscale": [
             [
              0,
              "#0d0887"
             ],
             [
              0.1111111111111111,
              "#46039f"
             ],
             [
              0.2222222222222222,
              "#7201a8"
             ],
             [
              0.3333333333333333,
              "#9c179e"
             ],
             [
              0.4444444444444444,
              "#bd3786"
             ],
             [
              0.5555555555555556,
              "#d8576b"
             ],
             [
              0.6666666666666666,
              "#ed7953"
             ],
             [
              0.7777777777777778,
              "#fb9f3a"
             ],
             [
              0.8888888888888888,
              "#fdca26"
             ],
             [
              1,
              "#f0f921"
             ]
            ],
            "type": "heatmapgl"
           }
          ],
          "histogram": [
           {
            "marker": {
             "colorbar": {
              "outlinewidth": 0,
              "ticks": ""
             }
            },
            "type": "histogram"
           }
          ],
          "histogram2d": [
           {
            "colorbar": {
             "outlinewidth": 0,
             "ticks": ""
            },
            "colorscale": [
             [
              0,
              "#0d0887"
             ],
             [
              0.1111111111111111,
              "#46039f"
             ],
             [
              0.2222222222222222,
              "#7201a8"
             ],
             [
              0.3333333333333333,
              "#9c179e"
             ],
             [
              0.4444444444444444,
              "#bd3786"
             ],
             [
              0.5555555555555556,
              "#d8576b"
             ],
             [
              0.6666666666666666,
              "#ed7953"
             ],
             [
              0.7777777777777778,
              "#fb9f3a"
             ],
             [
              0.8888888888888888,
              "#fdca26"
             ],
             [
              1,
              "#f0f921"
             ]
            ],
            "type": "histogram2d"
           }
          ],
          "histogram2dcontour": [
           {
            "colorbar": {
             "outlinewidth": 0,
             "ticks": ""
            },
            "colorscale": [
             [
              0,
              "#0d0887"
             ],
             [
              0.1111111111111111,
              "#46039f"
             ],
             [
              0.2222222222222222,
              "#7201a8"
             ],
             [
              0.3333333333333333,
              "#9c179e"
             ],
             [
              0.4444444444444444,
              "#bd3786"
             ],
             [
              0.5555555555555556,
              "#d8576b"
             ],
             [
              0.6666666666666666,
              "#ed7953"
             ],
             [
              0.7777777777777778,
              "#fb9f3a"
             ],
             [
              0.8888888888888888,
              "#fdca26"
             ],
             [
              1,
              "#f0f921"
             ]
            ],
            "type": "histogram2dcontour"
           }
          ],
          "mesh3d": [
           {
            "colorbar": {
             "outlinewidth": 0,
             "ticks": ""
            },
            "type": "mesh3d"
           }
          ],
          "parcoords": [
           {
            "line": {
             "colorbar": {
              "outlinewidth": 0,
              "ticks": ""
             }
            },
            "type": "parcoords"
           }
          ],
          "pie": [
           {
            "automargin": true,
            "type": "pie"
           }
          ],
          "scatter": [
           {
            "marker": {
             "colorbar": {
              "outlinewidth": 0,
              "ticks": ""
             }
            },
            "type": "scatter"
           }
          ],
          "scatter3d": [
           {
            "line": {
             "colorbar": {
              "outlinewidth": 0,
              "ticks": ""
             }
            },
            "marker": {
             "colorbar": {
              "outlinewidth": 0,
              "ticks": ""
             }
            },
            "type": "scatter3d"
           }
          ],
          "scattercarpet": [
           {
            "marker": {
             "colorbar": {
              "outlinewidth": 0,
              "ticks": ""
             }
            },
            "type": "scattercarpet"
           }
          ],
          "scattergeo": [
           {
            "marker": {
             "colorbar": {
              "outlinewidth": 0,
              "ticks": ""
             }
            },
            "type": "scattergeo"
           }
          ],
          "scattergl": [
           {
            "marker": {
             "colorbar": {
              "outlinewidth": 0,
              "ticks": ""
             }
            },
            "type": "scattergl"
           }
          ],
          "scattermapbox": [
           {
            "marker": {
             "colorbar": {
              "outlinewidth": 0,
              "ticks": ""
             }
            },
            "type": "scattermapbox"
           }
          ],
          "scatterpolar": [
           {
            "marker": {
             "colorbar": {
              "outlinewidth": 0,
              "ticks": ""
             }
            },
            "type": "scatterpolar"
           }
          ],
          "scatterpolargl": [
           {
            "marker": {
             "colorbar": {
              "outlinewidth": 0,
              "ticks": ""
             }
            },
            "type": "scatterpolargl"
           }
          ],
          "scatterternary": [
           {
            "marker": {
             "colorbar": {
              "outlinewidth": 0,
              "ticks": ""
             }
            },
            "type": "scatterternary"
           }
          ],
          "surface": [
           {
            "colorbar": {
             "outlinewidth": 0,
             "ticks": ""
            },
            "colorscale": [
             [
              0,
              "#0d0887"
             ],
             [
              0.1111111111111111,
              "#46039f"
             ],
             [
              0.2222222222222222,
              "#7201a8"
             ],
             [
              0.3333333333333333,
              "#9c179e"
             ],
             [
              0.4444444444444444,
              "#bd3786"
             ],
             [
              0.5555555555555556,
              "#d8576b"
             ],
             [
              0.6666666666666666,
              "#ed7953"
             ],
             [
              0.7777777777777778,
              "#fb9f3a"
             ],
             [
              0.8888888888888888,
              "#fdca26"
             ],
             [
              1,
              "#f0f921"
             ]
            ],
            "type": "surface"
           }
          ],
          "table": [
           {
            "cells": {
             "fill": {
              "color": "#EBF0F8"
             },
             "line": {
              "color": "white"
             }
            },
            "header": {
             "fill": {
              "color": "#C8D4E3"
             },
             "line": {
              "color": "white"
             }
            },
            "type": "table"
           }
          ]
         },
         "layout": {
          "annotationdefaults": {
           "arrowcolor": "#2a3f5f",
           "arrowhead": 0,
           "arrowwidth": 1
          },
          "coloraxis": {
           "colorbar": {
            "outlinewidth": 0,
            "ticks": ""
           }
          },
          "colorscale": {
           "diverging": [
            [
             0,
             "#8e0152"
            ],
            [
             0.1,
             "#c51b7d"
            ],
            [
             0.2,
             "#de77ae"
            ],
            [
             0.3,
             "#f1b6da"
            ],
            [
             0.4,
             "#fde0ef"
            ],
            [
             0.5,
             "#f7f7f7"
            ],
            [
             0.6,
             "#e6f5d0"
            ],
            [
             0.7,
             "#b8e186"
            ],
            [
             0.8,
             "#7fbc41"
            ],
            [
             0.9,
             "#4d9221"
            ],
            [
             1,
             "#276419"
            ]
           ],
           "sequential": [
            [
             0,
             "#0d0887"
            ],
            [
             0.1111111111111111,
             "#46039f"
            ],
            [
             0.2222222222222222,
             "#7201a8"
            ],
            [
             0.3333333333333333,
             "#9c179e"
            ],
            [
             0.4444444444444444,
             "#bd3786"
            ],
            [
             0.5555555555555556,
             "#d8576b"
            ],
            [
             0.6666666666666666,
             "#ed7953"
            ],
            [
             0.7777777777777778,
             "#fb9f3a"
            ],
            [
             0.8888888888888888,
             "#fdca26"
            ],
            [
             1,
             "#f0f921"
            ]
           ],
           "sequentialminus": [
            [
             0,
             "#0d0887"
            ],
            [
             0.1111111111111111,
             "#46039f"
            ],
            [
             0.2222222222222222,
             "#7201a8"
            ],
            [
             0.3333333333333333,
             "#9c179e"
            ],
            [
             0.4444444444444444,
             "#bd3786"
            ],
            [
             0.5555555555555556,
             "#d8576b"
            ],
            [
             0.6666666666666666,
             "#ed7953"
            ],
            [
             0.7777777777777778,
             "#fb9f3a"
            ],
            [
             0.8888888888888888,
             "#fdca26"
            ],
            [
             1,
             "#f0f921"
            ]
           ]
          },
          "colorway": [
           "#636efa",
           "#EF553B",
           "#00cc96",
           "#ab63fa",
           "#FFA15A",
           "#19d3f3",
           "#FF6692",
           "#B6E880",
           "#FF97FF",
           "#FECB52"
          ],
          "font": {
           "color": "#2a3f5f"
          },
          "geo": {
           "bgcolor": "white",
           "lakecolor": "white",
           "landcolor": "#E5ECF6",
           "showlakes": true,
           "showland": true,
           "subunitcolor": "white"
          },
          "hoverlabel": {
           "align": "left"
          },
          "hovermode": "closest",
          "mapbox": {
           "style": "light"
          },
          "paper_bgcolor": "white",
          "plot_bgcolor": "#E5ECF6",
          "polar": {
           "angularaxis": {
            "gridcolor": "white",
            "linecolor": "white",
            "ticks": ""
           },
           "bgcolor": "#E5ECF6",
           "radialaxis": {
            "gridcolor": "white",
            "linecolor": "white",
            "ticks": ""
           }
          },
          "scene": {
           "xaxis": {
            "backgroundcolor": "#E5ECF6",
            "gridcolor": "white",
            "gridwidth": 2,
            "linecolor": "white",
            "showbackground": true,
            "ticks": "",
            "zerolinecolor": "white"
           },
           "yaxis": {
            "backgroundcolor": "#E5ECF6",
            "gridcolor": "white",
            "gridwidth": 2,
            "linecolor": "white",
            "showbackground": true,
            "ticks": "",
            "zerolinecolor": "white"
           },
           "zaxis": {
            "backgroundcolor": "#E5ECF6",
            "gridcolor": "white",
            "gridwidth": 2,
            "linecolor": "white",
            "showbackground": true,
            "ticks": "",
            "zerolinecolor": "white"
           }
          },
          "shapedefaults": {
           "line": {
            "color": "#2a3f5f"
           }
          },
          "ternary": {
           "aaxis": {
            "gridcolor": "white",
            "linecolor": "white",
            "ticks": ""
           },
           "baxis": {
            "gridcolor": "white",
            "linecolor": "white",
            "ticks": ""
           },
           "bgcolor": "#E5ECF6",
           "caxis": {
            "gridcolor": "white",
            "linecolor": "white",
            "ticks": ""
           }
          },
          "title": {
           "x": 0.05
          },
          "xaxis": {
           "automargin": true,
           "gridcolor": "white",
           "linecolor": "white",
           "ticks": "",
           "title": {
            "standoff": 15
           },
           "zerolinecolor": "white",
           "zerolinewidth": 2
          },
          "yaxis": {
           "automargin": true,
           "gridcolor": "white",
           "linecolor": "white",
           "ticks": "",
           "title": {
            "standoff": 15
           },
           "zerolinecolor": "white",
           "zerolinewidth": 2
          }
         }
        },
        "title": {
         "text": "April 16 - Alberta Covid-19: Case Counts and Number of Tests"
        },
        "xaxis": {
         "domain": [
          0.01,
          0.95
         ],
         "dtick": 2,
         "rangemode": "nonnegative",
         "tick0": 0,
         "tickangle": 45,
         "tickfont": {
          "color": "black",
          "size": 10
         },
         "title": {
          "font": {
           "size": 12
          },
          "text": "Date"
         }
        },
        "yaxis": {
         "dtick": 100,
         "overlaying": "y2",
         "rangemode": "nonnegative",
         "side": "right",
         "tick0": 0,
         "tickfont": {
          "color": "black",
          "size": 11
         },
         "title": {
          "font": {
           "color": "black"
          },
          "text": "Case Count"
         }
        },
        "yaxis2": {
         "anchor": "x",
         "domain": [
          0.1,
          0.95
         ],
         "rangemode": "nonnegative",
         "showgrid": false,
         "side": "left",
         "tickfont": {
          "color": "black",
          "size": 11
         },
         "ticks": "inside",
         "title": {
          "font": {
           "color": "black",
           "size": 12
          },
          "text": "New Tests per Day"
         }
        }
       }
      },
      "text/html": [
       "<div>\n",
       "        \n",
       "        \n",
       "            <div id=\"7c627793-8dc6-4d7f-b380-3c01ae307cce\" class=\"plotly-graph-div\" style=\"height:525px; width:100%;\"></div>\n",
       "            <script type=\"text/javascript\">\n",
       "                require([\"plotly\"], function(Plotly) {\n",
       "                    window.PLOTLYENV=window.PLOTLYENV || {};\n",
       "                    \n",
       "                if (document.getElementById(\"7c627793-8dc6-4d7f-b380-3c01ae307cce\")) {\n",
       "                    Plotly.newPlot(\n",
       "                        '7c627793-8dc6-4d7f-b380-3c01ae307cce',\n",
       "                        [{\"line\": {\"color\": \"green\", \"width\": 2}, \"mode\": \"lines\", \"name\": \"Alberta Daily\", \"type\": \"scatter\", \"x\": [\"03/04\", \"03/05\", \"03/06\", \"03/07\", \"03/08\", \"03/09\", \"03/10\", \"03/11\", \"03/12\", \"03/13\", \"03/14\", \"03/15\", \"03/16\", \"03/17\", \"03/18\", \"03/19\", \"03/20\", \"03/21\", \"03/22\", \"03/23\", \"03/24\", \"03/25\", \"03/26\", \"03/27\", \"03/28\", \"03/29\", \"03/30\", \"03/31\", \"04/01\", \"04/02\", \"04/03\", \"04/04\", \"04/05\", \"04/06\", \"04/07\", \"04/08\", \"04/09\", \"04/10\", \"04/11\", \"04/12\", \"04/13\", \"04/14\", \"04/15\", \"04/16\"], \"y\": [0.0, 0.0, 1.0, 0.0, 0.0, 6.0, 9.0, 8.0, 3.0, 8.0, 19.0, 9.0, 27.0, 12.0, 32.0, 34.0, 44.0, 38.0, 39.0, 50.0, 71.0, 65.0, 52.0, 94.0, 51.0, 28.0, 46.0, 127.0, 111.0, 132.0, 67.0, 55.0, 53.0, 33.0, 61.0, 37.0, 45.0, 58.0, 65.0, 82.0, 90.0, 144.0, 156.0, 200.0]}, {\"line\": {\"color\": \"orange\", \"width\": 2}, \"mode\": \"lines\", \"name\": \"Calgary Cumulative\", \"type\": \"scatter\", \"x\": [\"03/04\", \"03/05\", \"03/06\", \"03/07\", \"03/08\", \"03/09\", \"03/10\", \"03/11\", \"03/12\", \"03/13\", \"03/14\", \"03/15\", \"03/16\", \"03/17\", \"03/18\", \"03/19\", \"03/20\", \"03/21\", \"03/22\", \"03/23\", \"03/24\", \"03/25\", \"03/26\", \"03/27\", \"03/28\", \"03/29\", \"03/30\", \"03/31\", \"04/01\", \"04/02\", \"04/03\", \"04/04\", \"04/05\", \"04/06\", \"04/07\", \"04/08\", \"04/09\", \"04/10\", \"04/11\", \"04/12\", \"04/13\", \"04/14\", \"04/15\", \"04/16\"], \"y\": [null, null, 1.0, null, null, 4.0, 10.0, 16.0, 18.0, 26.0, 39.0, 47.0, 64.0, 65.0, 91.0, 107.0, 133.0, 162.0, 190.0, 219.0, 259.0, 303.0, 347.0, 394.0, 423.0, 443.0, 466.0, 542.0, 605.0, 696.0, 743.0, 771.0, 791.0, 808.0, 838.0, 858.0, 896.0, 942.0, 990.0, 1063.0, 1149.0, 1271.0, 1393.0, 1564.0]}, {\"line\": {\"color\": \"blue\", \"width\": 2}, \"mode\": \"lines\", \"name\": \"Edmonton Cumulative\", \"type\": \"scatter\", \"x\": [\"03/04\", \"03/05\", \"03/06\", \"03/07\", \"03/08\", \"03/09\", \"03/10\", \"03/11\", \"03/12\", \"03/13\", \"03/14\", \"03/15\", \"03/16\", \"03/17\", \"03/18\", \"03/19\", \"03/20\", \"03/21\", \"03/22\", \"03/23\", \"03/24\", \"03/25\", \"03/26\", \"03/27\", \"03/28\", \"03/29\", \"03/30\", \"03/31\", \"04/01\", \"04/02\", \"04/03\", \"04/04\", \"04/05\", \"04/06\", \"04/07\", \"04/08\", \"04/09\", \"04/10\", \"04/11\", \"04/12\", \"04/13\", \"04/14\", \"04/15\", \"04/16\"], \"y\": [null, null, 0.0, null, null, 3.0, 6.0, 7.0, 7.0, 7.0, 13.0, 14.0, 20.0, 29.0, 33.0, 42.0, 54.0, 58.0, 62.0, 70.0, 90.0, 104.0, 109.0, 132.0, 148.0, 154.0, 174.0, 215.0, 253.0, 282.0, 296.0, 310.0, 333.0, 341.0, 356.0, 369.0, 376.0, 382.0, 392.0, 396.0, 397.0, 404.0, 412.0, 422.0]}, {\"marker\": {\"color\": \"darkgrey\"}, \"name\": \"C19 Tests/day\", \"type\": \"bar\", \"x\": [\"03/04\", \"03/05\", \"03/06\", \"03/07\", \"03/08\", \"03/09\", \"03/10\", \"03/11\", \"03/12\", \"03/13\", \"03/14\", \"03/15\", \"03/16\", \"03/17\", \"03/18\", \"03/19\", \"03/20\", \"03/21\", \"03/22\", \"03/23\", \"03/24\", \"03/25\", \"03/26\", \"03/27\", \"03/28\", \"03/29\", \"03/30\", \"03/31\", \"04/01\", \"04/02\", \"04/03\", \"04/04\", \"04/05\", \"04/06\", \"04/07\", \"04/08\", \"04/09\", \"04/10\", \"04/11\", \"04/12\", \"04/13\", \"04/14\", \"04/15\", \"04/16\"], \"y\": [71, 55, 62, 276, 443, 724, 971, 966, 1145, 1422, 1608, 1788, 1324, 2141, 2884, 2802, 3418, 3563, 2642, 2742, 3155, 1841, 1108, 3502, 2085, 1852, 2557, 4477, 3663, 3870, 1525, 1731, 1101, 1128, 1355, 1168, 2206, 2558, 2019, 2213, 1985, 2388, 2921, 2903], \"yaxis\": \"y2\"}],\n",
       "                        {\"hovermode\": \"x\", \"legend\": {\"orientation\": \"h\"}, \"template\": {\"data\": {\"bar\": [{\"error_x\": {\"color\": \"#2a3f5f\"}, \"error_y\": {\"color\": \"#2a3f5f\"}, \"marker\": {\"line\": {\"color\": \"#E5ECF6\", \"width\": 0.5}}, \"type\": \"bar\"}], \"barpolar\": [{\"marker\": {\"line\": {\"color\": \"#E5ECF6\", \"width\": 0.5}}, \"type\": \"barpolar\"}], \"carpet\": [{\"aaxis\": {\"endlinecolor\": \"#2a3f5f\", \"gridcolor\": \"white\", \"linecolor\": \"white\", \"minorgridcolor\": \"white\", \"startlinecolor\": \"#2a3f5f\"}, \"baxis\": {\"endlinecolor\": \"#2a3f5f\", \"gridcolor\": \"white\", \"linecolor\": \"white\", \"minorgridcolor\": \"white\", \"startlinecolor\": \"#2a3f5f\"}, \"type\": \"carpet\"}], \"choropleth\": [{\"colorbar\": {\"outlinewidth\": 0, \"ticks\": \"\"}, \"type\": \"choropleth\"}], \"contour\": [{\"colorbar\": {\"outlinewidth\": 0, \"ticks\": \"\"}, \"colorscale\": [[0.0, \"#0d0887\"], [0.1111111111111111, \"#46039f\"], [0.2222222222222222, \"#7201a8\"], [0.3333333333333333, \"#9c179e\"], [0.4444444444444444, \"#bd3786\"], [0.5555555555555556, \"#d8576b\"], [0.6666666666666666, \"#ed7953\"], [0.7777777777777778, \"#fb9f3a\"], [0.8888888888888888, \"#fdca26\"], [1.0, \"#f0f921\"]], \"type\": \"contour\"}], \"contourcarpet\": [{\"colorbar\": {\"outlinewidth\": 0, \"ticks\": \"\"}, \"type\": \"contourcarpet\"}], \"heatmap\": [{\"colorbar\": {\"outlinewidth\": 0, \"ticks\": \"\"}, \"colorscale\": [[0.0, \"#0d0887\"], [0.1111111111111111, \"#46039f\"], [0.2222222222222222, \"#7201a8\"], [0.3333333333333333, \"#9c179e\"], [0.4444444444444444, \"#bd3786\"], [0.5555555555555556, \"#d8576b\"], [0.6666666666666666, \"#ed7953\"], [0.7777777777777778, \"#fb9f3a\"], [0.8888888888888888, \"#fdca26\"], [1.0, \"#f0f921\"]], \"type\": \"heatmap\"}], \"heatmapgl\": [{\"colorbar\": {\"outlinewidth\": 0, \"ticks\": \"\"}, \"colorscale\": [[0.0, \"#0d0887\"], [0.1111111111111111, \"#46039f\"], [0.2222222222222222, \"#7201a8\"], [0.3333333333333333, \"#9c179e\"], [0.4444444444444444, \"#bd3786\"], [0.5555555555555556, \"#d8576b\"], [0.6666666666666666, \"#ed7953\"], [0.7777777777777778, \"#fb9f3a\"], [0.8888888888888888, \"#fdca26\"], [1.0, \"#f0f921\"]], \"type\": \"heatmapgl\"}], \"histogram\": [{\"marker\": {\"colorbar\": {\"outlinewidth\": 0, \"ticks\": \"\"}}, \"type\": \"histogram\"}], \"histogram2d\": [{\"colorbar\": {\"outlinewidth\": 0, \"ticks\": \"\"}, \"colorscale\": [[0.0, \"#0d0887\"], [0.1111111111111111, \"#46039f\"], [0.2222222222222222, \"#7201a8\"], [0.3333333333333333, \"#9c179e\"], [0.4444444444444444, \"#bd3786\"], [0.5555555555555556, \"#d8576b\"], [0.6666666666666666, \"#ed7953\"], [0.7777777777777778, \"#fb9f3a\"], [0.8888888888888888, \"#fdca26\"], [1.0, \"#f0f921\"]], \"type\": \"histogram2d\"}], \"histogram2dcontour\": [{\"colorbar\": {\"outlinewidth\": 0, \"ticks\": \"\"}, \"colorscale\": [[0.0, \"#0d0887\"], [0.1111111111111111, \"#46039f\"], [0.2222222222222222, \"#7201a8\"], [0.3333333333333333, \"#9c179e\"], [0.4444444444444444, \"#bd3786\"], [0.5555555555555556, \"#d8576b\"], [0.6666666666666666, \"#ed7953\"], [0.7777777777777778, \"#fb9f3a\"], [0.8888888888888888, \"#fdca26\"], [1.0, \"#f0f921\"]], \"type\": \"histogram2dcontour\"}], \"mesh3d\": [{\"colorbar\": {\"outlinewidth\": 0, \"ticks\": \"\"}, \"type\": \"mesh3d\"}], \"parcoords\": [{\"line\": {\"colorbar\": {\"outlinewidth\": 0, \"ticks\": \"\"}}, \"type\": \"parcoords\"}], \"pie\": [{\"automargin\": true, \"type\": \"pie\"}], \"scatter\": [{\"marker\": {\"colorbar\": {\"outlinewidth\": 0, \"ticks\": \"\"}}, \"type\": \"scatter\"}], \"scatter3d\": [{\"line\": {\"colorbar\": {\"outlinewidth\": 0, \"ticks\": \"\"}}, \"marker\": {\"colorbar\": {\"outlinewidth\": 0, \"ticks\": \"\"}}, \"type\": \"scatter3d\"}], \"scattercarpet\": [{\"marker\": {\"colorbar\": {\"outlinewidth\": 0, \"ticks\": \"\"}}, \"type\": \"scattercarpet\"}], \"scattergeo\": [{\"marker\": {\"colorbar\": {\"outlinewidth\": 0, \"ticks\": \"\"}}, \"type\": \"scattergeo\"}], \"scattergl\": [{\"marker\": {\"colorbar\": {\"outlinewidth\": 0, \"ticks\": \"\"}}, \"type\": \"scattergl\"}], \"scattermapbox\": [{\"marker\": {\"colorbar\": {\"outlinewidth\": 0, \"ticks\": \"\"}}, \"type\": \"scattermapbox\"}], \"scatterpolar\": [{\"marker\": {\"colorbar\": {\"outlinewidth\": 0, \"ticks\": \"\"}}, \"type\": \"scatterpolar\"}], \"scatterpolargl\": [{\"marker\": {\"colorbar\": {\"outlinewidth\": 0, \"ticks\": \"\"}}, \"type\": \"scatterpolargl\"}], \"scatterternary\": [{\"marker\": {\"colorbar\": {\"outlinewidth\": 0, \"ticks\": \"\"}}, \"type\": \"scatterternary\"}], \"surface\": [{\"colorbar\": {\"outlinewidth\": 0, \"ticks\": \"\"}, \"colorscale\": [[0.0, \"#0d0887\"], [0.1111111111111111, \"#46039f\"], [0.2222222222222222, \"#7201a8\"], [0.3333333333333333, \"#9c179e\"], [0.4444444444444444, \"#bd3786\"], [0.5555555555555556, \"#d8576b\"], [0.6666666666666666, \"#ed7953\"], [0.7777777777777778, \"#fb9f3a\"], [0.8888888888888888, \"#fdca26\"], [1.0, \"#f0f921\"]], \"type\": \"surface\"}], \"table\": [{\"cells\": {\"fill\": {\"color\": \"#EBF0F8\"}, \"line\": {\"color\": \"white\"}}, \"header\": {\"fill\": {\"color\": \"#C8D4E3\"}, \"line\": {\"color\": \"white\"}}, \"type\": \"table\"}]}, \"layout\": {\"annotationdefaults\": {\"arrowcolor\": \"#2a3f5f\", \"arrowhead\": 0, \"arrowwidth\": 1}, \"coloraxis\": {\"colorbar\": {\"outlinewidth\": 0, \"ticks\": \"\"}}, \"colorscale\": {\"diverging\": [[0, \"#8e0152\"], [0.1, \"#c51b7d\"], [0.2, \"#de77ae\"], [0.3, \"#f1b6da\"], [0.4, \"#fde0ef\"], [0.5, \"#f7f7f7\"], [0.6, \"#e6f5d0\"], [0.7, \"#b8e186\"], [0.8, \"#7fbc41\"], [0.9, \"#4d9221\"], [1, \"#276419\"]], \"sequential\": [[0.0, \"#0d0887\"], [0.1111111111111111, \"#46039f\"], [0.2222222222222222, \"#7201a8\"], [0.3333333333333333, \"#9c179e\"], [0.4444444444444444, \"#bd3786\"], [0.5555555555555556, \"#d8576b\"], [0.6666666666666666, \"#ed7953\"], [0.7777777777777778, \"#fb9f3a\"], [0.8888888888888888, \"#fdca26\"], [1.0, \"#f0f921\"]], \"sequentialminus\": [[0.0, \"#0d0887\"], [0.1111111111111111, \"#46039f\"], [0.2222222222222222, \"#7201a8\"], [0.3333333333333333, \"#9c179e\"], [0.4444444444444444, \"#bd3786\"], [0.5555555555555556, \"#d8576b\"], [0.6666666666666666, \"#ed7953\"], [0.7777777777777778, \"#fb9f3a\"], [0.8888888888888888, \"#fdca26\"], [1.0, \"#f0f921\"]]}, \"colorway\": [\"#636efa\", \"#EF553B\", \"#00cc96\", \"#ab63fa\", \"#FFA15A\", \"#19d3f3\", \"#FF6692\", \"#B6E880\", \"#FF97FF\", \"#FECB52\"], \"font\": {\"color\": \"#2a3f5f\"}, \"geo\": {\"bgcolor\": \"white\", \"lakecolor\": \"white\", \"landcolor\": \"#E5ECF6\", \"showlakes\": true, \"showland\": true, \"subunitcolor\": \"white\"}, \"hoverlabel\": {\"align\": \"left\"}, \"hovermode\": \"closest\", \"mapbox\": {\"style\": \"light\"}, \"paper_bgcolor\": \"white\", \"plot_bgcolor\": \"#E5ECF6\", \"polar\": {\"angularaxis\": {\"gridcolor\": \"white\", \"linecolor\": \"white\", \"ticks\": \"\"}, \"bgcolor\": \"#E5ECF6\", \"radialaxis\": {\"gridcolor\": \"white\", \"linecolor\": \"white\", \"ticks\": \"\"}}, \"scene\": {\"xaxis\": {\"backgroundcolor\": \"#E5ECF6\", \"gridcolor\": \"white\", \"gridwidth\": 2, \"linecolor\": \"white\", \"showbackground\": true, \"ticks\": \"\", \"zerolinecolor\": \"white\"}, \"yaxis\": {\"backgroundcolor\": \"#E5ECF6\", \"gridcolor\": \"white\", \"gridwidth\": 2, \"linecolor\": \"white\", \"showbackground\": true, \"ticks\": \"\", \"zerolinecolor\": \"white\"}, \"zaxis\": {\"backgroundcolor\": \"#E5ECF6\", \"gridcolor\": \"white\", \"gridwidth\": 2, \"linecolor\": \"white\", \"showbackground\": true, \"ticks\": \"\", \"zerolinecolor\": \"white\"}}, \"shapedefaults\": {\"line\": {\"color\": \"#2a3f5f\"}}, \"ternary\": {\"aaxis\": {\"gridcolor\": \"white\", \"linecolor\": \"white\", \"ticks\": \"\"}, \"baxis\": {\"gridcolor\": \"white\", \"linecolor\": \"white\", \"ticks\": \"\"}, \"bgcolor\": \"#E5ECF6\", \"caxis\": {\"gridcolor\": \"white\", \"linecolor\": \"white\", \"ticks\": \"\"}}, \"title\": {\"x\": 0.05}, \"xaxis\": {\"automargin\": true, \"gridcolor\": \"white\", \"linecolor\": \"white\", \"ticks\": \"\", \"title\": {\"standoff\": 15}, \"zerolinecolor\": \"white\", \"zerolinewidth\": 2}, \"yaxis\": {\"automargin\": true, \"gridcolor\": \"white\", \"linecolor\": \"white\", \"ticks\": \"\", \"title\": {\"standoff\": 15}, \"zerolinecolor\": \"white\", \"zerolinewidth\": 2}}}, \"title\": {\"text\": \"April 16 - Alberta Covid-19: Case Counts and Number of Tests\"}, \"xaxis\": {\"domain\": [0.01, 0.95], \"dtick\": 2, \"rangemode\": \"nonnegative\", \"tick0\": 0, \"tickangle\": 45, \"tickfont\": {\"color\": \"black\", \"size\": 10}, \"title\": {\"font\": {\"size\": 12}, \"text\": \"Date\"}}, \"yaxis\": {\"dtick\": 100, \"overlaying\": \"y2\", \"rangemode\": \"nonnegative\", \"side\": \"right\", \"tick0\": 0, \"tickfont\": {\"color\": \"black\", \"size\": 11}, \"title\": {\"font\": {\"color\": \"black\"}, \"text\": \"Case Count\"}}, \"yaxis2\": {\"anchor\": \"x\", \"domain\": [0.1, 0.95], \"rangemode\": \"nonnegative\", \"showgrid\": false, \"side\": \"left\", \"tickfont\": {\"color\": \"black\", \"size\": 11}, \"ticks\": \"inside\", \"title\": {\"font\": {\"color\": \"black\", \"size\": 12}, \"text\": \"New Tests per Day\"}}},\n",
       "                        {\"responsive\": true}\n",
       "                    ).then(function(){\n",
       "                            \n",
       "var gd = document.getElementById('7c627793-8dc6-4d7f-b380-3c01ae307cce');\n",
       "var x = new MutationObserver(function (mutations, observer) {{\n",
       "        var display = window.getComputedStyle(gd).display;\n",
       "        if (!display || display === 'none') {{\n",
       "            console.log([gd, 'removed!']);\n",
       "            Plotly.purge(gd);\n",
       "            observer.disconnect();\n",
       "        }}\n",
       "}});\n",
       "\n",
       "// Listen for the removal of the full notebook cells\n",
       "var notebookContainer = gd.closest('#notebook-container');\n",
       "if (notebookContainer) {{\n",
       "    x.observe(notebookContainer, {childList: true});\n",
       "}}\n",
       "\n",
       "// Listen for the clearing of the current output cell\n",
       "var outputEl = gd.closest('.output');\n",
       "if (outputEl) {{\n",
       "    x.observe(outputEl, {childList: true});\n",
       "}}\n",
       "\n",
       "                        })\n",
       "                };\n",
       "                });\n",
       "            </script>\n",
       "        </div>"
      ]
     },
     "metadata": {},
     "output_type": "display_data"
    }
   ],
   "source": [
    "# Set up the defaults and the data\n",
    "ln_width = 2\n",
    "days_to_trim = 1\n",
    "mode = 'lines'\n",
    "trace_formats = {'Ab_cases': {'mode': mode,\n",
    "                                 'line': {'color': 'green', 'width':ln_width},\n",
    "                                 'name': 'Alberta Daily'}, \n",
    "                 'Calgary_cumulative': {'mode': mode,\n",
    "                                      'line': {'color': 'orange', 'width':ln_width},\n",
    "                                      'name': 'Calgary Cumulative'},  \n",
    "                 'Edmont_cumulative': {'mode': mode,\n",
    "                                     'line': {'color': 'blue', 'width':ln_width},\n",
    "                                     'name': 'Edmonton Cumulative'}\n",
    "                } \n",
    "plot_data = all_data[:-days_to_trim]\n",
    "updated = plot_data.index[-1].strftime(\"%B %d\")\n",
    "# Create the plot\n",
    "data = list()\n",
    "date_fmt = \"%m/%d\"\n",
    "for key in trace_formats.keys():\n",
    "    data.append(go.Scatter(x=plot_data.index.strftime(date_fmt), y=plot_data[key],\n",
    "                             mode=trace_formats[key]['mode'], line=trace_formats[key]['line'],\n",
    "                             name=trace_formats[key]['name'],\n",
    "                             )\n",
    "                )\n",
    "data.append(go.Bar(x=plot_data.index.strftime(date_fmt),  y=plot_data['test_count'],\n",
    "                     name='C19 Tests/day', yaxis='y2', marker={'color':'darkgrey'}))\n",
    "layout = go.Layout(title=f'{updated} - Alberta Covid-19: Case Counts and Number of Tests',\n",
    "                    xaxis=dict(domain=[0.01, 0.95], title='Date', titlefont={'size': 12}, \n",
    "                               rangemode='nonnegative', tick0=0, dtick=2, tickangle=45,\n",
    "                               tickfont={'color':'black', 'size':10}),\n",
    "                    yaxis=dict(title='Case Count', titlefont=dict(color='black'), \n",
    "                               tickfont={'color':'black', 'size':11}, overlaying='y2', side='right',\n",
    "                               rangemode='nonnegative', tick0=0, dtick=100),\n",
    "                    yaxis2=dict(domain=[0.1, 0.95], title='New Tests per Day', titlefont={'size': 12, 'color':'black'}, \n",
    "                                tickfont={'color':'black', 'size':11}, showgrid=False,\n",
    "                                anchor='x', side='left', rangemode='nonnegative', ticks='inside'),\n",
    "                    legend_orientation=\"h\", hovermode='x')\n",
    "fig = go.Figure(data=data, layout=layout)\n",
    "fig.show()\n",
    "fig.write_html('images/daily_cases.html')"
   ]
  },
  {
   "cell_type": "code",
   "execution_count": null,
   "metadata": {},
   "outputs": [
    {
     "data": {
      "text/plain": [
       "Index(['Ab_cumCases', 'Confirmed_count', 'Probable_count', 'Ab_cases',\n",
       "       'Active_cum', 'Died_cum', 'Recovered_cum', 'Ab_dtime', 'Ab_dtime_rw',\n",
       "       'Calgary_cumulative', 'Central_cumulative', 'Edmont_cumulative',\n",
       "       'North_cumulative', 'South_cumulative', 'Unknown_cumulative',\n",
       "       'Calgary_dtime', 'Calgary_dtime_rw', 'Central_dtime',\n",
       "       'Central_dtime_rw', 'Edmont_dtime', 'Edmont_dtime_rw', 'North_dtime',\n",
       "       'North_dtime_rw', 'South_dtime', 'South_dtime_rw', 'Unknown_dtime',\n",
       "       'Unknown_dtime_rw', 'test_count'],\n",
       "      dtype='object')"
      ]
     },
     "execution_count": null,
     "metadata": {},
     "output_type": "execute_result"
    }
   ],
   "source": [
    "all_data.columns"
   ]
  },
  {
   "cell_type": "code",
   "execution_count": null,
   "metadata": {},
   "outputs": [
    {
     "data": {
      "application/vnd.plotly.v1+json": {
       "config": {
        "plotlyServerURL": "https://plot.ly"
       },
       "data": [
        {
         "hovertemplate": "dt: %{y: 0.2f}",
         "line": {
          "color": "green",
          "width": 2
         },
         "mode": "lines",
         "name": "Alberta",
         "type": "scatter",
         "x": [
          0,
          0,
          1,
          1,
          1,
          7,
          16,
          24,
          27,
          35,
          54,
          63,
          90,
          102,
          134,
          168,
          212,
          250,
          289,
          339,
          410,
          475,
          527,
          621,
          672,
          700,
          746,
          873,
          984,
          1116,
          1183,
          1238,
          1291,
          1324,
          1385,
          1422,
          1467,
          1525,
          1590,
          1672,
          1762,
          1906,
          2062,
          2262
         ],
         "y": [
          0,
          0,
          0,
          0,
          0,
          1.0686215613240664,
          1,
          1.0905214599276578,
          1.2618595071429148,
          1.3647131532565042,
          1.39012274297152,
          1.5057016092915672,
          1.5403922195426358,
          1.6485759579514216,
          1.6982519858658318,
          1.7585824926756621,
          1.81161285009517,
          1.883053753901184,
          1.957204336945808,
          2.022571550349198,
          2.0738569353970444,
          2.136804114243479,
          2.211983405322076,
          2.263309197787838,
          2.3423399156681395,
          2.4335505500671157,
          2.51492402540874,
          2.5588961045347958,
          2.615032644512383,
          2.6668981107973058,
          2.742883736512664,
          2.82271529737441,
          2.9029617440688997,
          2.9891943305177535,
          3.0664058177254208,
          3.150747289343996,
          3.2323529920426743,
          3.309819891376196,
          3.3851095078382905,
          3.4555672919517892,
          3.524066244262553,
          3.579185964077747,
          3.633117407195569,
          3.679313473535314
         ]
        },
        {
         "hovertemplate": "dt: %{y: 0.2f}",
         "line": {
          "color": "orange",
          "width": 2
         },
         "mode": "lines",
         "name": "Calgary",
         "type": "scatter",
         "x": [
          null,
          null,
          1,
          null,
          null,
          4,
          10,
          16,
          18,
          26,
          39,
          47,
          64,
          65,
          91,
          107,
          133,
          162,
          190,
          219,
          259,
          303,
          347,
          394,
          423,
          443,
          466,
          542,
          605,
          696,
          743,
          771,
          791,
          808,
          838,
          858,
          896,
          942,
          990,
          1063,
          1149,
          1271,
          1393,
          1564
         ],
         "y": [
          null,
          null,
          0,
          null,
          null,
          1.5,
          1.2041199826559246,
          1.25,
          1.4388747994087887,
          1.489222374873542,
          1.5136028761349603,
          1.6202819399102337,
          1.6666666666666667,
          1.8265241083753163,
          1.8439426354783708,
          1.9283636671697026,
          1.9843287817301214,
          2.043638493171505,
          2.1136466569311203,
          2.1865550618529808,
          2.245282580556051,
          2.304937398882253,
          2.3700075021864064,
          2.435615145876502,
          2.52163047367191,
          2.616263660629368,
          2.707524369225218,
          2.752652470925897,
          2.813611850481758,
          2.8592779372099004,
          2.935866499441677,
          3.023798214756512,
          3.116062779938251,
          3.2097039969938157,
          3.295297895028635,
          3.38640971721972,
          3.4667859244627732,
          3.5426595551357667,
          3.6176233552895067,
          3.680154442750407,
          3.7378900663975103,
          3.7820938611592987,
          3.829957712655315,
          3.8639057756611908
         ]
        },
        {
         "hovertemplate": "dt: %{y: 0.2f}",
         "line": {
          "color": "blue",
          "width": 2
         },
         "mode": "lines",
         "name": "Edmonton",
         "type": "scatter",
         "x": [
          null,
          null,
          0,
          null,
          null,
          3,
          6,
          7,
          7,
          7,
          13,
          14,
          20,
          29,
          33,
          42,
          54,
          58,
          62,
          70,
          90,
          104,
          109,
          132,
          148,
          154,
          174,
          215,
          253,
          282,
          296,
          310,
          333,
          341,
          356,
          369,
          376,
          382,
          392,
          396,
          397,
          404,
          412,
          422
         ],
         "y": [
          null,
          null,
          0,
          null,
          null,
          0,
          1,
          1.636135798202503,
          2.4542036973037544,
          3.272271596405006,
          2.363532898783976,
          2.6997932239131135,
          2.557576907404454,
          2.444226946371366,
          2.6015834368609907,
          2.6264953503719357,
          2.637937132249446,
          2.808319228130786,
          2.9753500422067365,
          3.0807686099645024,
          3.0569257063575925,
          3.127762928063597,
          3.279813324041345,
          3.297046516445405,
          3.3780835379330783,
          3.5199963707592072,
          3.584852872938123,
          3.5695566699108774,
          3.5948559383468397,
          3.6615568944278225,
          3.7738749301374384,
          3.8857227445517326,
          3.9738515467856015,
          4.1003619658897605,
          4.208527651487016,
          4.321200910265016,
          4.4478711539171245,
          4.576353821683597,
          4.69433656545431,
          4.826532903172721,
          4.965924749152918,
          5.089598866299891,
          5.21013896737988,
          5.3250101086172466
         ]
        }
       ],
       "layout": {
        "annotations": [
         {
          "ax": 0,
          "ay": -10,
          "showarrow": true,
          "text": "April 16",
          "x": 2262,
          "xref": "x",
          "y": 3.679313473535314,
          "yref": "y"
         },
         {
          "ax": 0,
          "ay": -10,
          "showarrow": true,
          "text": "April 16",
          "x": 1564,
          "xref": "x",
          "y": 3.8639057756611908,
          "yref": "y"
         },
         {
          "ax": 0,
          "ay": -10,
          "showarrow": true,
          "text": "April 16",
          "x": 422,
          "xref": "x",
          "y": 5.3250101086172466,
          "yref": "y"
         }
        ],
        "hovermode": "x",
        "legend": {
         "orientation": "v"
        },
        "template": {
         "data": {
          "bar": [
           {
            "error_x": {
             "color": "#2a3f5f"
            },
            "error_y": {
             "color": "#2a3f5f"
            },
            "marker": {
             "line": {
              "color": "#E5ECF6",
              "width": 0.5
             }
            },
            "type": "bar"
           }
          ],
          "barpolar": [
           {
            "marker": {
             "line": {
              "color": "#E5ECF6",
              "width": 0.5
             }
            },
            "type": "barpolar"
           }
          ],
          "carpet": [
           {
            "aaxis": {
             "endlinecolor": "#2a3f5f",
             "gridcolor": "white",
             "linecolor": "white",
             "minorgridcolor": "white",
             "startlinecolor": "#2a3f5f"
            },
            "baxis": {
             "endlinecolor": "#2a3f5f",
             "gridcolor": "white",
             "linecolor": "white",
             "minorgridcolor": "white",
             "startlinecolor": "#2a3f5f"
            },
            "type": "carpet"
           }
          ],
          "choropleth": [
           {
            "colorbar": {
             "outlinewidth": 0,
             "ticks": ""
            },
            "type": "choropleth"
           }
          ],
          "contour": [
           {
            "colorbar": {
             "outlinewidth": 0,
             "ticks": ""
            },
            "colorscale": [
             [
              0,
              "#0d0887"
             ],
             [
              0.1111111111111111,
              "#46039f"
             ],
             [
              0.2222222222222222,
              "#7201a8"
             ],
             [
              0.3333333333333333,
              "#9c179e"
             ],
             [
              0.4444444444444444,
              "#bd3786"
             ],
             [
              0.5555555555555556,
              "#d8576b"
             ],
             [
              0.6666666666666666,
              "#ed7953"
             ],
             [
              0.7777777777777778,
              "#fb9f3a"
             ],
             [
              0.8888888888888888,
              "#fdca26"
             ],
             [
              1,
              "#f0f921"
             ]
            ],
            "type": "contour"
           }
          ],
          "contourcarpet": [
           {
            "colorbar": {
             "outlinewidth": 0,
             "ticks": ""
            },
            "type": "contourcarpet"
           }
          ],
          "heatmap": [
           {
            "colorbar": {
             "outlinewidth": 0,
             "ticks": ""
            },
            "colorscale": [
             [
              0,
              "#0d0887"
             ],
             [
              0.1111111111111111,
              "#46039f"
             ],
             [
              0.2222222222222222,
              "#7201a8"
             ],
             [
              0.3333333333333333,
              "#9c179e"
             ],
             [
              0.4444444444444444,
              "#bd3786"
             ],
             [
              0.5555555555555556,
              "#d8576b"
             ],
             [
              0.6666666666666666,
              "#ed7953"
             ],
             [
              0.7777777777777778,
              "#fb9f3a"
             ],
             [
              0.8888888888888888,
              "#fdca26"
             ],
             [
              1,
              "#f0f921"
             ]
            ],
            "type": "heatmap"
           }
          ],
          "heatmapgl": [
           {
            "colorbar": {
             "outlinewidth": 0,
             "ticks": ""
            },
            "colorscale": [
             [
              0,
              "#0d0887"
             ],
             [
              0.1111111111111111,
              "#46039f"
             ],
             [
              0.2222222222222222,
              "#7201a8"
             ],
             [
              0.3333333333333333,
              "#9c179e"
             ],
             [
              0.4444444444444444,
              "#bd3786"
             ],
             [
              0.5555555555555556,
              "#d8576b"
             ],
             [
              0.6666666666666666,
              "#ed7953"
             ],
             [
              0.7777777777777778,
              "#fb9f3a"
             ],
             [
              0.8888888888888888,
              "#fdca26"
             ],
             [
              1,
              "#f0f921"
             ]
            ],
            "type": "heatmapgl"
           }
          ],
          "histogram": [
           {
            "marker": {
             "colorbar": {
              "outlinewidth": 0,
              "ticks": ""
             }
            },
            "type": "histogram"
           }
          ],
          "histogram2d": [
           {
            "colorbar": {
             "outlinewidth": 0,
             "ticks": ""
            },
            "colorscale": [
             [
              0,
              "#0d0887"
             ],
             [
              0.1111111111111111,
              "#46039f"
             ],
             [
              0.2222222222222222,
              "#7201a8"
             ],
             [
              0.3333333333333333,
              "#9c179e"
             ],
             [
              0.4444444444444444,
              "#bd3786"
             ],
             [
              0.5555555555555556,
              "#d8576b"
             ],
             [
              0.6666666666666666,
              "#ed7953"
             ],
             [
              0.7777777777777778,
              "#fb9f3a"
             ],
             [
              0.8888888888888888,
              "#fdca26"
             ],
             [
              1,
              "#f0f921"
             ]
            ],
            "type": "histogram2d"
           }
          ],
          "histogram2dcontour": [
           {
            "colorbar": {
             "outlinewidth": 0,
             "ticks": ""
            },
            "colorscale": [
             [
              0,
              "#0d0887"
             ],
             [
              0.1111111111111111,
              "#46039f"
             ],
             [
              0.2222222222222222,
              "#7201a8"
             ],
             [
              0.3333333333333333,
              "#9c179e"
             ],
             [
              0.4444444444444444,
              "#bd3786"
             ],
             [
              0.5555555555555556,
              "#d8576b"
             ],
             [
              0.6666666666666666,
              "#ed7953"
             ],
             [
              0.7777777777777778,
              "#fb9f3a"
             ],
             [
              0.8888888888888888,
              "#fdca26"
             ],
             [
              1,
              "#f0f921"
             ]
            ],
            "type": "histogram2dcontour"
           }
          ],
          "mesh3d": [
           {
            "colorbar": {
             "outlinewidth": 0,
             "ticks": ""
            },
            "type": "mesh3d"
           }
          ],
          "parcoords": [
           {
            "line": {
             "colorbar": {
              "outlinewidth": 0,
              "ticks": ""
             }
            },
            "type": "parcoords"
           }
          ],
          "pie": [
           {
            "automargin": true,
            "type": "pie"
           }
          ],
          "scatter": [
           {
            "marker": {
             "colorbar": {
              "outlinewidth": 0,
              "ticks": ""
             }
            },
            "type": "scatter"
           }
          ],
          "scatter3d": [
           {
            "line": {
             "colorbar": {
              "outlinewidth": 0,
              "ticks": ""
             }
            },
            "marker": {
             "colorbar": {
              "outlinewidth": 0,
              "ticks": ""
             }
            },
            "type": "scatter3d"
           }
          ],
          "scattercarpet": [
           {
            "marker": {
             "colorbar": {
              "outlinewidth": 0,
              "ticks": ""
             }
            },
            "type": "scattercarpet"
           }
          ],
          "scattergeo": [
           {
            "marker": {
             "colorbar": {
              "outlinewidth": 0,
              "ticks": ""
             }
            },
            "type": "scattergeo"
           }
          ],
          "scattergl": [
           {
            "marker": {
             "colorbar": {
              "outlinewidth": 0,
              "ticks": ""
             }
            },
            "type": "scattergl"
           }
          ],
          "scattermapbox": [
           {
            "marker": {
             "colorbar": {
              "outlinewidth": 0,
              "ticks": ""
             }
            },
            "type": "scattermapbox"
           }
          ],
          "scatterpolar": [
           {
            "marker": {
             "colorbar": {
              "outlinewidth": 0,
              "ticks": ""
             }
            },
            "type": "scatterpolar"
           }
          ],
          "scatterpolargl": [
           {
            "marker": {
             "colorbar": {
              "outlinewidth": 0,
              "ticks": ""
             }
            },
            "type": "scatterpolargl"
           }
          ],
          "scatterternary": [
           {
            "marker": {
             "colorbar": {
              "outlinewidth": 0,
              "ticks": ""
             }
            },
            "type": "scatterternary"
           }
          ],
          "surface": [
           {
            "colorbar": {
             "outlinewidth": 0,
             "ticks": ""
            },
            "colorscale": [
             [
              0,
              "#0d0887"
             ],
             [
              0.1111111111111111,
              "#46039f"
             ],
             [
              0.2222222222222222,
              "#7201a8"
             ],
             [
              0.3333333333333333,
              "#9c179e"
             ],
             [
              0.4444444444444444,
              "#bd3786"
             ],
             [
              0.5555555555555556,
              "#d8576b"
             ],
             [
              0.6666666666666666,
              "#ed7953"
             ],
             [
              0.7777777777777778,
              "#fb9f3a"
             ],
             [
              0.8888888888888888,
              "#fdca26"
             ],
             [
              1,
              "#f0f921"
             ]
            ],
            "type": "surface"
           }
          ],
          "table": [
           {
            "cells": {
             "fill": {
              "color": "#EBF0F8"
             },
             "line": {
              "color": "white"
             }
            },
            "header": {
             "fill": {
              "color": "#C8D4E3"
             },
             "line": {
              "color": "white"
             }
            },
            "type": "table"
           }
          ]
         },
         "layout": {
          "annotationdefaults": {
           "arrowcolor": "#2a3f5f",
           "arrowhead": 0,
           "arrowwidth": 1
          },
          "coloraxis": {
           "colorbar": {
            "outlinewidth": 0,
            "ticks": ""
           }
          },
          "colorscale": {
           "diverging": [
            [
             0,
             "#8e0152"
            ],
            [
             0.1,
             "#c51b7d"
            ],
            [
             0.2,
             "#de77ae"
            ],
            [
             0.3,
             "#f1b6da"
            ],
            [
             0.4,
             "#fde0ef"
            ],
            [
             0.5,
             "#f7f7f7"
            ],
            [
             0.6,
             "#e6f5d0"
            ],
            [
             0.7,
             "#b8e186"
            ],
            [
             0.8,
             "#7fbc41"
            ],
            [
             0.9,
             "#4d9221"
            ],
            [
             1,
             "#276419"
            ]
           ],
           "sequential": [
            [
             0,
             "#0d0887"
            ],
            [
             0.1111111111111111,
             "#46039f"
            ],
            [
             0.2222222222222222,
             "#7201a8"
            ],
            [
             0.3333333333333333,
             "#9c179e"
            ],
            [
             0.4444444444444444,
             "#bd3786"
            ],
            [
             0.5555555555555556,
             "#d8576b"
            ],
            [
             0.6666666666666666,
             "#ed7953"
            ],
            [
             0.7777777777777778,
             "#fb9f3a"
            ],
            [
             0.8888888888888888,
             "#fdca26"
            ],
            [
             1,
             "#f0f921"
            ]
           ],
           "sequentialminus": [
            [
             0,
             "#0d0887"
            ],
            [
             0.1111111111111111,
             "#46039f"
            ],
            [
             0.2222222222222222,
             "#7201a8"
            ],
            [
             0.3333333333333333,
             "#9c179e"
            ],
            [
             0.4444444444444444,
             "#bd3786"
            ],
            [
             0.5555555555555556,
             "#d8576b"
            ],
            [
             0.6666666666666666,
             "#ed7953"
            ],
            [
             0.7777777777777778,
             "#fb9f3a"
            ],
            [
             0.8888888888888888,
             "#fdca26"
            ],
            [
             1,
             "#f0f921"
            ]
           ]
          },
          "colorway": [
           "#636efa",
           "#EF553B",
           "#00cc96",
           "#ab63fa",
           "#FFA15A",
           "#19d3f3",
           "#FF6692",
           "#B6E880",
           "#FF97FF",
           "#FECB52"
          ],
          "font": {
           "color": "#2a3f5f"
          },
          "geo": {
           "bgcolor": "white",
           "lakecolor": "white",
           "landcolor": "#E5ECF6",
           "showlakes": true,
           "showland": true,
           "subunitcolor": "white"
          },
          "hoverlabel": {
           "align": "left"
          },
          "hovermode": "closest",
          "mapbox": {
           "style": "light"
          },
          "paper_bgcolor": "white",
          "plot_bgcolor": "#E5ECF6",
          "polar": {
           "angularaxis": {
            "gridcolor": "white",
            "linecolor": "white",
            "ticks": ""
           },
           "bgcolor": "#E5ECF6",
           "radialaxis": {
            "gridcolor": "white",
            "linecolor": "white",
            "ticks": ""
           }
          },
          "scene": {
           "xaxis": {
            "backgroundcolor": "#E5ECF6",
            "gridcolor": "white",
            "gridwidth": 2,
            "linecolor": "white",
            "showbackground": true,
            "ticks": "",
            "zerolinecolor": "white"
           },
           "yaxis": {
            "backgroundcolor": "#E5ECF6",
            "gridcolor": "white",
            "gridwidth": 2,
            "linecolor": "white",
            "showbackground": true,
            "ticks": "",
            "zerolinecolor": "white"
           },
           "zaxis": {
            "backgroundcolor": "#E5ECF6",
            "gridcolor": "white",
            "gridwidth": 2,
            "linecolor": "white",
            "showbackground": true,
            "ticks": "",
            "zerolinecolor": "white"
           }
          },
          "shapedefaults": {
           "line": {
            "color": "#2a3f5f"
           }
          },
          "ternary": {
           "aaxis": {
            "gridcolor": "white",
            "linecolor": "white",
            "ticks": ""
           },
           "baxis": {
            "gridcolor": "white",
            "linecolor": "white",
            "ticks": ""
           },
           "bgcolor": "#E5ECF6",
           "caxis": {
            "gridcolor": "white",
            "linecolor": "white",
            "ticks": ""
           }
          },
          "title": {
           "x": 0.05
          },
          "xaxis": {
           "automargin": true,
           "gridcolor": "white",
           "linecolor": "white",
           "ticks": "",
           "title": {
            "standoff": 15
           },
           "zerolinecolor": "white",
           "zerolinewidth": 2
          },
          "yaxis": {
           "automargin": true,
           "gridcolor": "white",
           "linecolor": "white",
           "ticks": "",
           "title": {
            "standoff": 15
           },
           "zerolinecolor": "white",
           "zerolinewidth": 2
          }
         }
        },
        "title": {
         "font": {
          "size": 20
         },
         "text": "April 16 - Doubling Rate from 1st Case"
        },
        "xaxis": {
         "dtick": 200,
         "rangemode": "nonnegative",
         "tick0": 0,
         "tickfont": {
          "color": "black",
          "size": 10
         },
         "title": {
          "font": {
           "size": 10
          },
          "text": "Cumulative Case Count"
         }
        },
        "yaxis": {
         "dtick": 1,
         "rangemode": "nonnegative",
         "side": "left",
         "tick0": 0,
         "tickfont": {
          "color": "black",
          "size": 10
         },
         "title": {
          "font": {
           "size": 10
          },
          "text": "Doubling Time (Days)"
         }
        }
       }
      },
      "text/html": [
       "<div>\n",
       "        \n",
       "        \n",
       "            <div id=\"0c558199-feb9-4431-b9c8-7761fb08ed56\" class=\"plotly-graph-div\" style=\"height:525px; width:100%;\"></div>\n",
       "            <script type=\"text/javascript\">\n",
       "                require([\"plotly\"], function(Plotly) {\n",
       "                    window.PLOTLYENV=window.PLOTLYENV || {};\n",
       "                    \n",
       "                if (document.getElementById(\"0c558199-feb9-4431-b9c8-7761fb08ed56\")) {\n",
       "                    Plotly.newPlot(\n",
       "                        '0c558199-feb9-4431-b9c8-7761fb08ed56',\n",
       "                        [{\"hovertemplate\": \"dt: %{y: 0.2f}\", \"line\": {\"color\": \"green\", \"width\": 2}, \"mode\": \"lines\", \"name\": \"Alberta\", \"type\": \"scatter\", \"x\": [0.0, 0.0, 1.0, 1.0, 1.0, 7.0, 16.0, 24.0, 27.0, 35.0, 54.0, 63.0, 90.0, 102.0, 134.0, 168.0, 212.0, 250.0, 289.0, 339.0, 410.0, 475.0, 527.0, 621.0, 672.0, 700.0, 746.0, 873.0, 984.0, 1116.0, 1183.0, 1238.0, 1291.0, 1324.0, 1385.0, 1422.0, 1467.0, 1525.0, 1590.0, 1672.0, 1762.0, 1906.0, 2062.0, 2262.0], \"y\": [0.0, 0.0, 0.0, 0.0, 0.0, 1.0686215613240664, 1.0, 1.0905214599276578, 1.2618595071429148, 1.3647131532565042, 1.39012274297152, 1.5057016092915672, 1.5403922195426358, 1.6485759579514216, 1.6982519858658318, 1.7585824926756621, 1.81161285009517, 1.883053753901184, 1.957204336945808, 2.022571550349198, 2.0738569353970444, 2.136804114243479, 2.211983405322076, 2.263309197787838, 2.3423399156681395, 2.4335505500671157, 2.51492402540874, 2.5588961045347958, 2.615032644512383, 2.6668981107973058, 2.742883736512664, 2.82271529737441, 2.9029617440688997, 2.9891943305177535, 3.0664058177254208, 3.150747289343996, 3.2323529920426743, 3.309819891376196, 3.3851095078382905, 3.4555672919517892, 3.524066244262553, 3.579185964077747, 3.633117407195569, 3.679313473535314]}, {\"hovertemplate\": \"dt: %{y: 0.2f}\", \"line\": {\"color\": \"orange\", \"width\": 2}, \"mode\": \"lines\", \"name\": \"Calgary\", \"type\": \"scatter\", \"x\": [null, null, 1.0, null, null, 4.0, 10.0, 16.0, 18.0, 26.0, 39.0, 47.0, 64.0, 65.0, 91.0, 107.0, 133.0, 162.0, 190.0, 219.0, 259.0, 303.0, 347.0, 394.0, 423.0, 443.0, 466.0, 542.0, 605.0, 696.0, 743.0, 771.0, 791.0, 808.0, 838.0, 858.0, 896.0, 942.0, 990.0, 1063.0, 1149.0, 1271.0, 1393.0, 1564.0], \"y\": [null, null, 0.0, null, null, 1.5, 1.2041199826559246, 1.25, 1.4388747994087887, 1.489222374873542, 1.5136028761349603, 1.6202819399102337, 1.6666666666666667, 1.8265241083753163, 1.8439426354783708, 1.9283636671697026, 1.9843287817301214, 2.043638493171505, 2.1136466569311203, 2.1865550618529808, 2.245282580556051, 2.304937398882253, 2.3700075021864064, 2.435615145876502, 2.52163047367191, 2.616263660629368, 2.707524369225218, 2.752652470925897, 2.813611850481758, 2.8592779372099004, 2.935866499441677, 3.023798214756512, 3.116062779938251, 3.2097039969938157, 3.295297895028635, 3.38640971721972, 3.4667859244627732, 3.5426595551357667, 3.6176233552895067, 3.680154442750407, 3.7378900663975103, 3.7820938611592987, 3.829957712655315, 3.8639057756611908]}, {\"hovertemplate\": \"dt: %{y: 0.2f}\", \"line\": {\"color\": \"blue\", \"width\": 2}, \"mode\": \"lines\", \"name\": \"Edmonton\", \"type\": \"scatter\", \"x\": [null, null, 0.0, null, null, 3.0, 6.0, 7.0, 7.0, 7.0, 13.0, 14.0, 20.0, 29.0, 33.0, 42.0, 54.0, 58.0, 62.0, 70.0, 90.0, 104.0, 109.0, 132.0, 148.0, 154.0, 174.0, 215.0, 253.0, 282.0, 296.0, 310.0, 333.0, 341.0, 356.0, 369.0, 376.0, 382.0, 392.0, 396.0, 397.0, 404.0, 412.0, 422.0], \"y\": [null, null, 0.0, null, null, 0.0, 1.0, 1.636135798202503, 2.4542036973037544, 3.272271596405006, 2.363532898783976, 2.6997932239131135, 2.557576907404454, 2.444226946371366, 2.6015834368609907, 2.6264953503719357, 2.637937132249446, 2.808319228130786, 2.9753500422067365, 3.0807686099645024, 3.0569257063575925, 3.127762928063597, 3.279813324041345, 3.297046516445405, 3.3780835379330783, 3.5199963707592072, 3.584852872938123, 3.5695566699108774, 3.5948559383468397, 3.6615568944278225, 3.7738749301374384, 3.8857227445517326, 3.9738515467856015, 4.1003619658897605, 4.208527651487016, 4.321200910265016, 4.4478711539171245, 4.576353821683597, 4.69433656545431, 4.826532903172721, 4.965924749152918, 5.089598866299891, 5.21013896737988, 5.3250101086172466]}],\n",
       "                        {\"annotations\": [{\"ax\": 0, \"ay\": -10, \"showarrow\": true, \"text\": \"April 16\", \"x\": 2262.0, \"xref\": \"x\", \"y\": 3.679313473535314, \"yref\": \"y\"}, {\"ax\": 0, \"ay\": -10, \"showarrow\": true, \"text\": \"April 16\", \"x\": 1564.0, \"xref\": \"x\", \"y\": 3.8639057756611908, \"yref\": \"y\"}, {\"ax\": 0, \"ay\": -10, \"showarrow\": true, \"text\": \"April 16\", \"x\": 422.0, \"xref\": \"x\", \"y\": 5.3250101086172466, \"yref\": \"y\"}], \"hovermode\": \"x\", \"legend\": {\"orientation\": \"v\"}, \"template\": {\"data\": {\"bar\": [{\"error_x\": {\"color\": \"#2a3f5f\"}, \"error_y\": {\"color\": \"#2a3f5f\"}, \"marker\": {\"line\": {\"color\": \"#E5ECF6\", \"width\": 0.5}}, \"type\": \"bar\"}], \"barpolar\": [{\"marker\": {\"line\": {\"color\": \"#E5ECF6\", \"width\": 0.5}}, \"type\": \"barpolar\"}], \"carpet\": [{\"aaxis\": {\"endlinecolor\": \"#2a3f5f\", \"gridcolor\": \"white\", \"linecolor\": \"white\", \"minorgridcolor\": \"white\", \"startlinecolor\": \"#2a3f5f\"}, \"baxis\": {\"endlinecolor\": \"#2a3f5f\", \"gridcolor\": \"white\", \"linecolor\": \"white\", \"minorgridcolor\": \"white\", \"startlinecolor\": \"#2a3f5f\"}, \"type\": \"carpet\"}], \"choropleth\": [{\"colorbar\": {\"outlinewidth\": 0, \"ticks\": \"\"}, \"type\": \"choropleth\"}], \"contour\": [{\"colorbar\": {\"outlinewidth\": 0, \"ticks\": \"\"}, \"colorscale\": [[0.0, \"#0d0887\"], [0.1111111111111111, \"#46039f\"], [0.2222222222222222, \"#7201a8\"], [0.3333333333333333, \"#9c179e\"], [0.4444444444444444, \"#bd3786\"], [0.5555555555555556, \"#d8576b\"], [0.6666666666666666, \"#ed7953\"], [0.7777777777777778, \"#fb9f3a\"], [0.8888888888888888, \"#fdca26\"], [1.0, \"#f0f921\"]], \"type\": \"contour\"}], \"contourcarpet\": [{\"colorbar\": {\"outlinewidth\": 0, \"ticks\": \"\"}, \"type\": \"contourcarpet\"}], \"heatmap\": [{\"colorbar\": {\"outlinewidth\": 0, \"ticks\": \"\"}, \"colorscale\": [[0.0, \"#0d0887\"], [0.1111111111111111, \"#46039f\"], [0.2222222222222222, \"#7201a8\"], [0.3333333333333333, \"#9c179e\"], [0.4444444444444444, \"#bd3786\"], [0.5555555555555556, \"#d8576b\"], [0.6666666666666666, \"#ed7953\"], [0.7777777777777778, \"#fb9f3a\"], [0.8888888888888888, \"#fdca26\"], [1.0, \"#f0f921\"]], \"type\": \"heatmap\"}], \"heatmapgl\": [{\"colorbar\": {\"outlinewidth\": 0, \"ticks\": \"\"}, \"colorscale\": [[0.0, \"#0d0887\"], [0.1111111111111111, \"#46039f\"], [0.2222222222222222, \"#7201a8\"], [0.3333333333333333, \"#9c179e\"], [0.4444444444444444, \"#bd3786\"], [0.5555555555555556, \"#d8576b\"], [0.6666666666666666, \"#ed7953\"], [0.7777777777777778, \"#fb9f3a\"], [0.8888888888888888, \"#fdca26\"], [1.0, \"#f0f921\"]], \"type\": \"heatmapgl\"}], \"histogram\": [{\"marker\": {\"colorbar\": {\"outlinewidth\": 0, \"ticks\": \"\"}}, \"type\": \"histogram\"}], \"histogram2d\": [{\"colorbar\": {\"outlinewidth\": 0, \"ticks\": \"\"}, \"colorscale\": [[0.0, \"#0d0887\"], [0.1111111111111111, \"#46039f\"], [0.2222222222222222, \"#7201a8\"], [0.3333333333333333, \"#9c179e\"], [0.4444444444444444, \"#bd3786\"], [0.5555555555555556, \"#d8576b\"], [0.6666666666666666, \"#ed7953\"], [0.7777777777777778, \"#fb9f3a\"], [0.8888888888888888, \"#fdca26\"], [1.0, \"#f0f921\"]], \"type\": \"histogram2d\"}], \"histogram2dcontour\": [{\"colorbar\": {\"outlinewidth\": 0, \"ticks\": \"\"}, \"colorscale\": [[0.0, \"#0d0887\"], [0.1111111111111111, \"#46039f\"], [0.2222222222222222, \"#7201a8\"], [0.3333333333333333, \"#9c179e\"], [0.4444444444444444, \"#bd3786\"], [0.5555555555555556, \"#d8576b\"], [0.6666666666666666, \"#ed7953\"], [0.7777777777777778, \"#fb9f3a\"], [0.8888888888888888, \"#fdca26\"], [1.0, \"#f0f921\"]], \"type\": \"histogram2dcontour\"}], \"mesh3d\": [{\"colorbar\": {\"outlinewidth\": 0, \"ticks\": \"\"}, \"type\": \"mesh3d\"}], \"parcoords\": [{\"line\": {\"colorbar\": {\"outlinewidth\": 0, \"ticks\": \"\"}}, \"type\": \"parcoords\"}], \"pie\": [{\"automargin\": true, \"type\": \"pie\"}], \"scatter\": [{\"marker\": {\"colorbar\": {\"outlinewidth\": 0, \"ticks\": \"\"}}, \"type\": \"scatter\"}], \"scatter3d\": [{\"line\": {\"colorbar\": {\"outlinewidth\": 0, \"ticks\": \"\"}}, \"marker\": {\"colorbar\": {\"outlinewidth\": 0, \"ticks\": \"\"}}, \"type\": \"scatter3d\"}], \"scattercarpet\": [{\"marker\": {\"colorbar\": {\"outlinewidth\": 0, \"ticks\": \"\"}}, \"type\": \"scattercarpet\"}], \"scattergeo\": [{\"marker\": {\"colorbar\": {\"outlinewidth\": 0, \"ticks\": \"\"}}, \"type\": \"scattergeo\"}], \"scattergl\": [{\"marker\": {\"colorbar\": {\"outlinewidth\": 0, \"ticks\": \"\"}}, \"type\": \"scattergl\"}], \"scattermapbox\": [{\"marker\": {\"colorbar\": {\"outlinewidth\": 0, \"ticks\": \"\"}}, \"type\": \"scattermapbox\"}], \"scatterpolar\": [{\"marker\": {\"colorbar\": {\"outlinewidth\": 0, \"ticks\": \"\"}}, \"type\": \"scatterpolar\"}], \"scatterpolargl\": [{\"marker\": {\"colorbar\": {\"outlinewidth\": 0, \"ticks\": \"\"}}, \"type\": \"scatterpolargl\"}], \"scatterternary\": [{\"marker\": {\"colorbar\": {\"outlinewidth\": 0, \"ticks\": \"\"}}, \"type\": \"scatterternary\"}], \"surface\": [{\"colorbar\": {\"outlinewidth\": 0, \"ticks\": \"\"}, \"colorscale\": [[0.0, \"#0d0887\"], [0.1111111111111111, \"#46039f\"], [0.2222222222222222, \"#7201a8\"], [0.3333333333333333, \"#9c179e\"], [0.4444444444444444, \"#bd3786\"], [0.5555555555555556, \"#d8576b\"], [0.6666666666666666, \"#ed7953\"], [0.7777777777777778, \"#fb9f3a\"], [0.8888888888888888, \"#fdca26\"], [1.0, \"#f0f921\"]], \"type\": \"surface\"}], \"table\": [{\"cells\": {\"fill\": {\"color\": \"#EBF0F8\"}, \"line\": {\"color\": \"white\"}}, \"header\": {\"fill\": {\"color\": \"#C8D4E3\"}, \"line\": {\"color\": \"white\"}}, \"type\": \"table\"}]}, \"layout\": {\"annotationdefaults\": {\"arrowcolor\": \"#2a3f5f\", \"arrowhead\": 0, \"arrowwidth\": 1}, \"coloraxis\": {\"colorbar\": {\"outlinewidth\": 0, \"ticks\": \"\"}}, \"colorscale\": {\"diverging\": [[0, \"#8e0152\"], [0.1, \"#c51b7d\"], [0.2, \"#de77ae\"], [0.3, \"#f1b6da\"], [0.4, \"#fde0ef\"], [0.5, \"#f7f7f7\"], [0.6, \"#e6f5d0\"], [0.7, \"#b8e186\"], [0.8, \"#7fbc41\"], [0.9, \"#4d9221\"], [1, \"#276419\"]], \"sequential\": [[0.0, \"#0d0887\"], [0.1111111111111111, \"#46039f\"], [0.2222222222222222, \"#7201a8\"], [0.3333333333333333, \"#9c179e\"], [0.4444444444444444, \"#bd3786\"], [0.5555555555555556, \"#d8576b\"], [0.6666666666666666, \"#ed7953\"], [0.7777777777777778, \"#fb9f3a\"], [0.8888888888888888, \"#fdca26\"], [1.0, \"#f0f921\"]], \"sequentialminus\": [[0.0, \"#0d0887\"], [0.1111111111111111, \"#46039f\"], [0.2222222222222222, \"#7201a8\"], [0.3333333333333333, \"#9c179e\"], [0.4444444444444444, \"#bd3786\"], [0.5555555555555556, \"#d8576b\"], [0.6666666666666666, \"#ed7953\"], [0.7777777777777778, \"#fb9f3a\"], [0.8888888888888888, \"#fdca26\"], [1.0, \"#f0f921\"]]}, \"colorway\": [\"#636efa\", \"#EF553B\", \"#00cc96\", \"#ab63fa\", \"#FFA15A\", \"#19d3f3\", \"#FF6692\", \"#B6E880\", \"#FF97FF\", \"#FECB52\"], \"font\": {\"color\": \"#2a3f5f\"}, \"geo\": {\"bgcolor\": \"white\", \"lakecolor\": \"white\", \"landcolor\": \"#E5ECF6\", \"showlakes\": true, \"showland\": true, \"subunitcolor\": \"white\"}, \"hoverlabel\": {\"align\": \"left\"}, \"hovermode\": \"closest\", \"mapbox\": {\"style\": \"light\"}, \"paper_bgcolor\": \"white\", \"plot_bgcolor\": \"#E5ECF6\", \"polar\": {\"angularaxis\": {\"gridcolor\": \"white\", \"linecolor\": \"white\", \"ticks\": \"\"}, \"bgcolor\": \"#E5ECF6\", \"radialaxis\": {\"gridcolor\": \"white\", \"linecolor\": \"white\", \"ticks\": \"\"}}, \"scene\": {\"xaxis\": {\"backgroundcolor\": \"#E5ECF6\", \"gridcolor\": \"white\", \"gridwidth\": 2, \"linecolor\": \"white\", \"showbackground\": true, \"ticks\": \"\", \"zerolinecolor\": \"white\"}, \"yaxis\": {\"backgroundcolor\": \"#E5ECF6\", \"gridcolor\": \"white\", \"gridwidth\": 2, \"linecolor\": \"white\", \"showbackground\": true, \"ticks\": \"\", \"zerolinecolor\": \"white\"}, \"zaxis\": {\"backgroundcolor\": \"#E5ECF6\", \"gridcolor\": \"white\", \"gridwidth\": 2, \"linecolor\": \"white\", \"showbackground\": true, \"ticks\": \"\", \"zerolinecolor\": \"white\"}}, \"shapedefaults\": {\"line\": {\"color\": \"#2a3f5f\"}}, \"ternary\": {\"aaxis\": {\"gridcolor\": \"white\", \"linecolor\": \"white\", \"ticks\": \"\"}, \"baxis\": {\"gridcolor\": \"white\", \"linecolor\": \"white\", \"ticks\": \"\"}, \"bgcolor\": \"#E5ECF6\", \"caxis\": {\"gridcolor\": \"white\", \"linecolor\": \"white\", \"ticks\": \"\"}}, \"title\": {\"x\": 0.05}, \"xaxis\": {\"automargin\": true, \"gridcolor\": \"white\", \"linecolor\": \"white\", \"ticks\": \"\", \"title\": {\"standoff\": 15}, \"zerolinecolor\": \"white\", \"zerolinewidth\": 2}, \"yaxis\": {\"automargin\": true, \"gridcolor\": \"white\", \"linecolor\": \"white\", \"ticks\": \"\", \"title\": {\"standoff\": 15}, \"zerolinecolor\": \"white\", \"zerolinewidth\": 2}}}, \"title\": {\"font\": {\"size\": 20}, \"text\": \"April 16 - Doubling Rate from 1st Case\"}, \"xaxis\": {\"dtick\": 200, \"rangemode\": \"nonnegative\", \"tick0\": 0, \"tickfont\": {\"color\": \"black\", \"size\": 10}, \"title\": {\"font\": {\"size\": 10}, \"text\": \"Cumulative Case Count\"}}, \"yaxis\": {\"dtick\": 1, \"rangemode\": \"nonnegative\", \"side\": \"left\", \"tick0\": 0, \"tickfont\": {\"color\": \"black\", \"size\": 10}, \"title\": {\"font\": {\"size\": 10}, \"text\": \"Doubling Time (Days)\"}}},\n",
       "                        {\"responsive\": true}\n",
       "                    ).then(function(){\n",
       "                            \n",
       "var gd = document.getElementById('0c558199-feb9-4431-b9c8-7761fb08ed56');\n",
       "var x = new MutationObserver(function (mutations, observer) {{\n",
       "        var display = window.getComputedStyle(gd).display;\n",
       "        if (!display || display === 'none') {{\n",
       "            console.log([gd, 'removed!']);\n",
       "            Plotly.purge(gd);\n",
       "            observer.disconnect();\n",
       "        }}\n",
       "}});\n",
       "\n",
       "// Listen for the removal of the full notebook cells\n",
       "var notebookContainer = gd.closest('#notebook-container');\n",
       "if (notebookContainer) {{\n",
       "    x.observe(notebookContainer, {childList: true});\n",
       "}}\n",
       "\n",
       "// Listen for the clearing of the current output cell\n",
       "var outputEl = gd.closest('.output');\n",
       "if (outputEl) {{\n",
       "    x.observe(outputEl, {childList: true});\n",
       "}}\n",
       "\n",
       "                        })\n",
       "                };\n",
       "                });\n",
       "            </script>\n",
       "        </div>"
      ]
     },
     "metadata": {},
     "output_type": "display_data"
    }
   ],
   "source": [
    "# Set up the defaults and the data\n",
    "ln_width = 2\n",
    "days_to_trim = 1\n",
    "mode = 'lines'\n",
    "trace_formats = {'Alberta': {'x_data': 'Ab_cumCases',\n",
    "                             'y_data': 'Ab_dtime',\n",
    "                             'mode': mode,\n",
    "                             'line': {'color': 'green', 'width':ln_width}}, \n",
    "                 'Calgary': {'x_data': 'Calgary_cumulative',\n",
    "                             'y_data': 'Calgary_dtime',\n",
    "                             'mode': mode,\n",
    "                             'line': {'color': 'orange', 'width':ln_width}},  \n",
    "                 'Edmonton': {'x_data': 'Edmont_cumulative',\n",
    "                              'y_data': 'Edmont_dtime',\n",
    "                              'mode': mode,\n",
    "                              'line': {'color': 'blue', 'width':ln_width}}\n",
    "                } \n",
    "plot_data = all_data[:-days_to_trim]\n",
    "updated = plot_data.index[-1].strftime(\"%B %d\")\n",
    "# Create the plot\n",
    "fig = go.Figure()\n",
    "annotations = list()\n",
    "for key in trace_formats.keys():\n",
    "    fig.add_trace(go.Scatter(x=plot_data[trace_formats[key]['x_data']], y=plot_data[trace_formats[key]['y_data']],\n",
    "                             mode=trace_formats[key]['mode'], line=trace_formats[key]['line'],\n",
    "                             name=key, hovertemplate='dt: %{y: 0.2f}'\n",
    "                             ),\n",
    "                 )\n",
    "    last_x = plot_data[trace_formats[key]['x_data']][-1]\n",
    "    last_y = plot_data[trace_formats[key]['y_data']][-1]\n",
    "    last_day = plot_data.index[-1].strftime(\"%B %d\")\n",
    "    annotations.append(dict(x=last_x, y=last_y, xref='x', yref='y', text=last_day, \n",
    "                            showarrow=True, ax=0, ay=-10))\n",
    "fig.update_layout(dict(title=f'{updated} - Doubling Rate from 1st Case', titlefont={'size':20},\n",
    "                        xaxis=dict(title='Cumulative Case Count', titlefont={'size': 10}, \n",
    "                                   rangemode='nonnegative', tick0=0, dtick=200,\n",
    "                                   tickfont={'color':'black', 'size':10}),\n",
    "                        yaxis=dict(title='Doubling Time (Days)', titlefont={'size': 10}, \n",
    "                                   tickfont={'color':'black', 'size':10}, side='left',\n",
    "                                   rangemode='nonnegative', tick0=0, dtick=1),\n",
    "                        legend_orientation=\"v\", hovermode='x', annotations=annotations ))\n",
    "fig.show()\n",
    "fig.write_html('images/doubling_time.html')"
   ]
  },
  {
   "cell_type": "code",
   "execution_count": null,
   "metadata": {},
   "outputs": [],
   "source": [
    "# days_to_trim = 1\n",
    "# trim = days_to_trim + 1\n",
    "# fig, ax = plt.subplots(figsize=(8,6))\n",
    "# c_ab, c_calg, c_edm = 'green', 'orange', 'blue'\n",
    "\n",
    "# ax.plot(abTotal['cum_cases'].values[:-days_to_trim], total_dt['dtime_rw'].values[:-days_to_trim], \n",
    "#         c=c_ab, label='Alberta')\n",
    "# ax.plot(region_cum['Calgary_cumCases'].values[:-days_to_trim], region_dt['Calgary_dtime_rw'].values[:-days_to_trim], \n",
    "#         c=c_calg, label='Calgary')\n",
    "# ax.plot(region_cum['Edmont_cumCases'].values[:-days_to_trim], region_dt['Edmont_dtime_rw'].values[:-days_to_trim], \n",
    "#         c=c_edm, label='Edmonton')\n",
    "\n",
    "# # annotate Alberta\n",
    "# ab_date = abTotal['cum_cases'].index[-trim].month_name() + ' ' + str(abTotal['cum_cases'].index[-trim].day)\n",
    "# ab_cases = abTotal['cum_cases'][-trim]\n",
    "# ab_dt = total_dt['dtime_rw'][-trim]\n",
    "# ax.plot([ab_cases], [ab_dt], 'o', c=c_ab)\n",
    "# ax.text(ab_cases - 40, ab_dt + 0.15, ab_date, \n",
    "#         fontdict={'color': c_ab, 'size': 8, 'weight': 'bold'})\n",
    "# # annotate Calgary\n",
    "# cal_date = region_cum['Calgary_cumCases'].index[-trim].month_name() + ' ' + str(region_cum['Calgary_cumCases'].index[-trim].day)\n",
    "# cal_cases = region_cum['Calgary_cumCases'][-trim]\n",
    "# cal_dt = region_dt['Calgary_dtime_rw'][-trim]\n",
    "# ax.plot([cal_cases], [cal_dt], 'o', c=c_calg)\n",
    "# ax.text(cal_cases - 40, cal_dt + 0.15, cal_date, \n",
    "#         fontdict={'color': c_calg, 'size': 8, 'weight': 'bold'})\n",
    "# # annotate Edmonton\n",
    "# edm_date = region_cum['Edmont_cumCases'].index[-trim].month_name() + ' ' + str(region_cum['Edmont_cumCases'].index[-trim].day)\n",
    "# edm_cases = region_cum['Edmont_cumCases'][-trim]\n",
    "# edm_dt = region_dt['Edmont_dtime_rw'][-trim]\n",
    "# ax.plot([edm_cases], [edm_dt], 'o', c=c_edm)\n",
    "# ax.text(edm_cases - 40, edm_dt + 0.15, edm_date, \n",
    "#         fontdict={'color': c_edm, 'size': 8, 'weight': 'bold'})\n",
    "# # fancy up the plot\n",
    "# ax.grid(which='both', linestyle=(0, (5, 3)), lw=0.5)\n",
    "# ax.legend(frameon=True, fancybox=True, shadow=True)\n",
    "# ax.set_ylabel('Doubling Time (Days)', fontdict={'size': 9, 'family': 'sans-serif', 'style':'italic'})\n",
    "# ax.set_xlabel('Cumulative Case Count', fontdict={'size': 9, 'family': 'sans-serif', 'style':'italic'})\n",
    "# ax.set_title(\"Alberta: 6 Day Rolling Window - Doubling Time by Cumulative Cases\",\n",
    "#              fontdict={'fontsize': 10, 'family': 'sans-serif', 'fontweight': 'bold'})\n",
    "# #fig.savefig('images/AlbertaDTimeIncreaseRW_byCaseCount.png', bbox_inches='tight')"
   ]
  },
  {
   "cell_type": "code",
   "execution_count": null,
   "metadata": {},
   "outputs": [],
   "source": []
  }
 ],
 "metadata": {
  "kernelspec": {
   "display_name": "Python 3",
   "language": "python",
   "name": "python3"
  }
 },
 "nbformat": 4,
 "nbformat_minor": 4
}
