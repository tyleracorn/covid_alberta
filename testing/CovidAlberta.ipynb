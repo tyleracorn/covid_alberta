{
 "cells": [
  {
   "cell_type": "code",
   "execution_count": 1,
   "metadata": {},
   "outputs": [],
   "source": [
    "%load_ext autoreload\n",
    "%autoreload 2"
   ]
  },
  {
   "cell_type": "code",
   "execution_count": 9,
   "metadata": {},
   "outputs": [],
   "source": [
    "import pandas as pd\n",
    "import matplotlib.pyplot as plt\n",
    "import numpy as np\n",
    "import plotly.graph_objects as go\n",
    "from covid_alberta import albertaC19_webscraper\n",
    "import requests\n",
    "from bs4 import BeautifulSoup\n",
    "import json"
   ]
  },
  {
   "cell_type": "code",
   "execution_count": 7,
   "metadata": {},
   "outputs": [],
   "source": [
    "covid_url = 'https://covid19stats.alberta.ca/'\n",
    "page = requests.get(covid_url)\n",
    "soup = BeautifulSoup(page.content, 'html.parser')"
   ]
  },
  {
   "cell_type": "code",
   "execution_count": 29,
   "metadata": {},
   "outputs": [],
   "source": [
    "results = soup.find(id='cases')\n",
    "totals_results = results.find_all('script')\n",
    "ab_cumulative = json.loads(totals_results[0].string)\n",
    "ab_status = json.loads(totals_results[1].string)\n",
    "ab_daily = json.loads(totals_results[3].string)\n",
    "ab_tests = "
   ]
  },
  {
   "cell_type": "code",
   "execution_count": 61,
   "metadata": {},
   "outputs": [
    {
     "data": {
      "text/plain": [
       "1"
      ]
     },
     "execution_count": 61,
     "metadata": {},
     "output_type": "execute_result"
    }
   ],
   "source": [
    "test_results = soup.find(id='laboratory-testing')\n",
    "test_scripts = test_results.find_all('script')\n",
    "result_dict = json.loads(test_scripts[0].string)\n",
    "len(test_scripts)"
   ]
  },
  {
   "cell_type": "code",
   "execution_count": 13,
   "metadata": {},
   "outputs": [
    {
     "data": {
      "text/plain": [
       "4"
      ]
     },
     "execution_count": 13,
     "metadata": {},
     "output_type": "execute_result"
    }
   ],
   "source": [
    "len(totals_results)"
   ]
  },
  {
   "cell_type": "code",
   "execution_count": 34,
   "metadata": {},
   "outputs": [],
   "source": [
    "daily_data = dict()\n",
    "for data in ab_daily['x']['data']:\n",
    "    daily_data[data['name']] = {'date': data['x'], '{0}_count'.format(data['name']): data['y']}\n"
   ]
  },
  {
   "cell_type": "code",
   "execution_count": 38,
   "metadata": {},
   "outputs": [
    {
     "data": {
      "text/plain": [
       "dict_keys(['Confirmed', 'Probable'])"
      ]
     },
     "execution_count": 38,
     "metadata": {},
     "output_type": "execute_result"
    }
   ],
   "source": [
    "daily_data.keys()"
   ]
  },
  {
   "cell_type": "code",
   "execution_count": 39,
   "metadata": {},
   "outputs": [
    {
     "data": {
      "text/plain": [
       "3"
      ]
     },
     "execution_count": 39,
     "metadata": {},
     "output_type": "execute_result"
    }
   ],
   "source": [
    "status_data = dict()\n",
    "for data in ab_status['x']['data']:\n",
    "    status_data[data['name']] = {'date': data['x'], '{0}_cum'.format(data['name']): data['y']}\n",
    "len(status_data)"
   ]
  },
  {
   "cell_type": "code",
   "execution_count": 40,
   "metadata": {},
   "outputs": [
    {
     "data": {
      "text/plain": [
       "dict_keys(['Active', 'Died', 'Recovered'])"
      ]
     },
     "execution_count": 40,
     "metadata": {},
     "output_type": "execute_result"
    }
   ],
   "source": [
    "status_data.keys()"
   ]
  },
  {
   "cell_type": "code",
   "execution_count": 25,
   "metadata": {},
   "outputs": [
    {
     "data": {
      "text/plain": [
       "[{'x': ['2020-03-07',\n",
       "   '2020-03-14',\n",
       "   '2020-03-18',\n",
       "   '2020-03-19',\n",
       "   '2020-03-20',\n",
       "   '2020-03-21',\n",
       "   '2020-03-22',\n",
       "   '2020-03-23',\n",
       "   '2020-03-24',\n",
       "   '2020-03-25',\n",
       "   '2020-03-26',\n",
       "   '2020-03-27',\n",
       "   '2020-03-28',\n",
       "   '2020-03-29',\n",
       "   '2020-03-30',\n",
       "   '2020-03-31',\n",
       "   '2020-04-01',\n",
       "   '2020-04-02',\n",
       "   '2020-04-03',\n",
       "   '2020-04-04',\n",
       "   '2020-04-05',\n",
       "   '2020-04-06',\n",
       "   '2020-04-07'],\n",
       "  'type': 'scatter',\n",
       "  'mode': 'lines+markers',\n",
       "  'y': [0,\n",
       "   0,\n",
       "   0,\n",
       "   0,\n",
       "   0,\n",
       "   0,\n",
       "   0,\n",
       "   0,\n",
       "   1,\n",
       "   15,\n",
       "   40,\n",
       "   89,\n",
       "   136,\n",
       "   161,\n",
       "   208,\n",
       "   334,\n",
       "   447,\n",
       "   577,\n",
       "   650,\n",
       "   704,\n",
       "   762,\n",
       "   797,\n",
       "   900],\n",
       "  'name': 'Active',\n",
       "  'marker': {'color': 'rgba(212,0,114,1)',\n",
       "   'line': {'color': 'rgba(212,0,114,1)'}},\n",
       "  'textfont': {'color': 'rgba(212,0,114,1)'},\n",
       "  'error_y': {'color': 'rgba(212,0,114,1)'},\n",
       "  'error_x': {'color': 'rgba(212,0,114,1)'},\n",
       "  'line': {'color': 'rgba(212,0,114,1)'},\n",
       "  'xaxis': 'x',\n",
       "  'yaxis': 'y',\n",
       "  'frame': None},\n",
       " {'x': ['2020-03-07',\n",
       "   '2020-03-14',\n",
       "   '2020-03-18',\n",
       "   '2020-03-19',\n",
       "   '2020-03-20',\n",
       "   '2020-03-21',\n",
       "   '2020-03-22',\n",
       "   '2020-03-23',\n",
       "   '2020-03-24',\n",
       "   '2020-03-25',\n",
       "   '2020-03-26',\n",
       "   '2020-03-27',\n",
       "   '2020-03-28',\n",
       "   '2020-03-29',\n",
       "   '2020-03-30',\n",
       "   '2020-03-31',\n",
       "   '2020-04-01',\n",
       "   '2020-04-02',\n",
       "   '2020-04-03',\n",
       "   '2020-04-04',\n",
       "   '2020-04-05',\n",
       "   '2020-04-06',\n",
       "   '2020-04-07'],\n",
       "  'type': 'scatter',\n",
       "  'mode': 'lines+markers',\n",
       "  'y': [0,\n",
       "   0,\n",
       "   1,\n",
       "   1,\n",
       "   1,\n",
       "   1,\n",
       "   1,\n",
       "   2,\n",
       "   2,\n",
       "   2,\n",
       "   2,\n",
       "   3,\n",
       "   3,\n",
       "   7,\n",
       "   12,\n",
       "   13,\n",
       "   14,\n",
       "   16,\n",
       "   19,\n",
       "   24,\n",
       "   24,\n",
       "   26,\n",
       "   26],\n",
       "  'name': 'Died',\n",
       "  'marker': {'color': 'rgba(0,170,210,1)',\n",
       "   'line': {'color': 'rgba(0,170,210,1)'}},\n",
       "  'textfont': {'color': 'rgba(0,170,210,1)'},\n",
       "  'error_y': {'color': 'rgba(0,170,210,1)'},\n",
       "  'error_x': {'color': 'rgba(0,170,210,1)'},\n",
       "  'line': {'color': 'rgba(0,170,210,1)'},\n",
       "  'xaxis': 'x',\n",
       "  'yaxis': 'y',\n",
       "  'frame': None},\n",
       " {'x': ['2020-03-07',\n",
       "   '2020-03-14',\n",
       "   '2020-03-18',\n",
       "   '2020-03-19',\n",
       "   '2020-03-20',\n",
       "   '2020-03-21',\n",
       "   '2020-03-22',\n",
       "   '2020-03-23',\n",
       "   '2020-03-24',\n",
       "   '2020-03-25',\n",
       "   '2020-03-26',\n",
       "   '2020-03-27',\n",
       "   '2020-03-28',\n",
       "   '2020-03-29',\n",
       "   '2020-03-30',\n",
       "   '2020-03-31',\n",
       "   '2020-04-01',\n",
       "   '2020-04-02',\n",
       "   '2020-04-03',\n",
       "   '2020-04-04',\n",
       "   '2020-04-05',\n",
       "   '2020-04-06',\n",
       "   '2020-04-07'],\n",
       "  'type': 'scatter',\n",
       "  'mode': 'lines+markers',\n",
       "  'y': [1,\n",
       "   2,\n",
       "   4,\n",
       "   6,\n",
       "   7,\n",
       "   8,\n",
       "   15,\n",
       "   22,\n",
       "   26,\n",
       "   31,\n",
       "   41,\n",
       "   62,\n",
       "   86,\n",
       "   108,\n",
       "   134,\n",
       "   161,\n",
       "   203,\n",
       "   229,\n",
       "   267,\n",
       "   319,\n",
       "   380,\n",
       "   447,\n",
       "   447],\n",
       "  'name': 'Recovered',\n",
       "  'marker': {'color': 'rgba(119,184,0,1)',\n",
       "   'line': {'color': 'rgba(119,184,0,1)'}},\n",
       "  'textfont': {'color': 'rgba(119,184,0,1)'},\n",
       "  'error_y': {'color': 'rgba(119,184,0,1)'},\n",
       "  'error_x': {'color': 'rgba(119,184,0,1)'},\n",
       "  'line': {'color': 'rgba(119,184,0,1)'},\n",
       "  'xaxis': 'x',\n",
       "  'yaxis': 'y',\n",
       "  'frame': None}]"
      ]
     },
     "execution_count": 25,
     "metadata": {},
     "output_type": "execute_result"
    }
   ],
   "source": [
    "ab_status['x']['data']"
   ]
  },
  {
   "cell_type": "code",
   "execution_count": 42,
   "metadata": {},
   "outputs": [
    {
     "data": {
      "text/plain": [
       "[{'class': ['container-fluid', 'main-container']},\n",
       " {'class': ['fluid-row'], 'id': 'header'},\n",
       " {'class': ['figure']},\n",
       " {'class': ['figure']},\n",
       " {'class': ['figure']},\n",
       " {'class': ['figure']},\n",
       " {'class': ['figure']},\n",
       " {'class': ['figure']},\n",
       " {'class': ['figure']},\n",
       " {'class': ['figure']},\n",
       " {'class': ['figure']},\n",
       " {'class': ['figure']},\n",
       " {'class': ['figure']},\n",
       " {'class': ['figure']}]"
      ]
     },
     "execution_count": 42,
     "metadata": {},
     "output_type": "execute_result"
    }
   ],
   "source": [
    "class_list = []\n",
    "for tag in soup.findAll(\"div\"):\n",
    "    #print(tag.attrs, tag.attrs.keys(), list(tag.attrs.keys())[0])\n",
    "    if list(tag.attrs.keys())[0] == 'class':\n",
    "        class_list.append(tag.attrs)\n",
    "class_list"
   ]
  },
  {
   "cell_type": "code",
   "execution_count": 50,
   "metadata": {},
   "outputs": [
    {
     "name": "stdout",
     "output_type": "stream",
     "text": [
      "{'id': 'highlights', 'class': ['section', 'level2', 'unnumbered']}\n",
      "{'id': 'cases', 'class': ['section', 'level2', 'unnumbered']}\n",
      "{'id': 'characteristics', 'class': ['section', 'level2', 'unnumbered']}\n",
      "{'id': 'severe-outcomes', 'class': ['section', 'level2', 'unnumbered']}\n",
      "{'id': 'geospatial', 'class': ['section', 'level2', 'unnumbered']}\n",
      "{'id': 'laboratory-testing', 'class': ['section', 'level2', 'unnumbered']}\n",
      "{'id': 'data-export', 'class': ['section', 'level2', 'unnumbered']}\n",
      "{'id': 'data-notes', 'class': ['section', 'level2', 'unnumbered']}\n"
     ]
    }
   ],
   "source": [
    "find_result = False\n",
    "for tag in soup.findAll('div', {\"class\":\"level2\"}):\n",
    "    if tag.attrs: find_result = True\n",
    "    print(tag.attrs)\n",
    "if not find_result:\n",
    "    print('unable to find tag')"
   ]
  },
  {
   "cell_type": "code",
   "execution_count": 47,
   "metadata": {},
   "outputs": [
    {
     "ename": "TypeError",
     "evalue": "'NoneType' object is not iterable",
     "output_type": "error",
     "traceback": [
      "\u001b[1;31m---------------------------------------------------------------------------\u001b[0m",
      "\u001b[1;31mTypeError\u001b[0m                                 Traceback (most recent call last)",
      "\u001b[1;32m<ipython-input-47-955fbb39a778>\u001b[0m in \u001b[0;36m<module>\u001b[1;34m\u001b[0m\n\u001b[0;32m      1\u001b[0m \u001b[0mtemp_dict\u001b[0m \u001b[1;33m=\u001b[0m \u001b[1;33m{\u001b[0m\u001b[1;34m'a'\u001b[0m\u001b[1;33m:\u001b[0m \u001b[1;36m1\u001b[0m\u001b[1;33m}\u001b[0m\u001b[1;33m\u001b[0m\u001b[1;33m\u001b[0m\u001b[0m\n\u001b[0;32m      2\u001b[0m \u001b[0mtdict2\u001b[0m \u001b[1;33m=\u001b[0m \u001b[1;33m{\u001b[0m\u001b[1;34m'a'\u001b[0m\u001b[1;33m:\u001b[0m \u001b[1;36m2\u001b[0m\u001b[1;33m,\u001b[0m \u001b[1;34m'c'\u001b[0m\u001b[1;33m:\u001b[0m \u001b[1;36m3\u001b[0m\u001b[1;33m}\u001b[0m\u001b[1;33m\u001b[0m\u001b[1;33m\u001b[0m\u001b[0m\n\u001b[1;32m----> 3\u001b[1;33m \u001b[0mtemp_dict\u001b[0m\u001b[1;33m.\u001b[0m\u001b[0mupdate\u001b[0m\u001b[1;33m(\u001b[0m\u001b[1;32mNone\u001b[0m\u001b[1;33m)\u001b[0m\u001b[1;33m\u001b[0m\u001b[1;33m\u001b[0m\u001b[0m\n\u001b[0m\u001b[0;32m      4\u001b[0m \u001b[0mtemp_dict\u001b[0m\u001b[1;33m\u001b[0m\u001b[1;33m\u001b[0m\u001b[0m\n",
      "\u001b[1;31mTypeError\u001b[0m: 'NoneType' object is not iterable"
     ]
    }
   ],
   "source": [
    "temp_dict = {'a': 1}\n",
    "tdict2 = {'a': 2, 'c': 3}\n",
    "temp_dict.update(None)\n",
    "temp_dict"
   ]
  },
  {
   "cell_type": "code",
   "execution_count": 33,
   "metadata": {},
   "outputs": [
    {
     "name": "stdout",
     "output_type": "stream",
     "text": [
      "{'id': 'data-export', 'class': ['section', 'level2', 'unnumbered']}\n"
     ]
    }
   ],
   "source": [
    "for tag in soup.findAll('div', {\"id\":\"data-export\"}):\n",
    "    print(tag.attrs)"
   ]
  },
  {
   "cell_type": "code",
   "execution_count": 59,
   "metadata": {},
   "outputs": [],
   "source": [
    "results = soup.find(id='cases')\n",
    "totals_results = results.find_all('script')\n",
    "#totals_results"
   ]
  },
  {
   "cell_type": "code",
   "execution_count": 44,
   "metadata": {},
   "outputs": [],
   "source": [
    "test = None\n",
    "if test:\n",
    "    print('what')"
   ]
  },
  {
   "cell_type": "code",
   "execution_count": 74,
   "metadata": {},
   "outputs": [],
   "source": [
    "abC19scaper = albertaC19_webscraper()\n",
    "abTotal, abRegion, abTesting = abC19scaper.scrape_all(return_dataframes=True)"
   ]
  },
  {
   "cell_type": "code",
   "execution_count": 75,
   "metadata": {},
   "outputs": [
    {
     "data": {
      "text/html": [
       "<div>\n",
       "<style scoped>\n",
       "    .dataframe tbody tr th:only-of-type {\n",
       "        vertical-align: middle;\n",
       "    }\n",
       "\n",
       "    .dataframe tbody tr th {\n",
       "        vertical-align: top;\n",
       "    }\n",
       "\n",
       "    .dataframe thead th {\n",
       "        text-align: right;\n",
       "    }\n",
       "</style>\n",
       "<table border=\"1\" class=\"dataframe\">\n",
       "  <thead>\n",
       "    <tr style=\"text-align: right;\">\n",
       "      <th></th>\n",
       "      <th>cum_cases</th>\n",
       "      <th>Confirmed_count</th>\n",
       "      <th>Probable_count</th>\n",
       "      <th>Daily_count</th>\n",
       "      <th>Active_cum</th>\n",
       "      <th>Died_cum</th>\n",
       "      <th>Recovered_cum</th>\n",
       "    </tr>\n",
       "  </thead>\n",
       "  <tbody>\n",
       "    <tr>\n",
       "      <th>2020-04-03</th>\n",
       "      <td>1200</td>\n",
       "      <td>38</td>\n",
       "      <td>36</td>\n",
       "      <td>74</td>\n",
       "      <td>650</td>\n",
       "      <td>19</td>\n",
       "      <td>267</td>\n",
       "    </tr>\n",
       "    <tr>\n",
       "      <th>2020-04-04</th>\n",
       "      <td>1258</td>\n",
       "      <td>38</td>\n",
       "      <td>20</td>\n",
       "      <td>58</td>\n",
       "      <td>704</td>\n",
       "      <td>24</td>\n",
       "      <td>319</td>\n",
       "    </tr>\n",
       "    <tr>\n",
       "      <th>2020-04-05</th>\n",
       "      <td>1316</td>\n",
       "      <td>35</td>\n",
       "      <td>23</td>\n",
       "      <td>58</td>\n",
       "      <td>762</td>\n",
       "      <td>24</td>\n",
       "      <td>380</td>\n",
       "    </tr>\n",
       "    <tr>\n",
       "      <th>2020-04-06</th>\n",
       "      <td>1351</td>\n",
       "      <td>20</td>\n",
       "      <td>15</td>\n",
       "      <td>35</td>\n",
       "      <td>797</td>\n",
       "      <td>26</td>\n",
       "      <td>447</td>\n",
       "    </tr>\n",
       "    <tr>\n",
       "      <th>2020-04-07</th>\n",
       "      <td>1373</td>\n",
       "      <td>9</td>\n",
       "      <td>13</td>\n",
       "      <td>22</td>\n",
       "      <td>900</td>\n",
       "      <td>26</td>\n",
       "      <td>447</td>\n",
       "    </tr>\n",
       "  </tbody>\n",
       "</table>\n",
       "</div>"
      ],
      "text/plain": [
       "            cum_cases  Confirmed_count  Probable_count  Daily_count  \\\n",
       "2020-04-03       1200               38              36           74   \n",
       "2020-04-04       1258               38              20           58   \n",
       "2020-04-05       1316               35              23           58   \n",
       "2020-04-06       1351               20              15           35   \n",
       "2020-04-07       1373                9              13           22   \n",
       "\n",
       "            Active_cum  Died_cum  Recovered_cum  \n",
       "2020-04-03         650        19            267  \n",
       "2020-04-04         704        24            319  \n",
       "2020-04-05         762        24            380  \n",
       "2020-04-06         797        26            447  \n",
       "2020-04-07         900        26            447  "
      ]
     },
     "execution_count": 75,
     "metadata": {},
     "output_type": "execute_result"
    }
   ],
   "source": [
    "abTotal.tail()"
   ]
  },
  {
   "cell_type": "code",
   "execution_count": 76,
   "metadata": {},
   "outputs": [
    {
     "data": {
      "text/html": [
       "<div>\n",
       "<style scoped>\n",
       "    .dataframe tbody tr th:only-of-type {\n",
       "        vertical-align: middle;\n",
       "    }\n",
       "\n",
       "    .dataframe tbody tr th {\n",
       "        vertical-align: top;\n",
       "    }\n",
       "\n",
       "    .dataframe thead th {\n",
       "        text-align: right;\n",
       "    }\n",
       "</style>\n",
       "<table border=\"1\" class=\"dataframe\">\n",
       "  <thead>\n",
       "    <tr style=\"text-align: right;\">\n",
       "      <th></th>\n",
       "      <th>Calgary_newCases</th>\n",
       "      <th>Central_newCases</th>\n",
       "      <th>Edmont_newCases</th>\n",
       "      <th>North_newCases</th>\n",
       "      <th>South_newCases</th>\n",
       "      <th>Unknown_newCases</th>\n",
       "    </tr>\n",
       "  </thead>\n",
       "  <tbody>\n",
       "    <tr>\n",
       "      <th>2020-04-03</th>\n",
       "      <td>751</td>\n",
       "      <td>60</td>\n",
       "      <td>301</td>\n",
       "      <td>68</td>\n",
       "      <td>18</td>\n",
       "      <td>2</td>\n",
       "    </tr>\n",
       "    <tr>\n",
       "      <th>2020-04-04</th>\n",
       "      <td>782</td>\n",
       "      <td>61</td>\n",
       "      <td>315</td>\n",
       "      <td>79</td>\n",
       "      <td>19</td>\n",
       "      <td>2</td>\n",
       "    </tr>\n",
       "    <tr>\n",
       "      <th>2020-04-05</th>\n",
       "      <td>805</td>\n",
       "      <td>65</td>\n",
       "      <td>340</td>\n",
       "      <td>83</td>\n",
       "      <td>21</td>\n",
       "      <td>2</td>\n",
       "    </tr>\n",
       "    <tr>\n",
       "      <th>2020-04-06</th>\n",
       "      <td>825</td>\n",
       "      <td>65</td>\n",
       "      <td>348</td>\n",
       "      <td>89</td>\n",
       "      <td>22</td>\n",
       "      <td>2</td>\n",
       "    </tr>\n",
       "    <tr>\n",
       "      <th>2020-04-07</th>\n",
       "      <td>835</td>\n",
       "      <td>66</td>\n",
       "      <td>358</td>\n",
       "      <td>90</td>\n",
       "      <td>22</td>\n",
       "      <td>2</td>\n",
       "    </tr>\n",
       "  </tbody>\n",
       "</table>\n",
       "</div>"
      ],
      "text/plain": [
       "            Calgary_newCases  Central_newCases  Edmont_newCases  \\\n",
       "2020-04-03               751                60              301   \n",
       "2020-04-04               782                61              315   \n",
       "2020-04-05               805                65              340   \n",
       "2020-04-06               825                65              348   \n",
       "2020-04-07               835                66              358   \n",
       "\n",
       "            North_newCases  South_newCases  Unknown_newCases  \n",
       "2020-04-03              68              18                 2  \n",
       "2020-04-04              79              19                 2  \n",
       "2020-04-05              83              21                 2  \n",
       "2020-04-06              89              22                 2  \n",
       "2020-04-07              90              22                 2  "
      ]
     },
     "execution_count": 76,
     "metadata": {},
     "output_type": "execute_result"
    }
   ],
   "source": [
    "abRegion.tail()"
   ]
  },
  {
   "cell_type": "code",
   "execution_count": 77,
   "metadata": {},
   "outputs": [
    {
     "data": {
      "text/html": [
       "<div>\n",
       "<style scoped>\n",
       "    .dataframe tbody tr th:only-of-type {\n",
       "        vertical-align: middle;\n",
       "    }\n",
       "\n",
       "    .dataframe tbody tr th {\n",
       "        vertical-align: top;\n",
       "    }\n",
       "\n",
       "    .dataframe thead th {\n",
       "        text-align: right;\n",
       "    }\n",
       "</style>\n",
       "<table border=\"1\" class=\"dataframe\">\n",
       "  <thead>\n",
       "    <tr style=\"text-align: right;\">\n",
       "      <th></th>\n",
       "      <th>test_count</th>\n",
       "    </tr>\n",
       "  </thead>\n",
       "  <tbody>\n",
       "    <tr>\n",
       "      <th>2020-04-03</th>\n",
       "      <td>1532</td>\n",
       "    </tr>\n",
       "    <tr>\n",
       "      <th>2020-04-04</th>\n",
       "      <td>1740</td>\n",
       "    </tr>\n",
       "    <tr>\n",
       "      <th>2020-04-05</th>\n",
       "      <td>1113</td>\n",
       "    </tr>\n",
       "    <tr>\n",
       "      <th>2020-04-06</th>\n",
       "      <td>1131</td>\n",
       "    </tr>\n",
       "    <tr>\n",
       "      <th>2020-04-07</th>\n",
       "      <td>247</td>\n",
       "    </tr>\n",
       "  </tbody>\n",
       "</table>\n",
       "</div>"
      ],
      "text/plain": [
       "            test_count\n",
       "2020-04-03        1532\n",
       "2020-04-04        1740\n",
       "2020-04-05        1113\n",
       "2020-04-06        1131\n",
       "2020-04-07         247"
      ]
     },
     "execution_count": 77,
     "metadata": {},
     "output_type": "execute_result"
    }
   ],
   "source": [
    "abTesting.tail()"
   ]
  },
  {
   "cell_type": "code",
   "execution_count": 4,
   "metadata": {},
   "outputs": [
    {
     "name": "stdout",
     "output_type": "stream",
     "text": [
      "{'id': 'highlights', 'class': ['section', 'level2', 'unnumbered']}\n",
      "{'id': 'cases', 'class': ['section', 'level2', 'unnumbered']}\n",
      "{'id': 'characteristics', 'class': ['section', 'level2', 'unnumbered']}\n",
      "{'id': 'severe-outcomes', 'class': ['section', 'level2', 'unnumbered']}\n",
      "{'id': 'geospatial', 'class': ['section', 'level2', 'unnumbered']}\n",
      "{'id': 'laboratory-testing', 'class': ['section', 'level2', 'unnumbered']}\n",
      "{'id': 'data-export', 'class': ['section', 'level2', 'unnumbered']}\n",
      "{'id': 'data-notes', 'class': ['section', 'level2', 'unnumbered']}\n",
      "Here are the class id's we are currently using for this scraper:\n",
      "{'totals': 'case', 'regions': 'geospatial', 'testing': 'laboratory-testing'}\n"
     ]
    },
    {
     "data": {
      "text/plain": [
       "True"
      ]
     },
     "execution_count": 4,
     "metadata": {},
     "output_type": "execute_result"
    }
   ],
   "source": [
    "abC19scaper.print_html_class_ids()"
   ]
  },
  {
   "cell_type": "code",
   "execution_count": 3,
   "metadata": {},
   "outputs": [],
   "source": [
    "def calculate_cumulatives(df:pd.DataFrame, filter_suffix:str='newCases', col_suffix:str='cumCases', combine_df:bool=True):\n",
    "    '''\n",
    "    take the dataframe and calculate the cumulative cases. Will only select columns with\n",
    "    the base key in the column name. returns a new dataframe\n",
    "    \n",
    "    Parameters:\n",
    "        df:pd.DataFrame\n",
    "            the dataframe contaning the new cases data\n",
    "        filter_suffix:str\n",
    "            the string to use for filtering the dataframe using pd.DataFrame.filter(like=like_filter)\n",
    "        col_suffix:str\n",
    "            will use like_filter and old column names to determine the new cumulative column name\n",
    "            for example would find Cal_newCases and determine new column should be Cal_cumCases\n",
    "        combine_df:bool\n",
    "            if True will return a new dataframe with the cumulative data joined with the old dataframe\n",
    "            if False will only return a dataframe with the cumulative data\n",
    "            \n",
    "    Returns:\n",
    "        cum_df:pd.DataFrame\n",
    "            new dataframe \n",
    "    '''\n",
    "    filtered_df = df.filter(like=filter_suffix)\n",
    "    # create map for new columns\n",
    "    filt_cols = filtered_df.columns.to_list()\n",
    "    new_cols = [col.replace(filter_suffix, col_suffix) for col in filt_cols]\n",
    "    col_dict = dict(zip(filt_cols, new_cols))\n",
    "    # make new dataframe\n",
    "    cum_df = filtered_df.cumsum()\n",
    "    cum_df.rename(columns=col_dict, inplace=True)\n",
    "    if combine_df:\n",
    "        return df.join(cum_df)\n",
    "    return cum_df"
   ]
  },
  {
   "cell_type": "code",
   "execution_count": 4,
   "metadata": {},
   "outputs": [],
   "source": [
    "# increase33 = int(np.ceil(cum_data.iloc[old_idx]['cumsum'] * 1.33))"
   ]
  },
  {
   "cell_type": "code",
   "execution_count": 5,
   "metadata": {},
   "outputs": [],
   "source": [
    "def calculate_doublingtimes_region(df:pd.DataFrame, col_suffix:str='cumCases',\n",
    "                                   median_incubation_period:float=5.2, combine_df=True):\n",
    "    '''\n",
    "    given a dataframe look through and calculate the doubling times. Both doubling time based\n",
    "    on the first occurance of covid-19 and doubling time based on a rolling window which \n",
    "    looks back as far as the median incubation period (converted to integer using ceiling)\n",
    "    \n",
    "    Parameters:\n",
    "        df: pd.DataFrame\n",
    "            the dataframe containing the region data\n",
    "        col_suffix:str\n",
    "            cumulative column suffix used to filter the dataframe to only grab cumulative data\n",
    "            uses pd.DataFrame.filter(like=col_suffix)\n",
    "        combine_df:bool\n",
    "            if True will return a new dataframe with the doubling time data joined with the old dataframe\n",
    "            if False will only return a dataframe with the doubling time data\n",
    "    Return:\n",
    "        regionDF_doublingtime: DataFrame\n",
    "    '''\n",
    "    median_incub_prd = np.ceil(median_incubation_period)\n",
    "    filtered_df = df.filter(like=col_suffix)\n",
    "    doubling_time = dict()\n",
    "    for label, cum_data in filtered_df.iteritems():\n",
    "        start_idx = cum_data.to_numpy().nonzero()[0][0] # assumes date is used as df index\n",
    "        min_idx_rw = start_idx + median_incub_prd\n",
    "        start_cases = cum_data.iloc[start_idx]\n",
    "        start_date = cum_data.index[start_idx]\n",
    "        \n",
    "        dt_values = [0]\n",
    "        dt_key = label.replace(col_suffix, 'dtime')\n",
    "        dt_rw_values = [0]\n",
    "        dt_rw_key = label.replace(col_suffix, 'dtime_rw')\n",
    "        \n",
    "        for idx in range(1, len(cum_data)):\n",
    "            old_idx = idx - 1\n",
    "\n",
    "            new_cases = cum_data.iloc[idx]\n",
    "            new_date = cum_data.index[idx]\n",
    "            old_cases = cum_data.iloc[old_idx]\n",
    "\n",
    "            # calculate the doubling time\n",
    "            t_delta = new_date - start_date\n",
    "            c_delta = new_cases / start_cases\n",
    "            \n",
    "            dtime = 0 # default\n",
    "            if c_delta > 1: # log(1) = 0, log(x) with x: 0 < x > 1 is equal to a negative number\n",
    "                dtime = ( t_delta.days * np.log(2) ) / ( np.log(c_delta))\n",
    "            dt_values.append(dtime)\n",
    "            \n",
    "            # Rolling window calculation\n",
    "            dtime_rw = 0 # default\n",
    "            if idx >= min_idx_rw:\n",
    "                idx_rw = idx - 6\n",
    "                old_cases_rw = cum_data.iloc[idx_rw]\n",
    "                old_date_rw = cum_data.index[idx_rw]\n",
    "                # calculate the doubling time\n",
    "                t_delta_rw = new_date - old_date_rw\n",
    "                c_delta_rw = new_cases / old_cases_rw\n",
    "                if c_delta_rw > 1: # log(1) = 0, log(x) with x: 0 < x > 1 is equal to a negative number\n",
    "                    dtime_rw = ( t_delta_rw.days * np.log(2) ) / ( np.log(c_delta_rw))\n",
    "            dt_rw_values.append(dtime_rw)\n",
    "            \n",
    "        doubling_time[dt_key] = dt_values\n",
    "        doubling_time[dt_rw_key] = dt_rw_values\n",
    "    df_dt = pd.DataFrame(doubling_time, index=filtered_df.index)\n",
    "    if combine_df:\n",
    "        return df.join(df_dt)\n",
    "    return df_dt"
   ]
  },
  {
   "cell_type": "code",
   "execution_count": 6,
   "metadata": {},
   "outputs": [],
   "source": [
    "region_cum = calculate_cumulatives(abRegion, combine_df=False)\n",
    "region_dt = calculate_doublingtimes_region(region_cum, combine_df=False)\n",
    "total_dt = calculate_doublingtimes_region(abTotal, col_suffix='cum_cases', combine_df=False)"
   ]
  },
  {
   "cell_type": "code",
   "execution_count": 7,
   "metadata": {},
   "outputs": [
    {
     "name": "stdout",
     "output_type": "stream",
     "text": [
      "['Calgary_cumCases', 'Central_cumCases', 'Edmont_cumCases', 'North_cumCases', 'South_cumCases', 'Unknown_cumCases']\n",
      "['new_cases', 'cum_cases']\n"
     ]
    }
   ],
   "source": [
    "print(region_cum.columns.to_list())\n",
    "print(abTotal.columns.to_list())"
   ]
  },
  {
   "cell_type": "code",
   "execution_count": 8,
   "metadata": {},
   "outputs": [
    {
     "data": {
      "image/png": "[encoded data removed]",
      "text/plain": [
       "<Figure size 576x432 with 1 Axes>"
      ]
     },
     "metadata": {
      "needs_background": "light"
     },
     "output_type": "display_data"
    }
   ],
   "source": [
    "fig, ax = plt.subplots(figsize=(8,6))\n",
    "days_to_trim = 1\n",
    "abTotal['cum_cases'][:-days_to_trim].plot(ax=ax, label='Alberta', c='green')\n",
    "region_cum['Calgary_cumCases'][:-days_to_trim].plot(ax=ax, label='Calgary', c='orange')\n",
    "region_cum['Edmont_cumCases'][:-days_to_trim].plot(ax=ax, label='Edmonton', c='blue')\n",
    "\n",
    "ax.grid(which='both')\n",
    "ax.set_ylabel('Cumulative Cases')\n",
    "ax.set_title('Alberta Cumulative Increase')\n",
    "ax.legend()\n",
    "fig.savefig('images/AlbertaCumIncrease.png', bbox_inches='tight')"
   ]
  },
  {
   "cell_type": "code",
   "execution_count": 15,
   "metadata": {},
   "outputs": [],
   "source": [
    "c_ab, c_calg, c_edm = 'green', 'orange', 'blue'\n",
    "ln_width = 2\n",
    "days_to_trim = 1\n",
    "fig = go.Figure()\n",
    "fig.add_trace(go.Scatter(x=abTotal['cum_cases'].index.to_list(), y=abTotal['cum_cases'][:-days_to_trim],\n",
    "                         mode='lines+markers', line=dict(color=c_ab, width=ln_width),\n",
    "                         name='Alberta'))\n",
    "fig.add_trace(go.Scatter(x=region_cum['Calgary_cumCases'][:-days_to_trim].index.to_list(), y=region_cum['Calgary_cumCases'][:-days_to_trim],\n",
    "                         mode='lines+markers', line=dict(color=c_calg, width=ln_width),\n",
    "                         name='Calgary'))\n",
    "fig.add_trace(go.Scatter(x=region_cum['Edmont_cumCases'][:-days_to_trim].index.to_list(), y=region_cum['Edmont_cumCases'][:-days_to_trim],\n",
    "                         mode='lines+markers', line=dict(color=c_edm, width=ln_width),\n",
    "                         name='Edmonton'))\n",
    "fig.write_html('plotly_test.html')"
   ]
  },
  {
   "cell_type": "code",
   "execution_count": 9,
   "metadata": {},
   "outputs": [
    {
     "name": "stdout",
     "output_type": "stream",
     "text": [
      "['Calgary_dtime', 'Calgary_dtime_rw', 'Central_dtime', 'Central_dtime_rw', 'Edmont_dtime', 'Edmont_dtime_rw', 'North_dtime', 'North_dtime_rw', 'South_dtime', 'South_dtime_rw', 'Unknown_dtime', 'Unknown_dtime_rw']\n",
      "['dtime', 'dtime_rw']\n"
     ]
    }
   ],
   "source": [
    "print(region_dt.columns.to_list())\n",
    "print(total_dt.columns.to_list())"
   ]
  },
  {
   "cell_type": "code",
   "execution_count": 26,
   "metadata": {},
   "outputs": [
    {
     "data": {
      "image/png": "[encoded data removed]",
      "text/plain": [
       "<Figure size 576x432 with 1 Axes>"
      ]
     },
     "metadata": {
      "needs_background": "light"
     },
     "output_type": "display_data"
    }
   ],
   "source": [
    "fig, ax = plt.subplots(figsize=(8,6))\n",
    "total_dt['dtime'].plot(ax=ax, label='Alberta', c='green')\n",
    "region_dt['Calgary_dtime'].plot(ax=ax, label='Calgary', c='orange')\n",
    "region_dt['Edmont_dtime'].plot(ax=ax, label='Edmonton', c='blue')\n",
    "\n",
    "ax.legend()\n",
    "ax.grid(which='both')\n",
    "ax.set_ylabel('Doubling Time (days)')\n",
    "ax.set_title('Alberta Doubling Time (Days)')\n",
    "fig.savefig('images/AlbertaDTimeIncrease.png', bbox_inches='tight')"
   ]
  },
  {
   "cell_type": "code",
   "execution_count": 11,
   "metadata": {},
   "outputs": [
    {
     "data": {
      "image/png": "[encoded data removed]",
      "text/plain": [
       "<Figure size 576x432 with 1 Axes>"
      ]
     },
     "metadata": {
      "needs_background": "light"
     },
     "output_type": "display_data"
    }
   ],
   "source": [
    "fig, ax = plt.subplots(figsize=(8,6))\n",
    "ax.plot(abTotal['cum_cases'].values, total_dt['dtime'].values, \n",
    "        c='green', label='AB')\n",
    "ax.plot(region_cum['Calgary_cumCases'].values, region_dt['Calgary_dtime'].values, \n",
    "        c='orange', label='Calg')\n",
    "ax.plot(region_cum['Edmont_cumCases'].values, region_dt['Edmont_dtime'].values, \n",
    "        c='blue', label='Edm')\n",
    "ax.grid(which='both')\n",
    "ax.legend()\n",
    "ax.set_ylabel('Doubling Time (Days)')\n",
    "ax.set_xlabel('Cumulative Case Count')\n",
    "ax.set_title(\"Alberta Doubling Time by Cumulative Cases\")\n",
    "fig.savefig('images/AlbertaDTimeIncrease_byCaseCount.png', bbox_inches='tight')"
   ]
  },
  {
   "cell_type": "code",
   "execution_count": 12,
   "metadata": {},
   "outputs": [
    {
     "data": {
      "text/plain": [
       "6.8553641060028925"
      ]
     },
     "execution_count": 12,
     "metadata": {},
     "output_type": "execute_result"
    }
   ],
   "source": [
    "ab_date = abTotal['cum_cases'].index[-2].month_name() + ' ' + str(abTotal['cum_cases'].index[-2].day)\n",
    "ab_cases = abTotal['cum_cases'][-2]\n",
    "ab_dt = total_dt['dtime_rw'][-2]\n",
    "ab_dt"
   ]
  },
  {
   "cell_type": "code",
   "execution_count": 22,
   "metadata": {},
   "outputs": [
    {
     "data": {
      "text/plain": [
       "Text(0.5, 1.0, 'Alberta: 6 Day Rolling Window - Doubling Time by Cumulative Cases')"
      ]
     },
     "execution_count": 22,
     "metadata": {},
     "output_type": "execute_result"
    },
    {
     "data": {
      "image/png": "[encoded data removed]",
      "text/plain": [
       "<Figure size 576x432 with 1 Axes>"
      ]
     },
     "metadata": {
      "needs_background": "light"
     },
     "output_type": "display_data"
    }
   ],
   "source": [
    "days_to_trim = 1\n",
    "trim = days_to_trim + 1\n",
    "fig, ax = plt.subplots(figsize=(8,6))\n",
    "c_ab, c_calg, c_edm = 'green', 'orange', 'blue'\n",
    "\n",
    "ax.plot(abTotal['cum_cases'].values[:-days_to_trim], total_dt['dtime_rw'].values[:-days_to_trim], \n",
    "        c=c_ab, label='Alberta')\n",
    "ax.plot(region_cum['Calgary_cumCases'].values[:-days_to_trim], region_dt['Calgary_dtime_rw'].values[:-days_to_trim], \n",
    "        c=c_calg, label='Calgary')\n",
    "ax.plot(region_cum['Edmont_cumCases'].values[:-days_to_trim], region_dt['Edmont_dtime_rw'].values[:-days_to_trim], \n",
    "        c=c_edm, label='Edmonton')\n",
    "\n",
    "# annotate Alberta\n",
    "ab_date = abTotal['cum_cases'].index[-trim].month_name() + ' ' + str(abTotal['cum_cases'].index[-trim].day)\n",
    "ab_cases = abTotal['cum_cases'][-trim]\n",
    "ab_dt = total_dt['dtime_rw'][-trim]\n",
    "ax.plot([ab_cases], [ab_dt], 'o', c=c_ab)\n",
    "ax.text(ab_cases - 40, ab_dt + 0.15, ab_date, \n",
    "        fontdict={'color': c_ab, 'size': 8, 'weight': 'bold'})\n",
    "# annotate Calgary\n",
    "cal_date = region_cum['Calgary_cumCases'].index[-trim].month_name() + ' ' + str(region_cum['Calgary_cumCases'].index[-trim].day)\n",
    "cal_cases = region_cum['Calgary_cumCases'][-trim]\n",
    "cal_dt = region_dt['Calgary_dtime_rw'][-trim]\n",
    "ax.plot([cal_cases], [cal_dt], 'o', c=c_calg)\n",
    "ax.text(cal_cases - 40, cal_dt + 0.15, cal_date, \n",
    "        fontdict={'color': c_calg, 'size': 8, 'weight': 'bold'})\n",
    "# annotate Edmonton\n",
    "edm_date = region_cum['Edmont_cumCases'].index[-trim].month_name() + ' ' + str(region_cum['Edmont_cumCases'].index[-trim].day)\n",
    "edm_cases = region_cum['Edmont_cumCases'][-trim]\n",
    "edm_dt = region_dt['Edmont_dtime_rw'][-trim]\n",
    "ax.plot([edm_cases], [edm_dt], 'o', c=c_edm)\n",
    "ax.text(edm_cases - 40, edm_dt + 0.15, edm_date, \n",
    "        fontdict={'color': c_edm, 'size': 8, 'weight': 'bold'})\n",
    "# fancy up the plot\n",
    "ax.grid(which='both', linestyle=(0, (5, 3)), lw=0.5)\n",
    "ax.legend(frameon=True, fancybox=True, shadow=True)\n",
    "ax.set_ylabel('Doubling Time (Days)', fontdict={'size': 9, 'family': 'sans-serif', 'style':'italic'})\n",
    "ax.set_xlabel('Cumulative Case Count', fontdict={'size': 9, 'family': 'sans-serif', 'style':'italic'})\n",
    "ax.set_title(\"Alberta: 6 Day Rolling Window - Doubling Time by Cumulative Cases\",\n",
    "             fontdict={'fontsize': 10, 'family': 'sans-serif', 'fontweight': 'bold'})\n",
    "#fig.savefig('images/AlbertaDTimeIncreaseRW_byCaseCount.png', bbox_inches='tight')"
   ]
  },
  {
   "cell_type": "code",
   "execution_count": 27,
   "metadata": {},
   "outputs": [
    {
     "data": {
      "text/plain": [
       "6.8553641060028925"
      ]
     },
     "execution_count": 27,
     "metadata": {},
     "output_type": "execute_result"
    }
   ],
   "source": [
    "ab_dt"
   ]
  },
  {
   "cell_type": "code",
   "execution_count": null,
   "metadata": {},
   "outputs": [],
   "source": [
    "fig, ax = plt.subplots(figsize=(8,6))\n",
    "covid.groupby(['Zone']).get_group('Edmonton').plot(y='dtime', \n",
    "                                                   x='cumsum', \n",
    "                                                   ax=ax, \n",
    "                                                   label=\"YEG doubling time\",\n",
    "                                                   color='blue')\n",
    "covid.groupby(['Zone']).get_group('Calgary').plot(y='dtime', \n",
    "                                                  x='cumsum', \n",
    "                                                  ax=ax, \n",
    "                                                  label=\"Calgary doubling time\",\n",
    "                                                  color='green')\n",
    "# totals.plot(y='dtime', x='Date',  ax=ax, \n",
    "#             label=\"Alberta doubling time\", color='cyan')\n",
    "\n",
    "ax.grid(which='both')\n",
    "ax.set_title('Alberta Doubling Time (Days)')\n",
    "fig.savefig('AlbertaDTimeIncrease_byCaseCount.png', bbox_inches='tight')"
   ]
  },
  {
   "cell_type": "code",
   "execution_count": null,
   "metadata": {},
   "outputs": [],
   "source": [
    "covid.to_csv('covid_analysis.csv')"
   ]
  },
  {
   "cell_type": "code",
   "execution_count": null,
   "metadata": {},
   "outputs": [],
   "source": []
  },
  {
   "cell_type": "code",
   "execution_count": null,
   "metadata": {},
   "outputs": [],
   "source": []
  }
 ],
 "metadata": {
  "kernelspec": {
   "display_name": "Python 3",
   "language": "python",
   "name": "python3"
  },
  "language_info": {
   "codemirror_mode": {
    "name": "ipython",
    "version": 3
   },
   "file_extension": ".py",
   "mimetype": "text/x-python",
   "name": "python",
   "nbconvert_exporter": "python",
   "pygments_lexer": "ipython3",
   "version": "3.8.2"
  }
 },
 "nbformat": 4,
 "nbformat_minor": 4
}
