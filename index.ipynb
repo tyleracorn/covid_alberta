{
 "cells": [
  {
   "cell_type": "code",
   "execution_count": null,
   "metadata": {},
   "outputs": [],
   "source": [
    "#hide\n",
    "%load_ext autoreload\n",
    "%autoreload 2"
   ]
  },
  {
   "cell_type": "code",
   "execution_count": null,
   "metadata": {},
   "outputs": [],
   "source": [
    "#hide\n",
    "import covid_alberta"
   ]
  },
  {
   "cell_type": "markdown",
   "metadata": {},
   "source": [
    "# Covid Alberta\n",
    "\n",
    "> This is a small package that I have developed to look at some of the alberta specific covid data.\n",
    "> There are two parts to the package. the webscraper and the data analysis"
   ]
  },
  {
   "cell_type": "markdown",
   "metadata": {},
   "source": [
    "This file will become your README and also the index of your documentation."
   ]
  },
  {
   "cell_type": "markdown",
   "metadata": {},
   "source": [
    "## Install"
   ]
  },
  {
   "cell_type": "markdown",
   "metadata": {},
   "source": [
    "`pip install covid_alberta`"
   ]
  },
  {
   "cell_type": "markdown",
   "metadata": {},
   "source": [
    "## Web Scraper\n",
    "\n",
    "The `albertaC19` is a class that scrapes the updated stats off of the [alberta Covid-19 website](https://covid19stats.alberta.ca/).\n",
    "\n",
    "example of using the webscraper\n"
   ]
  },
  {
   "cell_type": "code",
   "execution_count": null,
   "metadata": {},
   "outputs": [],
   "source": [
    "abC19scaper = covid_alberta.albertaC19(outputfolder=\"\")\n",
    "# I don't plan on writing out the data in this example thus the keywords\n",
    "ab_totals, ab_regions, ab_testing = abC19scaper.scrape_all(fltypes=None, return_dataframes=True)"
   ]
  },
  {
   "cell_type": "markdown",
   "metadata": {},
   "source": [
    "Now we can show the dataframes"
   ]
  },
  {
   "cell_type": "code",
   "execution_count": null,
   "metadata": {},
   "outputs": [
    {
     "data": {
      "text/html": [
       "<div>\n",
       "<style scoped>\n",
       "    .dataframe tbody tr th:only-of-type {\n",
       "        vertical-align: middle;\n",
       "    }\n",
       "\n",
       "    .dataframe tbody tr th {\n",
       "        vertical-align: top;\n",
       "    }\n",
       "\n",
       "    .dataframe thead th {\n",
       "        text-align: right;\n",
       "    }\n",
       "</style>\n",
       "<table border=\"1\" class=\"dataframe\">\n",
       "  <thead>\n",
       "    <tr style=\"text-align: right;\">\n",
       "      <th></th>\n",
       "      <th>cum_cases</th>\n",
       "      <th>Confirmed_count</th>\n",
       "      <th>Probable_count</th>\n",
       "      <th>Daily_count</th>\n",
       "      <th>Active_cum</th>\n",
       "      <th>Died_cum</th>\n",
       "      <th>Recovered_cum</th>\n",
       "    </tr>\n",
       "  </thead>\n",
       "  <tbody>\n",
       "    <tr>\n",
       "      <th>2020-04-04</th>\n",
       "      <td>1250</td>\n",
       "      <td>38</td>\n",
       "      <td>19</td>\n",
       "      <td>57</td>\n",
       "      <td>618</td>\n",
       "      <td>23</td>\n",
       "      <td>322</td>\n",
       "    </tr>\n",
       "    <tr>\n",
       "      <th>2020-04-05</th>\n",
       "      <td>1308</td>\n",
       "      <td>35</td>\n",
       "      <td>23</td>\n",
       "      <td>58</td>\n",
       "      <td>676</td>\n",
       "      <td>24</td>\n",
       "      <td>382</td>\n",
       "    </tr>\n",
       "    <tr>\n",
       "      <th>2020-04-06</th>\n",
       "      <td>1344</td>\n",
       "      <td>20</td>\n",
       "      <td>16</td>\n",
       "      <td>36</td>\n",
       "      <td>712</td>\n",
       "      <td>27</td>\n",
       "      <td>449</td>\n",
       "    </tr>\n",
       "    <tr>\n",
       "      <th>2020-04-07</th>\n",
       "      <td>1409</td>\n",
       "      <td>39</td>\n",
       "      <td>26</td>\n",
       "      <td>65</td>\n",
       "      <td>776</td>\n",
       "      <td>27</td>\n",
       "      <td>518</td>\n",
       "    </tr>\n",
       "    <tr>\n",
       "      <th>2020-04-08</th>\n",
       "      <td>1423</td>\n",
       "      <td>9</td>\n",
       "      <td>5</td>\n",
       "      <td>14</td>\n",
       "      <td>876</td>\n",
       "      <td>29</td>\n",
       "      <td>518</td>\n",
       "    </tr>\n",
       "  </tbody>\n",
       "</table>\n",
       "</div>"
      ],
      "text/plain": [
       "            cum_cases  Confirmed_count  Probable_count  Daily_count  \\\n",
       "2020-04-04       1250               38              19           57   \n",
       "2020-04-05       1308               35              23           58   \n",
       "2020-04-06       1344               20              16           36   \n",
       "2020-04-07       1409               39              26           65   \n",
       "2020-04-08       1423                9               5           14   \n",
       "\n",
       "            Active_cum  Died_cum  Recovered_cum  \n",
       "2020-04-04         618        23            322  \n",
       "2020-04-05         676        24            382  \n",
       "2020-04-06         712        27            449  \n",
       "2020-04-07         776        27            518  \n",
       "2020-04-08         876        29            518  "
      ]
     },
     "execution_count": null,
     "metadata": {},
     "output_type": "execute_result"
    }
   ],
   "source": [
    "ab_totals.tail()"
   ]
  },
  {
   "cell_type": "code",
   "execution_count": null,
   "metadata": {},
   "outputs": [
    {
     "data": {
      "text/html": [
       "<div>\n",
       "<style scoped>\n",
       "    .dataframe tbody tr th:only-of-type {\n",
       "        vertical-align: middle;\n",
       "    }\n",
       "\n",
       "    .dataframe tbody tr th {\n",
       "        vertical-align: top;\n",
       "    }\n",
       "\n",
       "    .dataframe thead th {\n",
       "        text-align: right;\n",
       "    }\n",
       "</style>\n",
       "<table border=\"1\" class=\"dataframe\">\n",
       "  <thead>\n",
       "    <tr style=\"text-align: right;\">\n",
       "      <th></th>\n",
       "      <th>Calgary_cumulative</th>\n",
       "      <th>Central_cumulative</th>\n",
       "      <th>Edmont_cumulative</th>\n",
       "      <th>North_cumulative</th>\n",
       "      <th>South_cumulative</th>\n",
       "      <th>Unknown_cumulative</th>\n",
       "    </tr>\n",
       "  </thead>\n",
       "  <tbody>\n",
       "    <tr>\n",
       "      <th>2020-04-04</th>\n",
       "      <td>778</td>\n",
       "      <td>61</td>\n",
       "      <td>315</td>\n",
       "      <td>75</td>\n",
       "      <td>19</td>\n",
       "      <td>2</td>\n",
       "    </tr>\n",
       "    <tr>\n",
       "      <th>2020-04-05</th>\n",
       "      <td>801</td>\n",
       "      <td>65</td>\n",
       "      <td>340</td>\n",
       "      <td>79</td>\n",
       "      <td>21</td>\n",
       "      <td>2</td>\n",
       "    </tr>\n",
       "    <tr>\n",
       "      <th>2020-04-06</th>\n",
       "      <td>821</td>\n",
       "      <td>65</td>\n",
       "      <td>348</td>\n",
       "      <td>86</td>\n",
       "      <td>22</td>\n",
       "      <td>2</td>\n",
       "    </tr>\n",
       "    <tr>\n",
       "      <th>2020-04-07</th>\n",
       "      <td>854</td>\n",
       "      <td>72</td>\n",
       "      <td>364</td>\n",
       "      <td>94</td>\n",
       "      <td>23</td>\n",
       "      <td>2</td>\n",
       "    </tr>\n",
       "    <tr>\n",
       "      <th>2020-04-08</th>\n",
       "      <td>860</td>\n",
       "      <td>72</td>\n",
       "      <td>368</td>\n",
       "      <td>95</td>\n",
       "      <td>26</td>\n",
       "      <td>2</td>\n",
       "    </tr>\n",
       "  </tbody>\n",
       "</table>\n",
       "</div>"
      ],
      "text/plain": [
       "            Calgary_cumulative  Central_cumulative  Edmont_cumulative  \\\n",
       "2020-04-04                 778                  61                315   \n",
       "2020-04-05                 801                  65                340   \n",
       "2020-04-06                 821                  65                348   \n",
       "2020-04-07                 854                  72                364   \n",
       "2020-04-08                 860                  72                368   \n",
       "\n",
       "            North_cumulative  South_cumulative  Unknown_cumulative  \n",
       "2020-04-04                75                19                   2  \n",
       "2020-04-05                79                21                   2  \n",
       "2020-04-06                86                22                   2  \n",
       "2020-04-07                94                23                   2  \n",
       "2020-04-08                95                26                   2  "
      ]
     },
     "execution_count": null,
     "metadata": {},
     "output_type": "execute_result"
    }
   ],
   "source": [
    "ab_regions.tail()"
   ]
  },
  {
   "cell_type": "code",
   "execution_count": null,
   "metadata": {},
   "outputs": [
    {
     "data": {
      "text/html": [
       "<div>\n",
       "<style scoped>\n",
       "    .dataframe tbody tr th:only-of-type {\n",
       "        vertical-align: middle;\n",
       "    }\n",
       "\n",
       "    .dataframe tbody tr th {\n",
       "        vertical-align: top;\n",
       "    }\n",
       "\n",
       "    .dataframe thead th {\n",
       "        text-align: right;\n",
       "    }\n",
       "</style>\n",
       "<table border=\"1\" class=\"dataframe\">\n",
       "  <thead>\n",
       "    <tr style=\"text-align: right;\">\n",
       "      <th></th>\n",
       "      <th>test_count</th>\n",
       "    </tr>\n",
       "  </thead>\n",
       "  <tbody>\n",
       "    <tr>\n",
       "      <th>2020-04-04</th>\n",
       "      <td>1737</td>\n",
       "    </tr>\n",
       "    <tr>\n",
       "      <th>2020-04-05</th>\n",
       "      <td>1112</td>\n",
       "    </tr>\n",
       "    <tr>\n",
       "      <th>2020-04-06</th>\n",
       "      <td>1129</td>\n",
       "    </tr>\n",
       "    <tr>\n",
       "      <th>2020-04-07</th>\n",
       "      <td>1319</td>\n",
       "    </tr>\n",
       "    <tr>\n",
       "      <th>2020-04-08</th>\n",
       "      <td>459</td>\n",
       "    </tr>\n",
       "  </tbody>\n",
       "</table>\n",
       "</div>"
      ],
      "text/plain": [
       "            test_count\n",
       "2020-04-04        1737\n",
       "2020-04-05        1112\n",
       "2020-04-06        1129\n",
       "2020-04-07        1319\n",
       "2020-04-08         459"
      ]
     },
     "execution_count": null,
     "metadata": {},
     "output_type": "execute_result"
    }
   ],
   "source": [
    "ab_testing.tail()"
   ]
  },
  {
   "cell_type": "markdown",
   "metadata": {},
   "source": [
    "These are all pandas DataFrames. For more info on using pandas check out the pandas [cookbook](https://pandas.pydata.org/pandas-docs/stable/user_guide/cookbook.html)."
   ]
  },
  {
   "cell_type": "markdown",
   "metadata": {},
   "source": [
    "## analysis\n",
    "\n",
    "> these are functions that I have started working on for some quick analyses of the data. The main one being doubling rates\n",
    "\n",
    "### Doubling times\n",
    "\n",
    "the `calculate_doublingtimes` function returns 2 columns.\n",
    "\n",
    "> `dtime` is how many days our count has been doubling from the first reported case to get to todays case count\n",
    "\n",
    "> `dtime_rw` is a rolling window calcualtion. So if you window is 6 days it looks at what our doubling rate, starting from the case count 6 days ago, would have to be to get to todays case count.\n",
    "\n",
    "I started off looking at the rolling window calculation. However the more I look into it the more I'm not happy with using the rolling window. Our information about Covid-19 cases are changing so rapidly, that the rolling window calculation tends to be too noisy and too optimistic to be useful. We can calculate both below and see what they look like"
   ]
  },
  {
   "cell_type": "code",
   "execution_count": null,
   "metadata": {},
   "outputs": [
    {
     "data": {
      "text/html": [
       "<div>\n",
       "<style scoped>\n",
       "    .dataframe tbody tr th:only-of-type {\n",
       "        vertical-align: middle;\n",
       "    }\n",
       "\n",
       "    .dataframe tbody tr th {\n",
       "        vertical-align: top;\n",
       "    }\n",
       "\n",
       "    .dataframe thead th {\n",
       "        text-align: right;\n",
       "    }\n",
       "</style>\n",
       "<table border=\"1\" class=\"dataframe\">\n",
       "  <thead>\n",
       "    <tr style=\"text-align: right;\">\n",
       "      <th></th>\n",
       "      <th>dtime</th>\n",
       "      <th>dtime_rw</th>\n",
       "    </tr>\n",
       "  </thead>\n",
       "  <tbody>\n",
       "    <tr>\n",
       "      <th>2020-04-04</th>\n",
       "      <td>2.818897</td>\n",
       "      <td>7.119992</td>\n",
       "    </tr>\n",
       "    <tr>\n",
       "      <th>2020-04-05</th>\n",
       "      <td>2.897670</td>\n",
       "      <td>7.353586</td>\n",
       "    </tr>\n",
       "    <tr>\n",
       "      <th>2020-04-06</th>\n",
       "      <td>2.982973</td>\n",
       "      <td>9.613334</td>\n",
       "    </tr>\n",
       "    <tr>\n",
       "      <th>2020-04-07</th>\n",
       "      <td>3.059140</td>\n",
       "      <td>11.617191</td>\n",
       "    </tr>\n",
       "    <tr>\n",
       "      <th>2020-04-08</th>\n",
       "      <td>3.150442</td>\n",
       "      <td>17.176893</td>\n",
       "    </tr>\n",
       "  </tbody>\n",
       "</table>\n",
       "</div>"
      ],
      "text/plain": [
       "               dtime   dtime_rw\n",
       "2020-04-04  2.818897   7.119992\n",
       "2020-04-05  2.897670   7.353586\n",
       "2020-04-06  2.982973   9.613334\n",
       "2020-04-07  3.059140  11.617191\n",
       "2020-04-08  3.150442  17.176893"
      ]
     },
     "execution_count": null,
     "metadata": {},
     "output_type": "execute_result"
    }
   ],
   "source": [
    "totals_dt = covid_alberta.calculate_doublingtimes(ab_totals, col_suffix=\"cum_cases\", combine_df=False)\n",
    "regions_dt = covid_alberta.calculate_doublingtimes(ab_regions, col_suffix=\"cumulative\", combine_df=False)\n",
    "totals_dt.tail()"
   ]
  },
  {
   "cell_type": "code",
   "execution_count": null,
   "metadata": {},
   "outputs": [
    {
     "data": {
      "text/html": [
       "<div>\n",
       "<style scoped>\n",
       "    .dataframe tbody tr th:only-of-type {\n",
       "        vertical-align: middle;\n",
       "    }\n",
       "\n",
       "    .dataframe tbody tr th {\n",
       "        vertical-align: top;\n",
       "    }\n",
       "\n",
       "    .dataframe thead th {\n",
       "        text-align: right;\n",
       "    }\n",
       "</style>\n",
       "<table border=\"1\" class=\"dataframe\">\n",
       "  <thead>\n",
       "    <tr style=\"text-align: right;\">\n",
       "      <th></th>\n",
       "      <th>Calgary_dtime</th>\n",
       "      <th>Calgary_dtime_rw</th>\n",
       "      <th>Central_dtime</th>\n",
       "      <th>Central_dtime_rw</th>\n",
       "      <th>Edmont_dtime</th>\n",
       "      <th>Edmont_dtime_rw</th>\n",
       "      <th>North_dtime</th>\n",
       "      <th>North_dtime_rw</th>\n",
       "      <th>South_dtime</th>\n",
       "      <th>South_dtime_rw</th>\n",
       "      <th>Unknown_dtime</th>\n",
       "      <th>Unknown_dtime_rw</th>\n",
       "    </tr>\n",
       "  </thead>\n",
       "  <tbody>\n",
       "    <tr>\n",
       "      <th>2020-04-04</th>\n",
       "      <td>3.019693</td>\n",
       "      <td>7.296903</td>\n",
       "      <td>4.046714</td>\n",
       "      <td>14.735665</td>\n",
       "      <td>3.872364</td>\n",
       "      <td>5.864623</td>\n",
       "      <td>3.692514</td>\n",
       "      <td>8.141493</td>\n",
       "      <td>4.472769</td>\n",
       "      <td>7.609425</td>\n",
       "      <td>0</td>\n",
       "      <td>0</td>\n",
       "    </tr>\n",
       "    <tr>\n",
       "      <th>2020-04-05</th>\n",
       "      <td>3.110208</td>\n",
       "      <td>7.587349</td>\n",
       "      <td>4.151191</td>\n",
       "      <td>12.826571</td>\n",
       "      <td>3.956375</td>\n",
       "      <td>6.261873</td>\n",
       "      <td>3.807239</td>\n",
       "      <td>8.008629</td>\n",
       "      <td>4.553405</td>\n",
       "      <td>6.431655</td>\n",
       "      <td>0</td>\n",
       "      <td>0</td>\n",
       "    </tr>\n",
       "    <tr>\n",
       "      <th>2020-04-06</th>\n",
       "      <td>3.202070</td>\n",
       "      <td>9.970858</td>\n",
       "      <td>4.317239</td>\n",
       "      <td>18.637702</td>\n",
       "      <td>4.082834</td>\n",
       "      <td>8.636192</td>\n",
       "      <td>3.890285</td>\n",
       "      <td>7.959255</td>\n",
       "      <td>4.709120</td>\n",
       "      <td>6.000000</td>\n",
       "      <td>0</td>\n",
       "      <td>0</td>\n",
       "    </tr>\n",
       "    <tr>\n",
       "      <th>2020-04-07</th>\n",
       "      <td>3.286065</td>\n",
       "      <td>12.181763</td>\n",
       "      <td>4.376066</td>\n",
       "      <td>15.441420</td>\n",
       "      <td>4.189037</td>\n",
       "      <td>11.309771</td>\n",
       "      <td>3.966687</td>\n",
       "      <td>8.029614</td>\n",
       "      <td>4.863424</td>\n",
       "      <td>7.289318</td>\n",
       "      <td>0</td>\n",
       "      <td>0</td>\n",
       "    </tr>\n",
       "    <tr>\n",
       "      <th>2020-04-08</th>\n",
       "      <td>3.385243</td>\n",
       "      <td>19.656061</td>\n",
       "      <td>4.538143</td>\n",
       "      <td>20.885405</td>\n",
       "      <td>4.323639</td>\n",
       "      <td>15.835158</td>\n",
       "      <td>4.109679</td>\n",
       "      <td>9.387934</td>\n",
       "      <td>4.893159</td>\n",
       "      <td>8.566048</td>\n",
       "      <td>0</td>\n",
       "      <td>0</td>\n",
       "    </tr>\n",
       "  </tbody>\n",
       "</table>\n",
       "</div>"
      ],
      "text/plain": [
       "            Calgary_dtime  Calgary_dtime_rw  Central_dtime  Central_dtime_rw  \\\n",
       "2020-04-04       3.019693          7.296903       4.046714         14.735665   \n",
       "2020-04-05       3.110208          7.587349       4.151191         12.826571   \n",
       "2020-04-06       3.202070          9.970858       4.317239         18.637702   \n",
       "2020-04-07       3.286065         12.181763       4.376066         15.441420   \n",
       "2020-04-08       3.385243         19.656061       4.538143         20.885405   \n",
       "\n",
       "            Edmont_dtime  Edmont_dtime_rw  North_dtime  North_dtime_rw  \\\n",
       "2020-04-04      3.872364         5.864623     3.692514        8.141493   \n",
       "2020-04-05      3.956375         6.261873     3.807239        8.008629   \n",
       "2020-04-06      4.082834         8.636192     3.890285        7.959255   \n",
       "2020-04-07      4.189037        11.309771     3.966687        8.029614   \n",
       "2020-04-08      4.323639        15.835158     4.109679        9.387934   \n",
       "\n",
       "            South_dtime  South_dtime_rw  Unknown_dtime  Unknown_dtime_rw  \n",
       "2020-04-04     4.472769        7.609425              0                 0  \n",
       "2020-04-05     4.553405        6.431655              0                 0  \n",
       "2020-04-06     4.709120        6.000000              0                 0  \n",
       "2020-04-07     4.863424        7.289318              0                 0  \n",
       "2020-04-08     4.893159        8.566048              0                 0  "
      ]
     },
     "execution_count": null,
     "metadata": {},
     "output_type": "execute_result"
    }
   ],
   "source": [
    "regions_dt.tail()"
   ]
  },
  {
   "cell_type": "markdown",
   "metadata": {},
   "source": [
    "## Plots\n",
    "\n",
    "Here is some of the plots I've used for looking at the data. For this example I'm using matplotlib. Plotly creates nice plots but is a little harder to include in this documentation since it's hosted on github pages. If you head over to [my website](www.tyleracorn.com) I'll post the plotly code and example of the interactive plots there."
   ]
  },
  {
   "cell_type": "code",
   "execution_count": null,
   "metadata": {},
   "outputs": [
    {
     "data": {
      "image/png": "[encoded data removed]",
      "text/plain": [
       "<Figure size 576x432 with 1 Axes>"
      ]
     },
     "metadata": {
      "needs_background": "light"
     },
     "output_type": "display_data"
    }
   ],
   "source": [
    "import matplotlib.pyplot as plt\n",
    "\n",
    "# Set defaults and settings\n",
    "days_to_trim = 1\n",
    "date_fmt = \"%B %d\"\n",
    "\n",
    "# Grab the data we want for the plots and trim the last day off\n",
    "plt_totals = ab_totals[:-days_to_trim]\n",
    "plt_total_dt = totals_dt[:-days_to_trim]\n",
    "plt_regions = ab_regions[:-days_to_trim]\n",
    "plt_regions_dt = regions_dt[:-days_to_trim]\n",
    "\n",
    "# use a format dictionary so I only have to set them in one location\n",
    "\n",
    "fmt = {'alb': {'x_data': plt_totals['cum_cases'],\n",
    "               'y_data': plt_total_dt['dtime'],\n",
    "               'last_date': plt_totals.index.strftime(date_fmt)[-1],\n",
    "               'annot_x': plt_totals['cum_cases'][-1],\n",
    "               'annot_y': plt_total_dt['dtime'][-1],\n",
    "               'color': 'green',\n",
    "               'label': 'Alberta'},\n",
    "       'cal': {'x_data': plt_regions['Calgary_cumulative'],\n",
    "               'y_data': plt_regions_dt['Calgary_dtime'],\n",
    "               'last_date': plt_regions.index.strftime(date_fmt)[-1],\n",
    "               'annot_x': plt_regions['Calgary_cumulative'][-1],\n",
    "               'annot_y': plt_regions_dt['Calgary_dtime'][-1],\n",
    "               'color': 'orange',\n",
    "               'label': 'Calgary'},\n",
    "       'edm': {'x_data': plt_regions['Edmont_cumulative'],\n",
    "               'y_data': plt_regions_dt['Edmont_dtime'],\n",
    "               'last_date': plt_regions.index.strftime(date_fmt)[-1],\n",
    "               'annot_x': plt_regions['Edmont_cumulative'][-1],\n",
    "               'annot_y': plt_regions_dt['Edmont_dtime'][-1],\n",
    "               'color': 'blue', \n",
    "               'label': 'Edmonton'},\n",
    "      }\n",
    "\n",
    "# Setup the plot\n",
    "fig, ax = plt.subplots(figsize=(8,6))\n",
    "\n",
    "# Create the scatter plots using a loop and the dictionary above\n",
    "for rgn in ['alb', 'cal', 'edm']:\n",
    "    ax.plot(fmt[rgn]['x_data'], fmt[rgn]['y_data'], \n",
    "            c=fmt[rgn]['color'], label=fmt[rgn]['label'])\n",
    "\n",
    "# add an annotation to the last point\n",
    "for rgn in ['alb', 'cal', 'edm']:\n",
    "    ax.plot(fmt[rgn]['annot_x'], fmt[rgn]['annot_y'], 'o', c=fmt[rgn]['color'])\n",
    "    ax.text(fmt[rgn]['annot_x'] - 60, fmt[rgn]['annot_y'] + 0.08, fmt[rgn]['last_date'], \n",
    "            fontdict={'color': fmt[rgn]['color'], 'size': 8, 'weight': 'bold'})\n",
    "# fancy up the plot\n",
    "ax.grid(which='both', linestyle=(0, (5, 3)), lw=0.5)\n",
    "ax.legend(frameon=True, fancybox=True, shadow=True)\n",
    "ax.set_ylabel('Doubling Time (Days)', fontdict={'size': 9, 'family': 'sans-serif', 'style':'italic'})\n",
    "ax.set_xlabel('Cumulative Case Count', fontdict={'size': 9, 'family': 'sans-serif', 'style':'italic'})\n",
    "title = ax.set_title(\"Alberta: Doubling Time by Cumulative Cases\",\n",
    "                     fontdict={'fontsize': 10, 'family': 'sans-serif', 'fontweight': 'bold'})"
   ]
  },
  {
   "cell_type": "code",
   "execution_count": null,
   "metadata": {},
   "outputs": [
    {
     "name": "stdout",
     "output_type": "stream",
     "text": [
      "Converted 00_webscraper.ipynb.\n",
      "Converted 01_analysis.ipynb.\n",
      "Converted index.ipynb.\n"
     ]
    }
   ],
   "source": [
    "#hide\n",
    "from nbdev.export import notebook2script\n",
    "notebook2script()"
   ]
  },
  {
   "cell_type": "code",
   "execution_count": null,
   "metadata": {},
   "outputs": [],
   "source": []
  }
 ],
 "metadata": {
  "kernelspec": {
   "display_name": "Python 3",
   "language": "python",
   "name": "python3"
  }
 },
 "nbformat": 4,
 "nbformat_minor": 4
}
