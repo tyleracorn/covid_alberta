{
 "cells": [
  {
   "cell_type": "code",
   "execution_count": null,
   "metadata": {},
   "outputs": [],
   "source": [
    "#hide\n",
    "%load_ext autoreload\n",
    "%autoreload 2"
   ]
  },
  {
   "cell_type": "code",
   "execution_count": null,
   "metadata": {},
   "outputs": [],
   "source": [
    "#hide\n",
    "from covid_alberta.webscraper import *\n",
    "from covid_alberta.analysis import *"
   ]
  },
  {
   "cell_type": "markdown",
   "metadata": {},
   "source": [
    "# Covid Alberta\n",
    "\n",
    "> This is a small package that I have developed to look at some of the alberta specific covid data.\n",
    "> There are two parts to the package. the webscraper and the data analysis"
   ]
  },
  {
   "cell_type": "markdown",
   "metadata": {},
   "source": [
    "This file will become your README and also the index of your documentation."
   ]
  },
  {
   "cell_type": "markdown",
   "metadata": {},
   "source": [
    "## Install"
   ]
  },
  {
   "cell_type": "markdown",
   "metadata": {},
   "source": [
    "`pip install covid_alberta`"
   ]
  },
  {
   "cell_type": "markdown",
   "metadata": {},
   "source": [
    "## Web Scraper\n",
    "\n",
    "The `albertaC19` is a class that scrapes the updated stats off of the [alberta Covid-19 website](https://covid19stats.alberta.ca/).\n",
    "\n",
    "example of using the webscraper\n"
   ]
  },
  {
   "cell_type": "code",
   "execution_count": null,
   "metadata": {},
   "outputs": [],
   "source": [
    "abC19scaper = albertaC19()"
   ]
  },
  {
   "cell_type": "code",
   "execution_count": null,
   "metadata": {},
   "outputs": [
    {
     "data": {
      "text/html": [
       "<div>\n",
       "<style scoped>\n",
       "    .dataframe tbody tr th:only-of-type {\n",
       "        vertical-align: middle;\n",
       "    }\n",
       "\n",
       "    .dataframe tbody tr th {\n",
       "        vertical-align: top;\n",
       "    }\n",
       "\n",
       "    .dataframe thead th {\n",
       "        text-align: right;\n",
       "    }\n",
       "</style>\n",
       "<table border=\"1\" class=\"dataframe\">\n",
       "  <thead>\n",
       "    <tr style=\"text-align: right;\">\n",
       "      <th></th>\n",
       "      <th>cum_cases</th>\n",
       "      <th>Confirmed_count</th>\n",
       "      <th>Probable_count</th>\n",
       "      <th>Daily_count</th>\n",
       "      <th>Active_cum</th>\n",
       "      <th>Died_cum</th>\n",
       "      <th>Recovered_cum</th>\n",
       "    </tr>\n",
       "  </thead>\n",
       "  <tbody>\n",
       "    <tr>\n",
       "      <th>2020-04-03</th>\n",
       "      <td>1200</td>\n",
       "      <td>38</td>\n",
       "      <td>36</td>\n",
       "      <td>74</td>\n",
       "      <td>650</td>\n",
       "      <td>19</td>\n",
       "      <td>267</td>\n",
       "    </tr>\n",
       "    <tr>\n",
       "      <th>2020-04-04</th>\n",
       "      <td>1258</td>\n",
       "      <td>38</td>\n",
       "      <td>20</td>\n",
       "      <td>58</td>\n",
       "      <td>704</td>\n",
       "      <td>24</td>\n",
       "      <td>319</td>\n",
       "    </tr>\n",
       "    <tr>\n",
       "      <th>2020-04-05</th>\n",
       "      <td>1316</td>\n",
       "      <td>35</td>\n",
       "      <td>23</td>\n",
       "      <td>58</td>\n",
       "      <td>762</td>\n",
       "      <td>24</td>\n",
       "      <td>380</td>\n",
       "    </tr>\n",
       "    <tr>\n",
       "      <th>2020-04-06</th>\n",
       "      <td>1351</td>\n",
       "      <td>20</td>\n",
       "      <td>15</td>\n",
       "      <td>35</td>\n",
       "      <td>797</td>\n",
       "      <td>26</td>\n",
       "      <td>447</td>\n",
       "    </tr>\n",
       "    <tr>\n",
       "      <th>2020-04-07</th>\n",
       "      <td>1373</td>\n",
       "      <td>9</td>\n",
       "      <td>13</td>\n",
       "      <td>22</td>\n",
       "      <td>900</td>\n",
       "      <td>26</td>\n",
       "      <td>447</td>\n",
       "    </tr>\n",
       "  </tbody>\n",
       "</table>\n",
       "</div>"
      ],
      "text/plain": [
       "            cum_cases  Confirmed_count  Probable_count  Daily_count  \\\n",
       "2020-04-03       1200               38              36           74   \n",
       "2020-04-04       1258               38              20           58   \n",
       "2020-04-05       1316               35              23           58   \n",
       "2020-04-06       1351               20              15           35   \n",
       "2020-04-07       1373                9              13           22   \n",
       "\n",
       "            Active_cum  Died_cum  Recovered_cum  \n",
       "2020-04-03         650        19            267  \n",
       "2020-04-04         704        24            319  \n",
       "2020-04-05         762        24            380  \n",
       "2020-04-06         797        26            447  \n",
       "2020-04-07         900        26            447  "
      ]
     },
     "execution_count": null,
     "metadata": {},
     "output_type": "execute_result"
    }
   ],
   "source": [
    "abTotal, abRegion, abTesting = abC19scaper.scrape_all(return_dataframes=True)\n",
    "abTotal.tail()"
   ]
  },
  {
   "cell_type": "markdown",
   "metadata": {},
   "source": [
    "## Data analysis\n",
    "\n",
    "Currently I am developing the stats and plotting packages in the CovidAlberta.ipynb\n",
    "I will convert it over into a more formal package with functions as I finish it up. Some of the stats I am looking at are the cumulative case increase across Alberta as well as calculating the doubling rate of the case counts. \n",
    "\n",
    "example for calculating the stats"
   ]
  },
  {
   "cell_type": "code",
   "execution_count": null,
   "metadata": {},
   "outputs": [
    {
     "data": {
      "text/html": [
       "<div>\n",
       "<style scoped>\n",
       "    .dataframe tbody tr th:only-of-type {\n",
       "        vertical-align: middle;\n",
       "    }\n",
       "\n",
       "    .dataframe tbody tr th {\n",
       "        vertical-align: top;\n",
       "    }\n",
       "\n",
       "    .dataframe thead th {\n",
       "        text-align: right;\n",
       "    }\n",
       "</style>\n",
       "<table border=\"1\" class=\"dataframe\">\n",
       "  <thead>\n",
       "    <tr style=\"text-align: right;\">\n",
       "      <th></th>\n",
       "      <th>dtime</th>\n",
       "      <th>dtime_rw</th>\n",
       "    </tr>\n",
       "  </thead>\n",
       "  <tbody>\n",
       "    <tr>\n",
       "      <th>2020-04-03</th>\n",
       "      <td>2.737364</td>\n",
       "      <td>7.191175</td>\n",
       "    </tr>\n",
       "    <tr>\n",
       "      <th>2020-04-04</th>\n",
       "      <td>2.816377</td>\n",
       "      <td>7.129371</td>\n",
       "    </tr>\n",
       "    <tr>\n",
       "      <th>2020-04-05</th>\n",
       "      <td>2.895210</td>\n",
       "      <td>7.378968</td>\n",
       "    </tr>\n",
       "    <tr>\n",
       "      <th>2020-04-06</th>\n",
       "      <td>2.980823</td>\n",
       "      <td>9.701638</td>\n",
       "    </tr>\n",
       "    <tr>\n",
       "      <th>2020-04-07</th>\n",
       "      <td>3.070099</td>\n",
       "      <td>12.835158</td>\n",
       "    </tr>\n",
       "  </tbody>\n",
       "</table>\n",
       "</div>"
      ],
      "text/plain": [
       "               dtime   dtime_rw\n",
       "2020-04-03  2.737364   7.191175\n",
       "2020-04-04  2.816377   7.129371\n",
       "2020-04-05  2.895210   7.378968\n",
       "2020-04-06  2.980823   9.701638\n",
       "2020-04-07  3.070099  12.835158"
      ]
     },
     "execution_count": null,
     "metadata": {},
     "output_type": "execute_result"
    }
   ],
   "source": [
    "totals_dt = calculate_doublingtimes(abTotal, col_suffix=\"cum_cases\", combine_df=False)\n",
    "totals_dt.tail()"
   ]
  },
  {
   "cell_type": "markdown",
   "metadata": {},
   "source": [
    "I have seen a lot of graphs showing the cumulative curve with as well as the \"2, 3, and 4 day doubling rate\" curves. Which made me think, why not just calculate that rate? If you calculate the actual doubling rate you can start looking at some interesting things such as how our doubling rate is changing compared to the cumulative case count? Here's an example of that image.\n",
    "\n",
    "![doubling rate by case count](https://github.com/tyleracorn/covid_alberta/raw/master/images/AlbertaDTimeIncrease_byCaseCount.png \"Doubling Rate by Case Count\")"
   ]
  },
  {
   "cell_type": "code",
   "execution_count": null,
   "metadata": {},
   "outputs": [],
   "source": []
  }
 ],
 "metadata": {
  "kernelspec": {
   "display_name": "Python 3",
   "language": "python",
   "name": "python3"
  }
 },
 "nbformat": 4,
 "nbformat_minor": 4
}
