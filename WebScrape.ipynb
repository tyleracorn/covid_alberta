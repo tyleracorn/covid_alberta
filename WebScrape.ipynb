{
 "cells": [
  {
   "cell_type": "code",
   "execution_count": 85,
   "metadata": {},
   "outputs": [],
   "source": [
    "import requests\n",
    "from bs4 import BeautifulSoup\n",
    "import json"
   ]
  },
  {
   "cell_type": "code",
   "execution_count": 2,
   "metadata": {},
   "outputs": [],
   "source": [
    "URL = 'https://covid19stats.alberta.ca/'\n",
    "page = requests.get(URL)\n",
    "\n",
    "soup = BeautifulSoup(page.content, 'html.parser')"
   ]
  },
  {
   "cell_type": "code",
   "execution_count": 171,
   "metadata": {},
   "outputs": [],
   "source": [
    "results = soup.find(id='case-counts')\n",
    "caseCountResults = results.find_all('script')\n",
    "\n",
    "#for idx in len(caseCountResults)\n",
    "caseCountCum = json.loads(caseCountResults[0].string)\n",
    "caseCountByDat = json.loads(caseCountResults[2].string)\n",
    "albertaTotalData = {'cumulative': {'date':caseCountCum['x']['data'][0]['x'],\n",
    "                                   'cum_cases':caseCountCum['x']['data'][0]['y']},\n",
    "                     'byDay':{'date':caseCountByDat['x']['data'][0]['x'],\n",
    "                              'new_cases':caseCountByDat['x']['data'][0]['y']}\n",
    "                   }"
   ]
  },
  {
   "cell_type": "code",
   "execution_count": 198,
   "metadata": {},
   "outputs": [],
   "source": [
    "aTotal = json.dumps(albertaTotalData)\n",
    "f = open(\"albertaTotalData.json\",\"w\")\n",
    "f.write(aTotal)\n",
    "f.close()"
   ]
  },
  {
   "cell_type": "code",
   "execution_count": 172,
   "metadata": {},
   "outputs": [],
   "source": [
    "results = soup.find(id='geospatial')\n",
    "regionCaseCountResults = results.find_all('script')\n",
    "regionCCDict = json.loads(regionCaseCountResults[0].string)['x']\n",
    "\n",
    "zoneLen = len(regionCCDict['data'])\n",
    "albertaRegionData = dict()\n",
    "for idx in range (zoneLen):\n",
    "    zoneName = regionCCDict['data'][idx]['name']\n",
    "    albertaRegionData[zoneName] = {'date':regionCCDict['data'][idx]['x'],\n",
    "                                   'new_cases':regionCCDict['data'][idx]['y']}"
   ]
  },
  {
   "cell_type": "code",
   "execution_count": 199,
   "metadata": {},
   "outputs": [],
   "source": [
    "aRegion = json.dumps(albertaRegionData)\n",
    "f = open(\"albertaRegionData.json\",\"w\")\n",
    "f.write(aRegion)\n",
    "f.close()"
   ]
  },
  {
   "cell_type": "code",
   "execution_count": 194,
   "metadata": {},
   "outputs": [],
   "source": [
    "results = soup.find(id='laboratory-testing')\n",
    "testingResults = results.find_all('script')\n",
    "\n",
    "testingDict = json.loads(testingResults[0].string)['x']\n",
    "testingDict.keys()\n",
    "albertaTestingData = dict()\n",
    "for idx in range(len(testingDict['data'])):\n",
    "    albertaTestingData[testingDict['data'][idx]['name']] = {'date': testingDict['data'][idx]['x'],\n",
    "                                                            'n_tests': testingDict['data'][idx]['y']}"
   ]
  },
  {
   "cell_type": "code",
   "execution_count": 195,
   "metadata": {},
   "outputs": [],
   "source": [
    "aTest = json.dumps(albertaTestingData)\n",
    "f = open(\"albertaTestingData.json\",\"w\")\n",
    "f.write(aTest)\n",
    "f.close()"
   ]
  },
  {
   "cell_type": "code",
   "execution_count": null,
   "metadata": {},
   "outputs": [],
   "source": []
  }
 ],
 "metadata": {
  "kernelspec": {
   "display_name": "Python 3",
   "language": "python",
   "name": "python3"
  },
  "language_info": {
   "codemirror_mode": {
    "name": "ipython",
    "version": 3
   },
   "file_extension": ".py",
   "mimetype": "text/x-python",
   "name": "python",
   "nbconvert_exporter": "python",
   "pygments_lexer": "ipython3",
   "version": "3.8.2"
  }
 },
 "nbformat": 4,
 "nbformat_minor": 4
}
