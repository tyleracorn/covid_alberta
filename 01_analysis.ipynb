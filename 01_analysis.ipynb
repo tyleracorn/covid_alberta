{
 "cells": [
  {
   "cell_type": "code",
   "execution_count": null,
   "metadata": {},
   "outputs": [],
   "source": [
    "# default_exp analysis"
   ]
  },
  {
   "cell_type": "code",
   "execution_count": null,
   "metadata": {},
   "outputs": [
    {
     "name": "stdout",
     "output_type": "stream",
     "text": [
      "The autoreload extension is already loaded. To reload it, use:\n",
      "  %reload_ext autoreload\n"
     ]
    }
   ],
   "source": [
    "%load_ext autoreload\n",
    "%autoreload 2"
   ]
  },
  {
   "cell_type": "markdown",
   "metadata": {},
   "source": [
    "# analysis\n",
    "\n",
    "> Some functions for doing analyses on the alberta covid data"
   ]
  },
  {
   "cell_type": "code",
   "execution_count": null,
   "metadata": {},
   "outputs": [],
   "source": [
    "#export\n",
    "import pandas as pd\n",
    "import numpy as np"
   ]
  },
  {
   "cell_type": "code",
   "execution_count": null,
   "metadata": {},
   "outputs": [],
   "source": [
    "#hide\n",
    "from nbdev.showdoc import *"
   ]
  },
  {
   "cell_type": "code",
   "execution_count": null,
   "metadata": {},
   "outputs": [],
   "source": [
    "#export\n",
    "def calculate_doublingtimes(df:pd.DataFrame, col_suffix:str='cumCases',\n",
    "                            median_incubation_period:float=5.2, combine_df=True):\n",
    "    '''\n",
    "    given a dataframe look through and calculate the doubling times. Both doubling time based\n",
    "    on the first occurance of covid-19 and doubling time based on a rolling window which\n",
    "    looks back as far as the median incubation period (converted to integer using ceiling)\n",
    "\n",
    "    Parameters:\n",
    "    \n",
    "        df: pd.DataFrame\n",
    "            the dataframe containing the region data\n",
    "        col_suffix:str\n",
    "            cumulative column suffix used to filter the dataframe to only grab cumulative data\n",
    "            uses pd.DataFrame.filter(like=col_suffix)\n",
    "        combine_df:bool\n",
    "            if True will return a new dataframe with the doubling time data joined with the old dataframe\n",
    "            if False will only return a dataframe with the doubling time data\n",
    "    \n",
    "    ------\n",
    "    Return:\n",
    "    \n",
    "        regionDF_doublingtime: DataFrame\n",
    "    '''\n",
    "    median_incub_prd = np.ceil(median_incubation_period)\n",
    "    filtered_df = df.filter(like=col_suffix)\n",
    "    doubling_time = dict()\n",
    "    for label, cum_data in filtered_df.iteritems():\n",
    "        start_idx = cum_data.to_numpy().nonzero()[0][0] # assumes date is used as df index\n",
    "        min_idx_rw = start_idx + median_incub_prd\n",
    "        start_cases = cum_data.iloc[start_idx]\n",
    "        start_date = cum_data.index[start_idx]\n",
    "\n",
    "        dt_values = [0]\n",
    "        dt_key = label.replace(col_suffix, 'dtime')\n",
    "        dt_rw_values = [0]\n",
    "        dt_rw_key = label.replace(col_suffix, 'dtime_rw')\n",
    "\n",
    "        for idx in range(1, len(cum_data)):\n",
    "            new_cases = cum_data.iloc[idx]\n",
    "            new_date = cum_data.index[idx]\n",
    "\n",
    "            # calculate the doubling time\n",
    "            t_delta = new_date - start_date\n",
    "            c_delta = new_cases / start_cases\n",
    "\n",
    "            dtime = 0 # default\n",
    "            if c_delta > 1: # log(1) = 0, log(x) with x: 0 < x > 1 is equal to a negative number\n",
    "                dtime = (t_delta.days * np.log(2))/(np.log(c_delta))\n",
    "            dt_values.append(dtime)\n",
    "\n",
    "            # Rolling window calculation\n",
    "            dtime_rw = 0 # default\n",
    "            if idx >= min_idx_rw:\n",
    "                idx_rw = idx - 6\n",
    "                old_cases_rw = cum_data.iloc[idx_rw]\n",
    "                old_date_rw = cum_data.index[idx_rw]\n",
    "                # calculate the doubling time\n",
    "                t_delta_rw = new_date - old_date_rw\n",
    "                c_delta_rw = new_cases / old_cases_rw\n",
    "                if c_delta_rw > 1: # log(1) = 0, log(x) with x: 0 < x > 1 is equal to a negative number\n",
    "                    dtime_rw = (t_delta_rw.days * np.log(2))/(np.log(c_delta_rw))\n",
    "            dt_rw_values.append(dtime_rw)\n",
    "\n",
    "        doubling_time[dt_key] = dt_values\n",
    "        doubling_time[dt_rw_key] = dt_rw_values\n",
    "    df_dt = pd.DataFrame(doubling_time, index=filtered_df.index)\n",
    "    if combine_df:\n",
    "        return df.join(df_dt)\n",
    "    return df_dt"
   ]
  },
  {
   "cell_type": "code",
   "execution_count": null,
   "metadata": {},
   "outputs": [
    {
     "data": {
      "text/markdown": [
       "<h4 id=\"calculate_doublingtimes\" class=\"doc_header\"><code>calculate_doublingtimes</code><a href=\"__main__.py#L2\" class=\"source_link\" style=\"float:right\">[source]</a></h4>\n",
       "\n",
       "> <code>calculate_doublingtimes</code>(**`df`**:`DataFrame`, **`col_suffix`**:`str`=*`'cumCases'`*, **`median_incubation_period`**:`float`=*`5.2`*, **`combine_df`**=*`True`*)\n",
       "\n",
       "given a dataframe look through and calculate the doubling times. Both doubling time based\n",
       "on the first occurance of covid-19 and doubling time based on a rolling window which\n",
       "looks back as far as the median incubation period (converted to integer using ceiling)\n",
       "\n",
       "Parameters:\n",
       "\n",
       "    df: pd.DataFrame\n",
       "        the dataframe containing the region data\n",
       "    col_suffix:str\n",
       "        cumulative column suffix used to filter the dataframe to only grab cumulative data\n",
       "        uses pd.DataFrame.filter(like=col_suffix)\n",
       "    combine_df:bool\n",
       "        if True will return a new dataframe with the doubling time data joined with the old dataframe\n",
       "        if False will only return a dataframe with the doubling time data\n",
       "\n",
       "------\n",
       "Return:\n",
       "\n",
       "    regionDF_doublingtime: DataFrame"
      ],
      "text/plain": [
       "<IPython.core.display.Markdown object>"
      ]
     },
     "metadata": {},
     "output_type": "display_data"
    }
   ],
   "source": [
    "show_doc(calculate_doublingtimes)"
   ]
  },
  {
   "cell_type": "code",
   "execution_count": null,
   "metadata": {},
   "outputs": [
    {
     "name": "stdout",
     "output_type": "stream",
     "text": [
      "Converted 00_webscraper.ipynb.\n",
      "Converted 01_analysis.ipynb.\n",
      "Converted index.ipynb.\n"
     ]
    }
   ],
   "source": [
    "#hide\n",
    "from nbdev.export import notebook2script\n",
    "notebook2script()"
   ]
  },
  {
   "cell_type": "code",
   "execution_count": null,
   "metadata": {},
   "outputs": [],
   "source": []
  }
 ],
 "metadata": {
  "kernelspec": {
   "display_name": "Python 3",
   "language": "python",
   "name": "python3"
  }
 },
 "nbformat": 4,
 "nbformat_minor": 4
}
